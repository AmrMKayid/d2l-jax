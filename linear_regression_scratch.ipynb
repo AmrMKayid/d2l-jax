{
  "nbformat": 4,
  "nbformat_minor": 0,
  "metadata": {
    "kernelspec": {
      "display_name": "Python 3",
      "name": "python3"
    },
    "language_info": {
      "name": "python"
    },
    "colab": {
      "name": "linear-regression-scratch.ipynb",
      "provenance": [],
      "collapsed_sections": [],
      "include_colab_link": true
    }
  },
  "cells": [
    {
      "cell_type": "markdown",
      "metadata": {
        "id": "view-in-github",
        "colab_type": "text"
      },
      "source": [
        "<a href=\"https://colab.research.google.com/github/AmrMKayid/d2l-jax/blob/main/linear_regression_scratch.ipynb\" target=\"_parent\"><img src=\"https://colab.research.google.com/assets/colab-badge.svg\" alt=\"Open In Colab\"/></a>"
      ]
    },
    {
      "cell_type": "markdown",
      "metadata": {
        "id": "oSZ0PIzUisLF"
      },
      "source": [
        "The following additional libraries are needed to run this\n",
        "notebook. Note that running on Colab is experimental, please report a Github\n",
        "issue if you have any problem."
      ]
    },
    {
      "cell_type": "code",
      "metadata": {
        "id": "oh8ksrPGisLG",
        "outputId": "85e17c7f-9e5e-4667-98a4-3348a5c31eab",
        "colab": {
          "base_uri": "https://localhost:8080/"
        }
      },
      "source": [
        "!pip install d2l==0.15.1\n"
      ],
      "execution_count": 1,
      "outputs": [
        {
          "output_type": "stream",
          "text": [
            "Collecting d2l==0.15.1\n",
            "\u001b[?25l  Downloading https://files.pythonhosted.org/packages/28/fd/89b6b8fd34b4e2e54fadf5de6e8f63fd96e0c14d2b6c81ba40e9edcd964a/d2l-0.15.1-py3-none-any.whl (61kB)\n",
            "\r\u001b[K     |█████▍                          | 10kB 16.1MB/s eta 0:00:01\r\u001b[K     |██████████▊                     | 20kB 2.8MB/s eta 0:00:01\r\u001b[K     |████████████████                | 30kB 3.5MB/s eta 0:00:01\r\u001b[K     |█████████████████████▍          | 40kB 3.9MB/s eta 0:00:01\r\u001b[K     |██████████████████████████▊     | 51kB 3.3MB/s eta 0:00:01\r\u001b[K     |████████████████████████████████| 61kB 2.5MB/s \n",
            "\u001b[?25hRequirement already satisfied: jupyter in /usr/local/lib/python3.6/dist-packages (from d2l==0.15.1) (1.0.0)\n",
            "Requirement already satisfied: numpy in /usr/local/lib/python3.6/dist-packages (from d2l==0.15.1) (1.18.5)\n",
            "Requirement already satisfied: pandas in /usr/local/lib/python3.6/dist-packages (from d2l==0.15.1) (1.1.4)\n",
            "Requirement already satisfied: matplotlib in /usr/local/lib/python3.6/dist-packages (from d2l==0.15.1) (3.2.2)\n",
            "Requirement already satisfied: ipykernel in /usr/local/lib/python3.6/dist-packages (from jupyter->d2l==0.15.1) (4.10.1)\n",
            "Requirement already satisfied: ipywidgets in /usr/local/lib/python3.6/dist-packages (from jupyter->d2l==0.15.1) (7.5.1)\n",
            "Requirement already satisfied: jupyter-console in /usr/local/lib/python3.6/dist-packages (from jupyter->d2l==0.15.1) (5.2.0)\n",
            "Requirement already satisfied: nbconvert in /usr/local/lib/python3.6/dist-packages (from jupyter->d2l==0.15.1) (5.6.1)\n",
            "Requirement already satisfied: qtconsole in /usr/local/lib/python3.6/dist-packages (from jupyter->d2l==0.15.1) (4.7.7)\n",
            "Requirement already satisfied: notebook in /usr/local/lib/python3.6/dist-packages (from jupyter->d2l==0.15.1) (5.3.1)\n",
            "Requirement already satisfied: python-dateutil>=2.7.3 in /usr/local/lib/python3.6/dist-packages (from pandas->d2l==0.15.1) (2.8.1)\n",
            "Requirement already satisfied: pytz>=2017.2 in /usr/local/lib/python3.6/dist-packages (from pandas->d2l==0.15.1) (2018.9)\n",
            "Requirement already satisfied: pyparsing!=2.0.4,!=2.1.2,!=2.1.6,>=2.0.1 in /usr/local/lib/python3.6/dist-packages (from matplotlib->d2l==0.15.1) (2.4.7)\n",
            "Requirement already satisfied: kiwisolver>=1.0.1 in /usr/local/lib/python3.6/dist-packages (from matplotlib->d2l==0.15.1) (1.3.1)\n",
            "Requirement already satisfied: cycler>=0.10 in /usr/local/lib/python3.6/dist-packages (from matplotlib->d2l==0.15.1) (0.10.0)\n",
            "Requirement already satisfied: ipython>=4.0.0 in /usr/local/lib/python3.6/dist-packages (from ipykernel->jupyter->d2l==0.15.1) (5.5.0)\n",
            "Requirement already satisfied: traitlets>=4.1.0 in /usr/local/lib/python3.6/dist-packages (from ipykernel->jupyter->d2l==0.15.1) (4.3.3)\n",
            "Requirement already satisfied: jupyter-client in /usr/local/lib/python3.6/dist-packages (from ipykernel->jupyter->d2l==0.15.1) (5.3.5)\n",
            "Requirement already satisfied: tornado>=4.0 in /usr/local/lib/python3.6/dist-packages (from ipykernel->jupyter->d2l==0.15.1) (5.1.1)\n",
            "Requirement already satisfied: widgetsnbextension~=3.5.0 in /usr/local/lib/python3.6/dist-packages (from ipywidgets->jupyter->d2l==0.15.1) (3.5.1)\n",
            "Requirement already satisfied: nbformat>=4.2.0 in /usr/local/lib/python3.6/dist-packages (from ipywidgets->jupyter->d2l==0.15.1) (5.0.8)\n",
            "Requirement already satisfied: pygments in /usr/local/lib/python3.6/dist-packages (from jupyter-console->jupyter->d2l==0.15.1) (2.6.1)\n",
            "Requirement already satisfied: prompt-toolkit<2.0.0,>=1.0.0 in /usr/local/lib/python3.6/dist-packages (from jupyter-console->jupyter->d2l==0.15.1) (1.0.18)\n",
            "Requirement already satisfied: testpath in /usr/local/lib/python3.6/dist-packages (from nbconvert->jupyter->d2l==0.15.1) (0.4.4)\n",
            "Requirement already satisfied: bleach in /usr/local/lib/python3.6/dist-packages (from nbconvert->jupyter->d2l==0.15.1) (3.2.1)\n",
            "Requirement already satisfied: defusedxml in /usr/local/lib/python3.6/dist-packages (from nbconvert->jupyter->d2l==0.15.1) (0.6.0)\n",
            "Requirement already satisfied: pandocfilters>=1.4.1 in /usr/local/lib/python3.6/dist-packages (from nbconvert->jupyter->d2l==0.15.1) (1.4.3)\n",
            "Requirement already satisfied: mistune<2,>=0.8.1 in /usr/local/lib/python3.6/dist-packages (from nbconvert->jupyter->d2l==0.15.1) (0.8.4)\n",
            "Requirement already satisfied: jinja2>=2.4 in /usr/local/lib/python3.6/dist-packages (from nbconvert->jupyter->d2l==0.15.1) (2.11.2)\n",
            "Requirement already satisfied: entrypoints>=0.2.2 in /usr/local/lib/python3.6/dist-packages (from nbconvert->jupyter->d2l==0.15.1) (0.3)\n",
            "Requirement already satisfied: jupyter-core in /usr/local/lib/python3.6/dist-packages (from nbconvert->jupyter->d2l==0.15.1) (4.6.3)\n",
            "Requirement already satisfied: ipython-genutils in /usr/local/lib/python3.6/dist-packages (from qtconsole->jupyter->d2l==0.15.1) (0.2.0)\n",
            "Requirement already satisfied: pyzmq>=17.1 in /usr/local/lib/python3.6/dist-packages (from qtconsole->jupyter->d2l==0.15.1) (19.0.2)\n",
            "Requirement already satisfied: qtpy in /usr/local/lib/python3.6/dist-packages (from qtconsole->jupyter->d2l==0.15.1) (1.9.0)\n",
            "Requirement already satisfied: terminado>=0.8.1 in /usr/local/lib/python3.6/dist-packages (from notebook->jupyter->d2l==0.15.1) (0.9.1)\n",
            "Requirement already satisfied: Send2Trash in /usr/local/lib/python3.6/dist-packages (from notebook->jupyter->d2l==0.15.1) (1.5.0)\n",
            "Requirement already satisfied: six>=1.5 in /usr/local/lib/python3.6/dist-packages (from python-dateutil>=2.7.3->pandas->d2l==0.15.1) (1.15.0)\n",
            "Requirement already satisfied: pickleshare in /usr/local/lib/python3.6/dist-packages (from ipython>=4.0.0->ipykernel->jupyter->d2l==0.15.1) (0.7.5)\n",
            "Requirement already satisfied: pexpect; sys_platform != \"win32\" in /usr/local/lib/python3.6/dist-packages (from ipython>=4.0.0->ipykernel->jupyter->d2l==0.15.1) (4.8.0)\n",
            "Requirement already satisfied: decorator in /usr/local/lib/python3.6/dist-packages (from ipython>=4.0.0->ipykernel->jupyter->d2l==0.15.1) (4.4.2)\n",
            "Requirement already satisfied: simplegeneric>0.8 in /usr/local/lib/python3.6/dist-packages (from ipython>=4.0.0->ipykernel->jupyter->d2l==0.15.1) (0.8.1)\n",
            "Requirement already satisfied: setuptools>=18.5 in /usr/local/lib/python3.6/dist-packages (from ipython>=4.0.0->ipykernel->jupyter->d2l==0.15.1) (50.3.2)\n",
            "Requirement already satisfied: jsonschema!=2.5.0,>=2.4 in /usr/local/lib/python3.6/dist-packages (from nbformat>=4.2.0->ipywidgets->jupyter->d2l==0.15.1) (2.6.0)\n",
            "Requirement already satisfied: wcwidth in /usr/local/lib/python3.6/dist-packages (from prompt-toolkit<2.0.0,>=1.0.0->jupyter-console->jupyter->d2l==0.15.1) (0.2.5)\n",
            "Requirement already satisfied: webencodings in /usr/local/lib/python3.6/dist-packages (from bleach->nbconvert->jupyter->d2l==0.15.1) (0.5.1)\n",
            "Requirement already satisfied: packaging in /usr/local/lib/python3.6/dist-packages (from bleach->nbconvert->jupyter->d2l==0.15.1) (20.4)\n",
            "Requirement already satisfied: MarkupSafe>=0.23 in /usr/local/lib/python3.6/dist-packages (from jinja2>=2.4->nbconvert->jupyter->d2l==0.15.1) (1.1.1)\n",
            "Requirement already satisfied: ptyprocess; os_name != \"nt\" in /usr/local/lib/python3.6/dist-packages (from terminado>=0.8.1->notebook->jupyter->d2l==0.15.1) (0.6.0)\n",
            "Installing collected packages: d2l\n",
            "Successfully installed d2l-0.15.1\n"
          ],
          "name": "stdout"
        }
      ]
    },
    {
      "cell_type": "markdown",
      "metadata": {
        "origin_pos": 0,
        "id": "grbMWtv_isLK"
      },
      "source": [
        "# Linear Regression Implementation from Scratch\n",
        ":label:`sec_linear_scratch`\n",
        "\n",
        "Now that you understand the key ideas behind linear regression,\n",
        "we can begin to work through a hands-on implementation in code.\n",
        "In this section, we will implement the entire method from scratch,\n",
        "including the data pipeline, the model,\n",
        "the loss function, and the minibatch stochastic gradient descent optimizer.\n",
        "While modern deep learning frameworks can automate nearly all of this work,\n",
        "implementing things from scratch is the only way\n",
        "to make sure that you really know what you are doing.\n",
        "Moreover, when it comes time to customize models,\n",
        "defining our own layers or loss functions,\n",
        "understanding how things work under the hood will prove handy.\n",
        "In this section, we will rely only on tensors and auto differentiation.\n",
        "Afterwards, we will introduce a more concise implementation,\n",
        "taking advantage of bells and whistles of deep learning frameworks.\n"
      ]
    },
    {
      "cell_type": "code",
      "metadata": {
        "origin_pos": 2,
        "tab": [
          "pytorch"
        ],
        "id": "lvBJ1BqtisLK"
      },
      "source": [
        "%matplotlib inline\n",
        "from d2l import torch as d2l\n",
        "import torch\n",
        "import random"
      ],
      "execution_count": 2,
      "outputs": []
    },
    {
      "cell_type": "markdown",
      "metadata": {
        "origin_pos": 4,
        "id": "-HbesUC-isLN"
      },
      "source": [
        "## Generating the Dataset\n",
        "\n",
        "To keep things simple, we will construct an artificial dataset\n",
        "according to a linear model with additive noise.\n",
        "Our task will be to recover this model's parameters\n",
        "using the finite set of examples contained in our dataset.\n",
        "We will keep the data low-dimensional so we can visualize it easily.\n",
        "In the following code snippet, we generate a dataset\n",
        "containing 1000 examples, each consisting of 2 features\n",
        "sampled from a standard normal distribution.\n",
        "Thus our synthetic dataset will be a matrix\n",
        "$\\mathbf{X}\\in \\mathbb{R}^{1000 \\times 2}$.\n",
        "\n",
        "The true parameters generating our dataset will be\n",
        "$\\mathbf{w} = [2, -3.4]^\\top$ and $b = 4.2$,\n",
        "and our synthetic labels will be assigned according\n",
        "to the following linear model with the noise term $\\epsilon$:\n",
        "\n",
        "$$\\mathbf{y}= \\mathbf{X} \\mathbf{w} + b + \\mathbf\\epsilon.$$\n",
        "\n",
        "You could think of $\\epsilon$ as capturing potential\n",
        "measurement errors on the features and labels.\n",
        "We will assume that the standard assumptions hold and thus\n",
        "that $\\epsilon$ obeys a normal distribution with mean of 0.\n",
        "To make our problem easy, we will set its standard deviation to 0.01.\n",
        "The following code generates our synthetic dataset.\n"
      ]
    },
    {
      "cell_type": "code",
      "metadata": {
        "origin_pos": 5,
        "tab": [
          "pytorch"
        ],
        "id": "fb6na_J1isLN"
      },
      "source": [
        "def synthetic_data(w, b, num_examples):  #@save\n",
        "    \"\"\"Generate y = Xw + b + noise.\"\"\"\n",
        "    X = torch.normal(0, 1, (num_examples, len(w)))\n",
        "    y = torch.matmul(X, w) + b\n",
        "    y += torch.normal(0, 0.01, y.shape)\n",
        "    return X, y.reshape((-1, 1))"
      ],
      "execution_count": 3,
      "outputs": []
    },
    {
      "cell_type": "code",
      "metadata": {
        "origin_pos": 7,
        "tab": [
          "pytorch"
        ],
        "id": "1vlxSiFsisLQ"
      },
      "source": [
        "true_w = torch.tensor([2, -3.4])\n",
        "true_b = 4.2\n",
        "features, labels = synthetic_data(true_w, true_b, 1000)"
      ],
      "execution_count": 4,
      "outputs": []
    },
    {
      "cell_type": "markdown",
      "metadata": {
        "origin_pos": 8,
        "id": "TwzQK22NisLS"
      },
      "source": [
        "Note that each row in `features` consists of a 2-dimensional data example\n",
        "and that each row in `labels` consists of a 1-dimensional label value (a scalar).\n"
      ]
    },
    {
      "cell_type": "code",
      "metadata": {
        "origin_pos": 9,
        "tab": [
          "pytorch"
        ],
        "id": "NhJljeh0isLT",
        "outputId": "cd5724c6-7f09-4afa-bd0e-2c72520ece1a",
        "colab": {
          "base_uri": "https://localhost:8080/"
        }
      },
      "source": [
        "print('features:', features[0],'\\nlabel:', labels[0])"
      ],
      "execution_count": 10,
      "outputs": [
        {
          "output_type": "stream",
          "text": [
            "features: tensor([-2.3824, -1.3716]) \n",
            "label: tensor([4.1010])\n"
          ],
          "name": "stdout"
        }
      ]
    },
    {
      "cell_type": "markdown",
      "metadata": {
        "origin_pos": 10,
        "id": "ESucEyoCisLW"
      },
      "source": [
        "By generating a scatter plot using the second feature `features[:, 1]` and `labels`,\n",
        "we can clearly observe the linear correlation between the two.\n"
      ]
    },
    {
      "cell_type": "code",
      "metadata": {
        "origin_pos": 11,
        "tab": [
          "pytorch"
        ],
        "id": "MQeBsey8isLX",
        "outputId": "d730f1e8-2ff5-405d-859f-8f3795309cf5",
        "colab": {
          "base_uri": "https://localhost:8080/",
          "height": 243
        }
      },
      "source": [
        "d2l.set_figsize()\n",
        "# The semicolon is for displaying the plot only\n",
        "d2l.plt.scatter(d2l.numpy(features[:, 1]), d2l.numpy(labels), 1);"
      ],
      "execution_count": 14,
      "outputs": [
        {
          "output_type": "display_data",
          "data": {
            "text/plain": [
              "<Figure size 252x180 with 1 Axes>"
            ],
            "image/svg+xml": "<?xml version=\"1.0\" encoding=\"utf-8\" standalone=\"no\"?>\n<!DOCTYPE svg PUBLIC \"-//W3C//DTD SVG 1.1//EN\"\n  \"http://www.w3.org/Graphics/SVG/1.1/DTD/svg11.dtd\">\n<!-- Created with matplotlib (https://matplotlib.org/) -->\n<svg height=\"166.978125pt\" version=\"1.1\" viewBox=\"0 0 231.442187 166.978125\" width=\"231.442187pt\" xmlns=\"http://www.w3.org/2000/svg\" xmlns:xlink=\"http://www.w3.org/1999/xlink\">\n <defs>\n  <style type=\"text/css\">\n*{stroke-linecap:butt;stroke-linejoin:round;}\n  </style>\n </defs>\n <g id=\"figure_1\">\n  <g id=\"patch_1\">\n   <path d=\"M 0 166.978125 \nL 231.442187 166.978125 \nL 231.442187 0 \nL 0 0 \nz\n\" style=\"fill:none;\"/>\n  </g>\n  <g id=\"axes_1\">\n   <g id=\"patch_2\">\n    <path d=\"M 28.942188 143.1 \nL 224.242188 143.1 \nL 224.242188 7.2 \nL 28.942188 7.2 \nz\n\" style=\"fill:#ffffff;\"/>\n   </g>\n   <g id=\"PathCollection_1\">\n    <defs>\n     <path d=\"M 0 0.5 \nC 0.132602 0.5 0.25979 0.447317 0.353553 0.353553 \nC 0.447317 0.25979 0.5 0.132602 0.5 0 \nC 0.5 -0.132602 0.447317 -0.25979 0.353553 -0.353553 \nC 0.25979 -0.447317 0.132602 -0.5 0 -0.5 \nC -0.132602 -0.5 -0.25979 -0.447317 -0.353553 -0.353553 \nC -0.447317 -0.25979 -0.5 -0.132602 -0.5 0 \nC -0.5 0.132602 -0.447317 0.25979 -0.353553 0.353553 \nC -0.25979 0.447317 -0.132602 0.5 0 0.5 \nz\n\" id=\"m02f868eb55\" style=\"stroke:#1f77b4;\"/>\n    </defs>\n    <g clip-path=\"url(#p89f6c30166)\">\n     <use style=\"fill:#1f77b4;stroke:#1f77b4;\" x=\"92.043216\" xlink:href=\"#m02f868eb55\" y=\"80.859826\"/>\n     <use style=\"fill:#1f77b4;stroke:#1f77b4;\" x=\"145.851068\" xlink:href=\"#m02f868eb55\" y=\"69.275063\"/>\n     <use style=\"fill:#1f77b4;stroke:#1f77b4;\" x=\"119.716867\" xlink:href=\"#m02f868eb55\" y=\"84.204971\"/>\n     <use style=\"fill:#1f77b4;stroke:#1f77b4;\" x=\"83.955165\" xlink:href=\"#m02f868eb55\" y=\"63.861129\"/>\n     <use style=\"fill:#1f77b4;stroke:#1f77b4;\" x=\"174.521666\" xlink:href=\"#m02f868eb55\" y=\"99.946372\"/>\n     <use style=\"fill:#1f77b4;stroke:#1f77b4;\" x=\"159.186221\" xlink:href=\"#m02f868eb55\" y=\"91.006275\"/>\n     <use style=\"fill:#1f77b4;stroke:#1f77b4;\" x=\"90.283346\" xlink:href=\"#m02f868eb55\" y=\"60.859146\"/>\n     <use style=\"fill:#1f77b4;stroke:#1f77b4;\" x=\"137.319487\" xlink:href=\"#m02f868eb55\" y=\"83.581158\"/>\n     <use style=\"fill:#1f77b4;stroke:#1f77b4;\" x=\"160.334354\" xlink:href=\"#m02f868eb55\" y=\"104.441051\"/>\n     <use style=\"fill:#1f77b4;stroke:#1f77b4;\" x=\"153.922529\" xlink:href=\"#m02f868eb55\" y=\"107.230254\"/>\n     <use style=\"fill:#1f77b4;stroke:#1f77b4;\" x=\"154.863895\" xlink:href=\"#m02f868eb55\" y=\"85.783273\"/>\n     <use style=\"fill:#1f77b4;stroke:#1f77b4;\" x=\"153.248719\" xlink:href=\"#m02f868eb55\" y=\"96.536692\"/>\n     <use style=\"fill:#1f77b4;stroke:#1f77b4;\" x=\"154.82699\" xlink:href=\"#m02f868eb55\" y=\"83.552801\"/>\n     <use style=\"fill:#1f77b4;stroke:#1f77b4;\" x=\"185.55828\" xlink:href=\"#m02f868eb55\" y=\"107.398629\"/>\n     <use style=\"fill:#1f77b4;stroke:#1f77b4;\" x=\"107.062335\" xlink:href=\"#m02f868eb55\" y=\"60.056756\"/>\n     <use style=\"fill:#1f77b4;stroke:#1f77b4;\" x=\"188.808818\" xlink:href=\"#m02f868eb55\" y=\"101.342901\"/>\n     <use style=\"fill:#1f77b4;stroke:#1f77b4;\" x=\"141.028078\" xlink:href=\"#m02f868eb55\" y=\"78.91834\"/>\n     <use style=\"fill:#1f77b4;stroke:#1f77b4;\" x=\"130.410257\" xlink:href=\"#m02f868eb55\" y=\"92.236966\"/>\n     <use style=\"fill:#1f77b4;stroke:#1f77b4;\" x=\"164.032024\" xlink:href=\"#m02f868eb55\" y=\"97.799549\"/>\n     <use style=\"fill:#1f77b4;stroke:#1f77b4;\" x=\"122.697777\" xlink:href=\"#m02f868eb55\" y=\"71.287034\"/>\n     <use style=\"fill:#1f77b4;stroke:#1f77b4;\" x=\"107.661367\" xlink:href=\"#m02f868eb55\" y=\"51.265059\"/>\n     <use style=\"fill:#1f77b4;stroke:#1f77b4;\" x=\"126.829462\" xlink:href=\"#m02f868eb55\" y=\"60.375756\"/>\n     <use style=\"fill:#1f77b4;stroke:#1f77b4;\" x=\"128.164306\" xlink:href=\"#m02f868eb55\" y=\"83.14329\"/>\n     <use style=\"fill:#1f77b4;stroke:#1f77b4;\" x=\"139.265857\" xlink:href=\"#m02f868eb55\" y=\"90.823227\"/>\n     <use style=\"fill:#1f77b4;stroke:#1f77b4;\" x=\"118.648331\" xlink:href=\"#m02f868eb55\" y=\"77.403005\"/>\n     <use style=\"fill:#1f77b4;stroke:#1f77b4;\" x=\"173.812436\" xlink:href=\"#m02f868eb55\" y=\"94.404483\"/>\n     <use style=\"fill:#1f77b4;stroke:#1f77b4;\" x=\"160.248716\" xlink:href=\"#m02f868eb55\" y=\"84.374678\"/>\n     <use style=\"fill:#1f77b4;stroke:#1f77b4;\" x=\"165.132386\" xlink:href=\"#m02f868eb55\" y=\"111.286342\"/>\n     <use style=\"fill:#1f77b4;stroke:#1f77b4;\" x=\"104.645996\" xlink:href=\"#m02f868eb55\" y=\"49.040737\"/>\n     <use style=\"fill:#1f77b4;stroke:#1f77b4;\" x=\"127.698262\" xlink:href=\"#m02f868eb55\" y=\"65.873151\"/>\n     <use style=\"fill:#1f77b4;stroke:#1f77b4;\" x=\"167.775887\" xlink:href=\"#m02f868eb55\" y=\"95.044362\"/>\n     <use style=\"fill:#1f77b4;stroke:#1f77b4;\" x=\"156.549761\" xlink:href=\"#m02f868eb55\" y=\"74.441123\"/>\n     <use style=\"fill:#1f77b4;stroke:#1f77b4;\" x=\"162.297521\" xlink:href=\"#m02f868eb55\" y=\"89.123017\"/>\n     <use style=\"fill:#1f77b4;stroke:#1f77b4;\" x=\"141.058994\" xlink:href=\"#m02f868eb55\" y=\"105.453863\"/>\n     <use style=\"fill:#1f77b4;stroke:#1f77b4;\" x=\"110.290786\" xlink:href=\"#m02f868eb55\" y=\"58.265827\"/>\n     <use style=\"fill:#1f77b4;stroke:#1f77b4;\" x=\"116.687015\" xlink:href=\"#m02f868eb55\" y=\"80.998789\"/>\n     <use style=\"fill:#1f77b4;stroke:#1f77b4;\" x=\"149.284504\" xlink:href=\"#m02f868eb55\" y=\"83.301938\"/>\n     <use style=\"fill:#1f77b4;stroke:#1f77b4;\" x=\"148.18231\" xlink:href=\"#m02f868eb55\" y=\"86.25085\"/>\n     <use style=\"fill:#1f77b4;stroke:#1f77b4;\" x=\"162.973887\" xlink:href=\"#m02f868eb55\" y=\"97.639171\"/>\n     <use style=\"fill:#1f77b4;stroke:#1f77b4;\" x=\"130.074208\" xlink:href=\"#m02f868eb55\" y=\"84.484169\"/>\n     <use style=\"fill:#1f77b4;stroke:#1f77b4;\" x=\"119.515077\" xlink:href=\"#m02f868eb55\" y=\"72.447519\"/>\n     <use style=\"fill:#1f77b4;stroke:#1f77b4;\" x=\"145.880685\" xlink:href=\"#m02f868eb55\" y=\"77.383489\"/>\n     <use style=\"fill:#1f77b4;stroke:#1f77b4;\" x=\"104.594304\" xlink:href=\"#m02f868eb55\" y=\"66.987944\"/>\n     <use style=\"fill:#1f77b4;stroke:#1f77b4;\" x=\"143.882505\" xlink:href=\"#m02f868eb55\" y=\"80.729158\"/>\n     <use style=\"fill:#1f77b4;stroke:#1f77b4;\" x=\"118.561977\" xlink:href=\"#m02f868eb55\" y=\"80.670397\"/>\n     <use style=\"fill:#1f77b4;stroke:#1f77b4;\" x=\"150.473035\" xlink:href=\"#m02f868eb55\" y=\"95.323742\"/>\n     <use style=\"fill:#1f77b4;stroke:#1f77b4;\" x=\"169.182193\" xlink:href=\"#m02f868eb55\" y=\"77.884606\"/>\n     <use style=\"fill:#1f77b4;stroke:#1f77b4;\" x=\"122.943312\" xlink:href=\"#m02f868eb55\" y=\"81.257115\"/>\n     <use style=\"fill:#1f77b4;stroke:#1f77b4;\" x=\"133.41916\" xlink:href=\"#m02f868eb55\" y=\"72.737549\"/>\n     <use style=\"fill:#1f77b4;stroke:#1f77b4;\" x=\"155.110545\" xlink:href=\"#m02f868eb55\" y=\"92.543827\"/>\n     <use style=\"fill:#1f77b4;stroke:#1f77b4;\" x=\"133.57539\" xlink:href=\"#m02f868eb55\" y=\"88.38251\"/>\n     <use style=\"fill:#1f77b4;stroke:#1f77b4;\" x=\"117.739255\" xlink:href=\"#m02f868eb55\" y=\"74.300002\"/>\n     <use style=\"fill:#1f77b4;stroke:#1f77b4;\" x=\"95.391303\" xlink:href=\"#m02f868eb55\" y=\"64.010036\"/>\n     <use style=\"fill:#1f77b4;stroke:#1f77b4;\" x=\"137.116597\" xlink:href=\"#m02f868eb55\" y=\"86.755005\"/>\n     <use style=\"fill:#1f77b4;stroke:#1f77b4;\" x=\"78.769931\" xlink:href=\"#m02f868eb55\" y=\"51.145153\"/>\n     <use style=\"fill:#1f77b4;stroke:#1f77b4;\" x=\"153.605734\" xlink:href=\"#m02f868eb55\" y=\"89.425924\"/>\n     <use style=\"fill:#1f77b4;stroke:#1f77b4;\" x=\"154.675747\" xlink:href=\"#m02f868eb55\" y=\"75.985349\"/>\n     <use style=\"fill:#1f77b4;stroke:#1f77b4;\" x=\"141.374038\" xlink:href=\"#m02f868eb55\" y=\"89.65986\"/>\n     <use style=\"fill:#1f77b4;stroke:#1f77b4;\" x=\"128.082337\" xlink:href=\"#m02f868eb55\" y=\"72.290731\"/>\n     <use style=\"fill:#1f77b4;stroke:#1f77b4;\" x=\"168.906014\" xlink:href=\"#m02f868eb55\" y=\"101.769011\"/>\n     <use style=\"fill:#1f77b4;stroke:#1f77b4;\" x=\"108.462177\" xlink:href=\"#m02f868eb55\" y=\"72.576728\"/>\n     <use style=\"fill:#1f77b4;stroke:#1f77b4;\" x=\"137.946028\" xlink:href=\"#m02f868eb55\" y=\"67.059696\"/>\n     <use style=\"fill:#1f77b4;stroke:#1f77b4;\" x=\"122.660239\" xlink:href=\"#m02f868eb55\" y=\"72.801199\"/>\n     <use style=\"fill:#1f77b4;stroke:#1f77b4;\" x=\"114.078555\" xlink:href=\"#m02f868eb55\" y=\"80.150483\"/>\n     <use style=\"fill:#1f77b4;stroke:#1f77b4;\" x=\"163.15657\" xlink:href=\"#m02f868eb55\" y=\"111.596517\"/>\n     <use style=\"fill:#1f77b4;stroke:#1f77b4;\" x=\"183.334241\" xlink:href=\"#m02f868eb55\" y=\"113.68862\"/>\n     <use style=\"fill:#1f77b4;stroke:#1f77b4;\" x=\"171.276174\" xlink:href=\"#m02f868eb55\" y=\"100.018538\"/>\n     <use style=\"fill:#1f77b4;stroke:#1f77b4;\" x=\"108.483042\" xlink:href=\"#m02f868eb55\" y=\"79.142588\"/>\n     <use style=\"fill:#1f77b4;stroke:#1f77b4;\" x=\"182.206309\" xlink:href=\"#m02f868eb55\" y=\"114.460039\"/>\n     <use style=\"fill:#1f77b4;stroke:#1f77b4;\" x=\"96.937248\" xlink:href=\"#m02f868eb55\" y=\"76.862628\"/>\n     <use style=\"fill:#1f77b4;stroke:#1f77b4;\" x=\"162.801758\" xlink:href=\"#m02f868eb55\" y=\"87.943948\"/>\n     <use style=\"fill:#1f77b4;stroke:#1f77b4;\" x=\"150.816088\" xlink:href=\"#m02f868eb55\" y=\"85.433058\"/>\n     <use style=\"fill:#1f77b4;stroke:#1f77b4;\" x=\"90.239364\" xlink:href=\"#m02f868eb55\" y=\"63.805688\"/>\n     <use style=\"fill:#1f77b4;stroke:#1f77b4;\" x=\"96.825089\" xlink:href=\"#m02f868eb55\" y=\"53.690194\"/>\n     <use style=\"fill:#1f77b4;stroke:#1f77b4;\" x=\"117.155242\" xlink:href=\"#m02f868eb55\" y=\"80.29814\"/>\n     <use style=\"fill:#1f77b4;stroke:#1f77b4;\" x=\"189.585217\" xlink:href=\"#m02f868eb55\" y=\"120.146326\"/>\n     <use style=\"fill:#1f77b4;stroke:#1f77b4;\" x=\"110.148056\" xlink:href=\"#m02f868eb55\" y=\"79.155475\"/>\n     <use style=\"fill:#1f77b4;stroke:#1f77b4;\" x=\"118.479267\" xlink:href=\"#m02f868eb55\" y=\"59.175036\"/>\n     <use style=\"fill:#1f77b4;stroke:#1f77b4;\" x=\"84.19377\" xlink:href=\"#m02f868eb55\" y=\"51.091293\"/>\n     <use style=\"fill:#1f77b4;stroke:#1f77b4;\" x=\"154.633057\" xlink:href=\"#m02f868eb55\" y=\"80.49062\"/>\n     <use style=\"fill:#1f77b4;stroke:#1f77b4;\" x=\"124.334798\" xlink:href=\"#m02f868eb55\" y=\"90.758897\"/>\n     <use style=\"fill:#1f77b4;stroke:#1f77b4;\" x=\"109.313887\" xlink:href=\"#m02f868eb55\" y=\"90.934548\"/>\n     <use style=\"fill:#1f77b4;stroke:#1f77b4;\" x=\"181.470971\" xlink:href=\"#m02f868eb55\" y=\"111.944976\"/>\n     <use style=\"fill:#1f77b4;stroke:#1f77b4;\" x=\"165.401297\" xlink:href=\"#m02f868eb55\" y=\"75.549385\"/>\n     <use style=\"fill:#1f77b4;stroke:#1f77b4;\" x=\"130.107397\" xlink:href=\"#m02f868eb55\" y=\"81.852619\"/>\n     <use style=\"fill:#1f77b4;stroke:#1f77b4;\" x=\"143.584959\" xlink:href=\"#m02f868eb55\" y=\"84.172315\"/>\n     <use style=\"fill:#1f77b4;stroke:#1f77b4;\" x=\"199.476729\" xlink:href=\"#m02f868eb55\" y=\"109.52292\"/>\n     <use style=\"fill:#1f77b4;stroke:#1f77b4;\" x=\"186.376784\" xlink:href=\"#m02f868eb55\" y=\"84.651105\"/>\n     <use style=\"fill:#1f77b4;stroke:#1f77b4;\" x=\"112.488824\" xlink:href=\"#m02f868eb55\" y=\"75.452345\"/>\n     <use style=\"fill:#1f77b4;stroke:#1f77b4;\" x=\"105.779599\" xlink:href=\"#m02f868eb55\" y=\"70.391475\"/>\n     <use style=\"fill:#1f77b4;stroke:#1f77b4;\" x=\"146.361465\" xlink:href=\"#m02f868eb55\" y=\"88.672896\"/>\n     <use style=\"fill:#1f77b4;stroke:#1f77b4;\" x=\"155.488744\" xlink:href=\"#m02f868eb55\" y=\"94.951131\"/>\n     <use style=\"fill:#1f77b4;stroke:#1f77b4;\" x=\"145.529717\" xlink:href=\"#m02f868eb55\" y=\"79.422095\"/>\n     <use style=\"fill:#1f77b4;stroke:#1f77b4;\" x=\"128.17181\" xlink:href=\"#m02f868eb55\" y=\"66.312381\"/>\n     <use style=\"fill:#1f77b4;stroke:#1f77b4;\" x=\"69.607533\" xlink:href=\"#m02f868eb55\" y=\"39.519023\"/>\n     <use style=\"fill:#1f77b4;stroke:#1f77b4;\" x=\"122.333298\" xlink:href=\"#m02f868eb55\" y=\"71.675451\"/>\n     <use style=\"fill:#1f77b4;stroke:#1f77b4;\" x=\"115.648121\" xlink:href=\"#m02f868eb55\" y=\"95.631767\"/>\n     <use style=\"fill:#1f77b4;stroke:#1f77b4;\" x=\"104.983956\" xlink:href=\"#m02f868eb55\" y=\"59.370763\"/>\n     <use style=\"fill:#1f77b4;stroke:#1f77b4;\" x=\"146.860414\" xlink:href=\"#m02f868eb55\" y=\"93.214414\"/>\n     <use style=\"fill:#1f77b4;stroke:#1f77b4;\" x=\"157.073594\" xlink:href=\"#m02f868eb55\" y=\"101.060329\"/>\n     <use style=\"fill:#1f77b4;stroke:#1f77b4;\" x=\"125.310448\" xlink:href=\"#m02f868eb55\" y=\"87.79459\"/>\n     <use style=\"fill:#1f77b4;stroke:#1f77b4;\" x=\"125.273453\" xlink:href=\"#m02f868eb55\" y=\"77.662665\"/>\n     <use style=\"fill:#1f77b4;stroke:#1f77b4;\" x=\"147.105236\" xlink:href=\"#m02f868eb55\" y=\"73.32783\"/>\n     <use style=\"fill:#1f77b4;stroke:#1f77b4;\" x=\"117.267661\" xlink:href=\"#m02f868eb55\" y=\"94.340538\"/>\n     <use style=\"fill:#1f77b4;stroke:#1f77b4;\" x=\"142.276924\" xlink:href=\"#m02f868eb55\" y=\"66.470557\"/>\n     <use style=\"fill:#1f77b4;stroke:#1f77b4;\" x=\"144.753925\" xlink:href=\"#m02f868eb55\" y=\"110.079133\"/>\n     <use style=\"fill:#1f77b4;stroke:#1f77b4;\" x=\"144.006637\" xlink:href=\"#m02f868eb55\" y=\"74.83696\"/>\n     <use style=\"fill:#1f77b4;stroke:#1f77b4;\" x=\"172.073707\" xlink:href=\"#m02f868eb55\" y=\"110.391573\"/>\n     <use style=\"fill:#1f77b4;stroke:#1f77b4;\" x=\"118.701547\" xlink:href=\"#m02f868eb55\" y=\"90.028808\"/>\n     <use style=\"fill:#1f77b4;stroke:#1f77b4;\" x=\"141.300037\" xlink:href=\"#m02f868eb55\" y=\"96.122819\"/>\n     <use style=\"fill:#1f77b4;stroke:#1f77b4;\" x=\"100.766074\" xlink:href=\"#m02f868eb55\" y=\"57.430812\"/>\n     <use style=\"fill:#1f77b4;stroke:#1f77b4;\" x=\"134.63151\" xlink:href=\"#m02f868eb55\" y=\"74.731464\"/>\n     <use style=\"fill:#1f77b4;stroke:#1f77b4;\" x=\"179.715608\" xlink:href=\"#m02f868eb55\" y=\"127.780837\"/>\n     <use style=\"fill:#1f77b4;stroke:#1f77b4;\" x=\"153.880601\" xlink:href=\"#m02f868eb55\" y=\"110.172036\"/>\n     <use style=\"fill:#1f77b4;stroke:#1f77b4;\" x=\"128.611183\" xlink:href=\"#m02f868eb55\" y=\"78.750567\"/>\n     <use style=\"fill:#1f77b4;stroke:#1f77b4;\" x=\"113.140246\" xlink:href=\"#m02f868eb55\" y=\"84.500384\"/>\n     <use style=\"fill:#1f77b4;stroke:#1f77b4;\" x=\"99.575569\" xlink:href=\"#m02f868eb55\" y=\"72.288493\"/>\n     <use style=\"fill:#1f77b4;stroke:#1f77b4;\" x=\"144.951206\" xlink:href=\"#m02f868eb55\" y=\"107.111697\"/>\n     <use style=\"fill:#1f77b4;stroke:#1f77b4;\" x=\"112.592141\" xlink:href=\"#m02f868eb55\" y=\"78.544285\"/>\n     <use style=\"fill:#1f77b4;stroke:#1f77b4;\" x=\"90.588835\" xlink:href=\"#m02f868eb55\" y=\"42.754852\"/>\n     <use style=\"fill:#1f77b4;stroke:#1f77b4;\" x=\"103.488035\" xlink:href=\"#m02f868eb55\" y=\"56.193146\"/>\n     <use style=\"fill:#1f77b4;stroke:#1f77b4;\" x=\"127.370023\" xlink:href=\"#m02f868eb55\" y=\"69.705339\"/>\n     <use style=\"fill:#1f77b4;stroke:#1f77b4;\" x=\"106.040039\" xlink:href=\"#m02f868eb55\" y=\"56.064583\"/>\n     <use style=\"fill:#1f77b4;stroke:#1f77b4;\" x=\"156.305976\" xlink:href=\"#m02f868eb55\" y=\"89.877\"/>\n     <use style=\"fill:#1f77b4;stroke:#1f77b4;\" x=\"89.49067\" xlink:href=\"#m02f868eb55\" y=\"54.150553\"/>\n     <use style=\"fill:#1f77b4;stroke:#1f77b4;\" x=\"125.474648\" xlink:href=\"#m02f868eb55\" y=\"68.089002\"/>\n     <use style=\"fill:#1f77b4;stroke:#1f77b4;\" x=\"138.318038\" xlink:href=\"#m02f868eb55\" y=\"96.305374\"/>\n     <use style=\"fill:#1f77b4;stroke:#1f77b4;\" x=\"129.390621\" xlink:href=\"#m02f868eb55\" y=\"72.027097\"/>\n     <use style=\"fill:#1f77b4;stroke:#1f77b4;\" x=\"147.940023\" xlink:href=\"#m02f868eb55\" y=\"83.445186\"/>\n     <use style=\"fill:#1f77b4;stroke:#1f77b4;\" x=\"128.648257\" xlink:href=\"#m02f868eb55\" y=\"77.992453\"/>\n     <use style=\"fill:#1f77b4;stroke:#1f77b4;\" x=\"125.893699\" xlink:href=\"#m02f868eb55\" y=\"72.256194\"/>\n     <use style=\"fill:#1f77b4;stroke:#1f77b4;\" x=\"112.681177\" xlink:href=\"#m02f868eb55\" y=\"77.969632\"/>\n     <use style=\"fill:#1f77b4;stroke:#1f77b4;\" x=\"168.908144\" xlink:href=\"#m02f868eb55\" y=\"119.930399\"/>\n     <use style=\"fill:#1f77b4;stroke:#1f77b4;\" x=\"152.3745\" xlink:href=\"#m02f868eb55\" y=\"97.063969\"/>\n     <use style=\"fill:#1f77b4;stroke:#1f77b4;\" x=\"136.885526\" xlink:href=\"#m02f868eb55\" y=\"65.45151\"/>\n     <use style=\"fill:#1f77b4;stroke:#1f77b4;\" x=\"140.897591\" xlink:href=\"#m02f868eb55\" y=\"79.181381\"/>\n     <use style=\"fill:#1f77b4;stroke:#1f77b4;\" x=\"136.848382\" xlink:href=\"#m02f868eb55\" y=\"83.460251\"/>\n     <use style=\"fill:#1f77b4;stroke:#1f77b4;\" x=\"81.018154\" xlink:href=\"#m02f868eb55\" y=\"50.251398\"/>\n     <use style=\"fill:#1f77b4;stroke:#1f77b4;\" x=\"103.391289\" xlink:href=\"#m02f868eb55\" y=\"54.770271\"/>\n     <use style=\"fill:#1f77b4;stroke:#1f77b4;\" x=\"116.213946\" xlink:href=\"#m02f868eb55\" y=\"85.896194\"/>\n     <use style=\"fill:#1f77b4;stroke:#1f77b4;\" x=\"126.063273\" xlink:href=\"#m02f868eb55\" y=\"72.169847\"/>\n     <use style=\"fill:#1f77b4;stroke:#1f77b4;\" x=\"94.308751\" xlink:href=\"#m02f868eb55\" y=\"56.200114\"/>\n     <use style=\"fill:#1f77b4;stroke:#1f77b4;\" x=\"142.85391\" xlink:href=\"#m02f868eb55\" y=\"86.271551\"/>\n     <use style=\"fill:#1f77b4;stroke:#1f77b4;\" x=\"96.129292\" xlink:href=\"#m02f868eb55\" y=\"57.488299\"/>\n     <use style=\"fill:#1f77b4;stroke:#1f77b4;\" x=\"133.889655\" xlink:href=\"#m02f868eb55\" y=\"84.880906\"/>\n     <use style=\"fill:#1f77b4;stroke:#1f77b4;\" x=\"129.469428\" xlink:href=\"#m02f868eb55\" y=\"80.186287\"/>\n     <use style=\"fill:#1f77b4;stroke:#1f77b4;\" x=\"129.881275\" xlink:href=\"#m02f868eb55\" y=\"74.385377\"/>\n     <use style=\"fill:#1f77b4;stroke:#1f77b4;\" x=\"104.516442\" xlink:href=\"#m02f868eb55\" y=\"59.35046\"/>\n     <use style=\"fill:#1f77b4;stroke:#1f77b4;\" x=\"140.367419\" xlink:href=\"#m02f868eb55\" y=\"89.057397\"/>\n     <use style=\"fill:#1f77b4;stroke:#1f77b4;\" x=\"126.40479\" xlink:href=\"#m02f868eb55\" y=\"75.440405\"/>\n     <use style=\"fill:#1f77b4;stroke:#1f77b4;\" x=\"152.770849\" xlink:href=\"#m02f868eb55\" y=\"95.924598\"/>\n     <use style=\"fill:#1f77b4;stroke:#1f77b4;\" x=\"132.875228\" xlink:href=\"#m02f868eb55\" y=\"80.109132\"/>\n     <use style=\"fill:#1f77b4;stroke:#1f77b4;\" x=\"130.825339\" xlink:href=\"#m02f868eb55\" y=\"77.69176\"/>\n     <use style=\"fill:#1f77b4;stroke:#1f77b4;\" x=\"120.242533\" xlink:href=\"#m02f868eb55\" y=\"67.320408\"/>\n     <use style=\"fill:#1f77b4;stroke:#1f77b4;\" x=\"170.673198\" xlink:href=\"#m02f868eb55\" y=\"107.394324\"/>\n     <use style=\"fill:#1f77b4;stroke:#1f77b4;\" x=\"82.966445\" xlink:href=\"#m02f868eb55\" y=\"68.606693\"/>\n     <use style=\"fill:#1f77b4;stroke:#1f77b4;\" x=\"98.72399\" xlink:href=\"#m02f868eb55\" y=\"71.433006\"/>\n     <use style=\"fill:#1f77b4;stroke:#1f77b4;\" x=\"112.679611\" xlink:href=\"#m02f868eb55\" y=\"78.701278\"/>\n     <use style=\"fill:#1f77b4;stroke:#1f77b4;\" x=\"70.489191\" xlink:href=\"#m02f868eb55\" y=\"44.006094\"/>\n     <use style=\"fill:#1f77b4;stroke:#1f77b4;\" x=\"126.635134\" xlink:href=\"#m02f868eb55\" y=\"79.84912\"/>\n     <use style=\"fill:#1f77b4;stroke:#1f77b4;\" x=\"84.57792\" xlink:href=\"#m02f868eb55\" y=\"59.552622\"/>\n     <use style=\"fill:#1f77b4;stroke:#1f77b4;\" x=\"109.708446\" xlink:href=\"#m02f868eb55\" y=\"55.855433\"/>\n     <use style=\"fill:#1f77b4;stroke:#1f77b4;\" x=\"151.521067\" xlink:href=\"#m02f868eb55\" y=\"103.631287\"/>\n     <use style=\"fill:#1f77b4;stroke:#1f77b4;\" x=\"98.555576\" xlink:href=\"#m02f868eb55\" y=\"57.193795\"/>\n     <use style=\"fill:#1f77b4;stroke:#1f77b4;\" x=\"161.355343\" xlink:href=\"#m02f868eb55\" y=\"102.1758\"/>\n     <use style=\"fill:#1f77b4;stroke:#1f77b4;\" x=\"103.205102\" xlink:href=\"#m02f868eb55\" y=\"60.016465\"/>\n     <use style=\"fill:#1f77b4;stroke:#1f77b4;\" x=\"137.135892\" xlink:href=\"#m02f868eb55\" y=\"83.261665\"/>\n     <use style=\"fill:#1f77b4;stroke:#1f77b4;\" x=\"122.509349\" xlink:href=\"#m02f868eb55\" y=\"52.515388\"/>\n     <use style=\"fill:#1f77b4;stroke:#1f77b4;\" x=\"160.542565\" xlink:href=\"#m02f868eb55\" y=\"97.228478\"/>\n     <use style=\"fill:#1f77b4;stroke:#1f77b4;\" x=\"148.657013\" xlink:href=\"#m02f868eb55\" y=\"84.965514\"/>\n     <use style=\"fill:#1f77b4;stroke:#1f77b4;\" x=\"141.851189\" xlink:href=\"#m02f868eb55\" y=\"74.450526\"/>\n     <use style=\"fill:#1f77b4;stroke:#1f77b4;\" x=\"134.486488\" xlink:href=\"#m02f868eb55\" y=\"69.314531\"/>\n     <use style=\"fill:#1f77b4;stroke:#1f77b4;\" x=\"152.528047\" xlink:href=\"#m02f868eb55\" y=\"83.329769\"/>\n     <use style=\"fill:#1f77b4;stroke:#1f77b4;\" x=\"132.864394\" xlink:href=\"#m02f868eb55\" y=\"69.232876\"/>\n     <use style=\"fill:#1f77b4;stroke:#1f77b4;\" x=\"123.226832\" xlink:href=\"#m02f868eb55\" y=\"94.150363\"/>\n     <use style=\"fill:#1f77b4;stroke:#1f77b4;\" x=\"163.57637\" xlink:href=\"#m02f868eb55\" y=\"105.18361\"/>\n     <use style=\"fill:#1f77b4;stroke:#1f77b4;\" x=\"116.648261\" xlink:href=\"#m02f868eb55\" y=\"56.456269\"/>\n     <use style=\"fill:#1f77b4;stroke:#1f77b4;\" x=\"132.712242\" xlink:href=\"#m02f868eb55\" y=\"79.338611\"/>\n     <use style=\"fill:#1f77b4;stroke:#1f77b4;\" x=\"115.702328\" xlink:href=\"#m02f868eb55\" y=\"80.978332\"/>\n     <use style=\"fill:#1f77b4;stroke:#1f77b4;\" x=\"120.558519\" xlink:href=\"#m02f868eb55\" y=\"76.151837\"/>\n     <use style=\"fill:#1f77b4;stroke:#1f77b4;\" x=\"171.346821\" xlink:href=\"#m02f868eb55\" y=\"112.106787\"/>\n     <use style=\"fill:#1f77b4;stroke:#1f77b4;\" x=\"155.490068\" xlink:href=\"#m02f868eb55\" y=\"87.748752\"/>\n     <use style=\"fill:#1f77b4;stroke:#1f77b4;\" x=\"127.11177\" xlink:href=\"#m02f868eb55\" y=\"91.293736\"/>\n     <use style=\"fill:#1f77b4;stroke:#1f77b4;\" x=\"123.694639\" xlink:href=\"#m02f868eb55\" y=\"83.86531\"/>\n     <use style=\"fill:#1f77b4;stroke:#1f77b4;\" x=\"109.227075\" xlink:href=\"#m02f868eb55\" y=\"80.753019\"/>\n     <use style=\"fill:#1f77b4;stroke:#1f77b4;\" x=\"121.481675\" xlink:href=\"#m02f868eb55\" y=\"66.072757\"/>\n     <use style=\"fill:#1f77b4;stroke:#1f77b4;\" x=\"120.380604\" xlink:href=\"#m02f868eb55\" y=\"81.132637\"/>\n     <use style=\"fill:#1f77b4;stroke:#1f77b4;\" x=\"181.450674\" xlink:href=\"#m02f868eb55\" y=\"105.395058\"/>\n     <use style=\"fill:#1f77b4;stroke:#1f77b4;\" x=\"159.056927\" xlink:href=\"#m02f868eb55\" y=\"114.233236\"/>\n     <use style=\"fill:#1f77b4;stroke:#1f77b4;\" x=\"118.211486\" xlink:href=\"#m02f868eb55\" y=\"74.921126\"/>\n     <use style=\"fill:#1f77b4;stroke:#1f77b4;\" x=\"113.51619\" xlink:href=\"#m02f868eb55\" y=\"54.82485\"/>\n     <use style=\"fill:#1f77b4;stroke:#1f77b4;\" x=\"107.935202\" xlink:href=\"#m02f868eb55\" y=\"73.471737\"/>\n     <use style=\"fill:#1f77b4;stroke:#1f77b4;\" x=\"167.725004\" xlink:href=\"#m02f868eb55\" y=\"96.350194\"/>\n     <use style=\"fill:#1f77b4;stroke:#1f77b4;\" x=\"100.417936\" xlink:href=\"#m02f868eb55\" y=\"57.845202\"/>\n     <use style=\"fill:#1f77b4;stroke:#1f77b4;\" x=\"95.103974\" xlink:href=\"#m02f868eb55\" y=\"63.296315\"/>\n     <use style=\"fill:#1f77b4;stroke:#1f77b4;\" x=\"178.147992\" xlink:href=\"#m02f868eb55\" y=\"125.423675\"/>\n     <use style=\"fill:#1f77b4;stroke:#1f77b4;\" x=\"164.40985\" xlink:href=\"#m02f868eb55\" y=\"105.207488\"/>\n     <use style=\"fill:#1f77b4;stroke:#1f77b4;\" x=\"136.855154\" xlink:href=\"#m02f868eb55\" y=\"66.991926\"/>\n     <use style=\"fill:#1f77b4;stroke:#1f77b4;\" x=\"126.504995\" xlink:href=\"#m02f868eb55\" y=\"79.332292\"/>\n     <use style=\"fill:#1f77b4;stroke:#1f77b4;\" x=\"111.373935\" xlink:href=\"#m02f868eb55\" y=\"69.295641\"/>\n     <use style=\"fill:#1f77b4;stroke:#1f77b4;\" x=\"119.571777\" xlink:href=\"#m02f868eb55\" y=\"75.943374\"/>\n     <use style=\"fill:#1f77b4;stroke:#1f77b4;\" x=\"96.924471\" xlink:href=\"#m02f868eb55\" y=\"76.171832\"/>\n     <use style=\"fill:#1f77b4;stroke:#1f77b4;\" x=\"147.848757\" xlink:href=\"#m02f868eb55\" y=\"84.649975\"/>\n     <use style=\"fill:#1f77b4;stroke:#1f77b4;\" x=\"147.50764\" xlink:href=\"#m02f868eb55\" y=\"85.112321\"/>\n     <use style=\"fill:#1f77b4;stroke:#1f77b4;\" x=\"121.228053\" xlink:href=\"#m02f868eb55\" y=\"55.438985\"/>\n     <use style=\"fill:#1f77b4;stroke:#1f77b4;\" x=\"117.011534\" xlink:href=\"#m02f868eb55\" y=\"75.79713\"/>\n     <use style=\"fill:#1f77b4;stroke:#1f77b4;\" x=\"135.596743\" xlink:href=\"#m02f868eb55\" y=\"73.297863\"/>\n     <use style=\"fill:#1f77b4;stroke:#1f77b4;\" x=\"109.053068\" xlink:href=\"#m02f868eb55\" y=\"51.797709\"/>\n     <use style=\"fill:#1f77b4;stroke:#1f77b4;\" x=\"171.303506\" xlink:href=\"#m02f868eb55\" y=\"107.623731\"/>\n     <use style=\"fill:#1f77b4;stroke:#1f77b4;\" x=\"139.229605\" xlink:href=\"#m02f868eb55\" y=\"86.96414\"/>\n     <use style=\"fill:#1f77b4;stroke:#1f77b4;\" x=\"158.652092\" xlink:href=\"#m02f868eb55\" y=\"82.441794\"/>\n     <use style=\"fill:#1f77b4;stroke:#1f77b4;\" x=\"148.896175\" xlink:href=\"#m02f868eb55\" y=\"91.740917\"/>\n     <use style=\"fill:#1f77b4;stroke:#1f77b4;\" x=\"74.162314\" xlink:href=\"#m02f868eb55\" y=\"27.906424\"/>\n     <use style=\"fill:#1f77b4;stroke:#1f77b4;\" x=\"160.445353\" xlink:href=\"#m02f868eb55\" y=\"100.037071\"/>\n     <use style=\"fill:#1f77b4;stroke:#1f77b4;\" x=\"182.233073\" xlink:href=\"#m02f868eb55\" y=\"122.928593\"/>\n     <use style=\"fill:#1f77b4;stroke:#1f77b4;\" x=\"126.497331\" xlink:href=\"#m02f868eb55\" y=\"75.08881\"/>\n     <use style=\"fill:#1f77b4;stroke:#1f77b4;\" x=\"140.785857\" xlink:href=\"#m02f868eb55\" y=\"90.386227\"/>\n     <use style=\"fill:#1f77b4;stroke:#1f77b4;\" x=\"121.557751\" xlink:href=\"#m02f868eb55\" y=\"86.338577\"/>\n     <use style=\"fill:#1f77b4;stroke:#1f77b4;\" x=\"135.879494\" xlink:href=\"#m02f868eb55\" y=\"82.049576\"/>\n     <use style=\"fill:#1f77b4;stroke:#1f77b4;\" x=\"148.251162\" xlink:href=\"#m02f868eb55\" y=\"80.86664\"/>\n     <use style=\"fill:#1f77b4;stroke:#1f77b4;\" x=\"134.445779\" xlink:href=\"#m02f868eb55\" y=\"87.691161\"/>\n     <use style=\"fill:#1f77b4;stroke:#1f77b4;\" x=\"107.617287\" xlink:href=\"#m02f868eb55\" y=\"72.056297\"/>\n     <use style=\"fill:#1f77b4;stroke:#1f77b4;\" x=\"137.890126\" xlink:href=\"#m02f868eb55\" y=\"67.355402\"/>\n     <use style=\"fill:#1f77b4;stroke:#1f77b4;\" x=\"141.315306\" xlink:href=\"#m02f868eb55\" y=\"99.215424\"/>\n     <use style=\"fill:#1f77b4;stroke:#1f77b4;\" x=\"141.137615\" xlink:href=\"#m02f868eb55\" y=\"92.444337\"/>\n     <use style=\"fill:#1f77b4;stroke:#1f77b4;\" x=\"145.107696\" xlink:href=\"#m02f868eb55\" y=\"87.625749\"/>\n     <use style=\"fill:#1f77b4;stroke:#1f77b4;\" x=\"147.34328\" xlink:href=\"#m02f868eb55\" y=\"73.001293\"/>\n     <use style=\"fill:#1f77b4;stroke:#1f77b4;\" x=\"141.523913\" xlink:href=\"#m02f868eb55\" y=\"94.656089\"/>\n     <use style=\"fill:#1f77b4;stroke:#1f77b4;\" x=\"135.075415\" xlink:href=\"#m02f868eb55\" y=\"89.682022\"/>\n     <use style=\"fill:#1f77b4;stroke:#1f77b4;\" x=\"153.423007\" xlink:href=\"#m02f868eb55\" y=\"100.804755\"/>\n     <use style=\"fill:#1f77b4;stroke:#1f77b4;\" x=\"57.243014\" xlink:href=\"#m02f868eb55\" y=\"29.345174\"/>\n     <use style=\"fill:#1f77b4;stroke:#1f77b4;\" x=\"187.41288\" xlink:href=\"#m02f868eb55\" y=\"100.841764\"/>\n     <use style=\"fill:#1f77b4;stroke:#1f77b4;\" x=\"111.039616\" xlink:href=\"#m02f868eb55\" y=\"66.50809\"/>\n     <use style=\"fill:#1f77b4;stroke:#1f77b4;\" x=\"189.38908\" xlink:href=\"#m02f868eb55\" y=\"107.956515\"/>\n     <use style=\"fill:#1f77b4;stroke:#1f77b4;\" x=\"132.278501\" xlink:href=\"#m02f868eb55\" y=\"78.35171\"/>\n     <use style=\"fill:#1f77b4;stroke:#1f77b4;\" x=\"129.531675\" xlink:href=\"#m02f868eb55\" y=\"87.458441\"/>\n     <use style=\"fill:#1f77b4;stroke:#1f77b4;\" x=\"154.524262\" xlink:href=\"#m02f868eb55\" y=\"86.713875\"/>\n     <use style=\"fill:#1f77b4;stroke:#1f77b4;\" x=\"132.227984\" xlink:href=\"#m02f868eb55\" y=\"60.567476\"/>\n     <use style=\"fill:#1f77b4;stroke:#1f77b4;\" x=\"110.788214\" xlink:href=\"#m02f868eb55\" y=\"72.879929\"/>\n     <use style=\"fill:#1f77b4;stroke:#1f77b4;\" x=\"115.426801\" xlink:href=\"#m02f868eb55\" y=\"49.335616\"/>\n     <use style=\"fill:#1f77b4;stroke:#1f77b4;\" x=\"133.120079\" xlink:href=\"#m02f868eb55\" y=\"91.411591\"/>\n     <use style=\"fill:#1f77b4;stroke:#1f77b4;\" x=\"115.849168\" xlink:href=\"#m02f868eb55\" y=\"63.606682\"/>\n     <use style=\"fill:#1f77b4;stroke:#1f77b4;\" x=\"159.057809\" xlink:href=\"#m02f868eb55\" y=\"106.053736\"/>\n     <use style=\"fill:#1f77b4;stroke:#1f77b4;\" x=\"149.526939\" xlink:href=\"#m02f868eb55\" y=\"77.009549\"/>\n     <use style=\"fill:#1f77b4;stroke:#1f77b4;\" x=\"84.42697\" xlink:href=\"#m02f868eb55\" y=\"49.750596\"/>\n     <use style=\"fill:#1f77b4;stroke:#1f77b4;\" x=\"182.22698\" xlink:href=\"#m02f868eb55\" y=\"128.193831\"/>\n     <use style=\"fill:#1f77b4;stroke:#1f77b4;\" x=\"139.240183\" xlink:href=\"#m02f868eb55\" y=\"80.223992\"/>\n     <use style=\"fill:#1f77b4;stroke:#1f77b4;\" x=\"110.886487\" xlink:href=\"#m02f868eb55\" y=\"54.652689\"/>\n     <use style=\"fill:#1f77b4;stroke:#1f77b4;\" x=\"160.106546\" xlink:href=\"#m02f868eb55\" y=\"70.90961\"/>\n     <use style=\"fill:#1f77b4;stroke:#1f77b4;\" x=\"157.618781\" xlink:href=\"#m02f868eb55\" y=\"114.568906\"/>\n     <use style=\"fill:#1f77b4;stroke:#1f77b4;\" x=\"109.044599\" xlink:href=\"#m02f868eb55\" y=\"77.122195\"/>\n     <use style=\"fill:#1f77b4;stroke:#1f77b4;\" x=\"101.630709\" xlink:href=\"#m02f868eb55\" y=\"83.656964\"/>\n     <use style=\"fill:#1f77b4;stroke:#1f77b4;\" x=\"80.023635\" xlink:href=\"#m02f868eb55\" y=\"43.87589\"/>\n     <use style=\"fill:#1f77b4;stroke:#1f77b4;\" x=\"151.082109\" xlink:href=\"#m02f868eb55\" y=\"84.3939\"/>\n     <use style=\"fill:#1f77b4;stroke:#1f77b4;\" x=\"206.284783\" xlink:href=\"#m02f868eb55\" y=\"121.73055\"/>\n     <use style=\"fill:#1f77b4;stroke:#1f77b4;\" x=\"118.431458\" xlink:href=\"#m02f868eb55\" y=\"76.348439\"/>\n     <use style=\"fill:#1f77b4;stroke:#1f77b4;\" x=\"139.410739\" xlink:href=\"#m02f868eb55\" y=\"86.495239\"/>\n     <use style=\"fill:#1f77b4;stroke:#1f77b4;\" x=\"127.356148\" xlink:href=\"#m02f868eb55\" y=\"87.442478\"/>\n     <use style=\"fill:#1f77b4;stroke:#1f77b4;\" x=\"125.992038\" xlink:href=\"#m02f868eb55\" y=\"81.500565\"/>\n     <use style=\"fill:#1f77b4;stroke:#1f77b4;\" x=\"185.119969\" xlink:href=\"#m02f868eb55\" y=\"92.038446\"/>\n     <use style=\"fill:#1f77b4;stroke:#1f77b4;\" x=\"139.42407\" xlink:href=\"#m02f868eb55\" y=\"85.368294\"/>\n     <use style=\"fill:#1f77b4;stroke:#1f77b4;\" x=\"52.189378\" xlink:href=\"#m02f868eb55\" y=\"13.711332\"/>\n     <use style=\"fill:#1f77b4;stroke:#1f77b4;\" x=\"151.555166\" xlink:href=\"#m02f868eb55\" y=\"87.380625\"/>\n     <use style=\"fill:#1f77b4;stroke:#1f77b4;\" x=\"105.280756\" xlink:href=\"#m02f868eb55\" y=\"57.105654\"/>\n     <use style=\"fill:#1f77b4;stroke:#1f77b4;\" x=\"127.297301\" xlink:href=\"#m02f868eb55\" y=\"63.867101\"/>\n     <use style=\"fill:#1f77b4;stroke:#1f77b4;\" x=\"122.549427\" xlink:href=\"#m02f868eb55\" y=\"79.252959\"/>\n     <use style=\"fill:#1f77b4;stroke:#1f77b4;\" x=\"138.343749\" xlink:href=\"#m02f868eb55\" y=\"83.476867\"/>\n     <use style=\"fill:#1f77b4;stroke:#1f77b4;\" x=\"153.344145\" xlink:href=\"#m02f868eb55\" y=\"95.594729\"/>\n     <use style=\"fill:#1f77b4;stroke:#1f77b4;\" x=\"110.684876\" xlink:href=\"#m02f868eb55\" y=\"60.460043\"/>\n     <use style=\"fill:#1f77b4;stroke:#1f77b4;\" x=\"148.22781\" xlink:href=\"#m02f868eb55\" y=\"113.415934\"/>\n     <use style=\"fill:#1f77b4;stroke:#1f77b4;\" x=\"178.327763\" xlink:href=\"#m02f868eb55\" y=\"106.385659\"/>\n     <use style=\"fill:#1f77b4;stroke:#1f77b4;\" x=\"89.480146\" xlink:href=\"#m02f868eb55\" y=\"51.003106\"/>\n     <use style=\"fill:#1f77b4;stroke:#1f77b4;\" x=\"145.543296\" xlink:href=\"#m02f868eb55\" y=\"100.123824\"/>\n     <use style=\"fill:#1f77b4;stroke:#1f77b4;\" x=\"139.48924\" xlink:href=\"#m02f868eb55\" y=\"92.09959\"/>\n     <use style=\"fill:#1f77b4;stroke:#1f77b4;\" x=\"129.916039\" xlink:href=\"#m02f868eb55\" y=\"82.222521\"/>\n     <use style=\"fill:#1f77b4;stroke:#1f77b4;\" x=\"93.836399\" xlink:href=\"#m02f868eb55\" y=\"50.82564\"/>\n     <use style=\"fill:#1f77b4;stroke:#1f77b4;\" x=\"145.046756\" xlink:href=\"#m02f868eb55\" y=\"89.787709\"/>\n     <use style=\"fill:#1f77b4;stroke:#1f77b4;\" x=\"170.887688\" xlink:href=\"#m02f868eb55\" y=\"91.550603\"/>\n     <use style=\"fill:#1f77b4;stroke:#1f77b4;\" x=\"141.753884\" xlink:href=\"#m02f868eb55\" y=\"89.452675\"/>\n     <use style=\"fill:#1f77b4;stroke:#1f77b4;\" x=\"134.372784\" xlink:href=\"#m02f868eb55\" y=\"86.995761\"/>\n     <use style=\"fill:#1f77b4;stroke:#1f77b4;\" x=\"121.637866\" xlink:href=\"#m02f868eb55\" y=\"84.495011\"/>\n     <use style=\"fill:#1f77b4;stroke:#1f77b4;\" x=\"109.879398\" xlink:href=\"#m02f868eb55\" y=\"71.905341\"/>\n     <use style=\"fill:#1f77b4;stroke:#1f77b4;\" x=\"177.637002\" xlink:href=\"#m02f868eb55\" y=\"115.991923\"/>\n     <use style=\"fill:#1f77b4;stroke:#1f77b4;\" x=\"128.968497\" xlink:href=\"#m02f868eb55\" y=\"96.703824\"/>\n     <use style=\"fill:#1f77b4;stroke:#1f77b4;\" x=\"158.034797\" xlink:href=\"#m02f868eb55\" y=\"90.82829\"/>\n     <use style=\"fill:#1f77b4;stroke:#1f77b4;\" x=\"117.250565\" xlink:href=\"#m02f868eb55\" y=\"60.677908\"/>\n     <use style=\"fill:#1f77b4;stroke:#1f77b4;\" x=\"164.06187\" xlink:href=\"#m02f868eb55\" y=\"95.453817\"/>\n     <use style=\"fill:#1f77b4;stroke:#1f77b4;\" x=\"167.502451\" xlink:href=\"#m02f868eb55\" y=\"117.027185\"/>\n     <use style=\"fill:#1f77b4;stroke:#1f77b4;\" x=\"89.064208\" xlink:href=\"#m02f868eb55\" y=\"66.527367\"/>\n     <use style=\"fill:#1f77b4;stroke:#1f77b4;\" x=\"105.227553\" xlink:href=\"#m02f868eb55\" y=\"70.901834\"/>\n     <use style=\"fill:#1f77b4;stroke:#1f77b4;\" x=\"120.691113\" xlink:href=\"#m02f868eb55\" y=\"79.296801\"/>\n     <use style=\"fill:#1f77b4;stroke:#1f77b4;\" x=\"136.733849\" xlink:href=\"#m02f868eb55\" y=\"83.418353\"/>\n     <use style=\"fill:#1f77b4;stroke:#1f77b4;\" x=\"183.016949\" xlink:href=\"#m02f868eb55\" y=\"103.604891\"/>\n     <use style=\"fill:#1f77b4;stroke:#1f77b4;\" x=\"148.019963\" xlink:href=\"#m02f868eb55\" y=\"81.545929\"/>\n     <use style=\"fill:#1f77b4;stroke:#1f77b4;\" x=\"145.054049\" xlink:href=\"#m02f868eb55\" y=\"90.394383\"/>\n     <use style=\"fill:#1f77b4;stroke:#1f77b4;\" x=\"124.718165\" xlink:href=\"#m02f868eb55\" y=\"91.801641\"/>\n     <use style=\"fill:#1f77b4;stroke:#1f77b4;\" x=\"155.311645\" xlink:href=\"#m02f868eb55\" y=\"79.044289\"/>\n     <use style=\"fill:#1f77b4;stroke:#1f77b4;\" x=\"145.515747\" xlink:href=\"#m02f868eb55\" y=\"76.405239\"/>\n     <use style=\"fill:#1f77b4;stroke:#1f77b4;\" x=\"96.336421\" xlink:href=\"#m02f868eb55\" y=\"55.898077\"/>\n     <use style=\"fill:#1f77b4;stroke:#1f77b4;\" x=\"154.800703\" xlink:href=\"#m02f868eb55\" y=\"85.725794\"/>\n     <use style=\"fill:#1f77b4;stroke:#1f77b4;\" x=\"119.072255\" xlink:href=\"#m02f868eb55\" y=\"75.574509\"/>\n     <use style=\"fill:#1f77b4;stroke:#1f77b4;\" x=\"137.380904\" xlink:href=\"#m02f868eb55\" y=\"78.211108\"/>\n     <use style=\"fill:#1f77b4;stroke:#1f77b4;\" x=\"60.38912\" xlink:href=\"#m02f868eb55\" y=\"34.837107\"/>\n     <use style=\"fill:#1f77b4;stroke:#1f77b4;\" x=\"208.023949\" xlink:href=\"#m02f868eb55\" y=\"132.202434\"/>\n     <use style=\"fill:#1f77b4;stroke:#1f77b4;\" x=\"125.364623\" xlink:href=\"#m02f868eb55\" y=\"90.867136\"/>\n     <use style=\"fill:#1f77b4;stroke:#1f77b4;\" x=\"85.908354\" xlink:href=\"#m02f868eb55\" y=\"47.693934\"/>\n     <use style=\"fill:#1f77b4;stroke:#1f77b4;\" x=\"110.594994\" xlink:href=\"#m02f868eb55\" y=\"70.364253\"/>\n     <use style=\"fill:#1f77b4;stroke:#1f77b4;\" x=\"107.609367\" xlink:href=\"#m02f868eb55\" y=\"63.238171\"/>\n     <use style=\"fill:#1f77b4;stroke:#1f77b4;\" x=\"73.519744\" xlink:href=\"#m02f868eb55\" y=\"36.575887\"/>\n     <use style=\"fill:#1f77b4;stroke:#1f77b4;\" x=\"179.598186\" xlink:href=\"#m02f868eb55\" y=\"106.934916\"/>\n     <use style=\"fill:#1f77b4;stroke:#1f77b4;\" x=\"130.934464\" xlink:href=\"#m02f868eb55\" y=\"92.754315\"/>\n     <use style=\"fill:#1f77b4;stroke:#1f77b4;\" x=\"133.195953\" xlink:href=\"#m02f868eb55\" y=\"67.865634\"/>\n     <use style=\"fill:#1f77b4;stroke:#1f77b4;\" x=\"143.687879\" xlink:href=\"#m02f868eb55\" y=\"85.866668\"/>\n     <use style=\"fill:#1f77b4;stroke:#1f77b4;\" x=\"166.556235\" xlink:href=\"#m02f868eb55\" y=\"86.224323\"/>\n     <use style=\"fill:#1f77b4;stroke:#1f77b4;\" x=\"154.94177\" xlink:href=\"#m02f868eb55\" y=\"101.351917\"/>\n     <use style=\"fill:#1f77b4;stroke:#1f77b4;\" x=\"136.831826\" xlink:href=\"#m02f868eb55\" y=\"94.500052\"/>\n     <use style=\"fill:#1f77b4;stroke:#1f77b4;\" x=\"125.535436\" xlink:href=\"#m02f868eb55\" y=\"64.151251\"/>\n     <use style=\"fill:#1f77b4;stroke:#1f77b4;\" x=\"172.341703\" xlink:href=\"#m02f868eb55\" y=\"115.718667\"/>\n     <use style=\"fill:#1f77b4;stroke:#1f77b4;\" x=\"89.984834\" xlink:href=\"#m02f868eb55\" y=\"68.573359\"/>\n     <use style=\"fill:#1f77b4;stroke:#1f77b4;\" x=\"94.062046\" xlink:href=\"#m02f868eb55\" y=\"46.773421\"/>\n     <use style=\"fill:#1f77b4;stroke:#1f77b4;\" x=\"80.277846\" xlink:href=\"#m02f868eb55\" y=\"66.880835\"/>\n     <use style=\"fill:#1f77b4;stroke:#1f77b4;\" x=\"110.331236\" xlink:href=\"#m02f868eb55\" y=\"68.636063\"/>\n     <use style=\"fill:#1f77b4;stroke:#1f77b4;\" x=\"119.381728\" xlink:href=\"#m02f868eb55\" y=\"52.098068\"/>\n     <use style=\"fill:#1f77b4;stroke:#1f77b4;\" x=\"151.006035\" xlink:href=\"#m02f868eb55\" y=\"96.292779\"/>\n     <use style=\"fill:#1f77b4;stroke:#1f77b4;\" x=\"189.209591\" xlink:href=\"#m02f868eb55\" y=\"114.698949\"/>\n     <use style=\"fill:#1f77b4;stroke:#1f77b4;\" x=\"153.45047\" xlink:href=\"#m02f868eb55\" y=\"100.400185\"/>\n     <use style=\"fill:#1f77b4;stroke:#1f77b4;\" x=\"74.528482\" xlink:href=\"#m02f868eb55\" y=\"57.581104\"/>\n     <use style=\"fill:#1f77b4;stroke:#1f77b4;\" x=\"198.443647\" xlink:href=\"#m02f868eb55\" y=\"123.783928\"/>\n     <use style=\"fill:#1f77b4;stroke:#1f77b4;\" x=\"143.057367\" xlink:href=\"#m02f868eb55\" y=\"88.590563\"/>\n     <use style=\"fill:#1f77b4;stroke:#1f77b4;\" x=\"127.847127\" xlink:href=\"#m02f868eb55\" y=\"75.509802\"/>\n     <use style=\"fill:#1f77b4;stroke:#1f77b4;\" x=\"151.674226\" xlink:href=\"#m02f868eb55\" y=\"74.471191\"/>\n     <use style=\"fill:#1f77b4;stroke:#1f77b4;\" x=\"133.857364\" xlink:href=\"#m02f868eb55\" y=\"87.251579\"/>\n     <use style=\"fill:#1f77b4;stroke:#1f77b4;\" x=\"122.186755\" xlink:href=\"#m02f868eb55\" y=\"83.152585\"/>\n     <use style=\"fill:#1f77b4;stroke:#1f77b4;\" x=\"152.463844\" xlink:href=\"#m02f868eb55\" y=\"87.897651\"/>\n     <use style=\"fill:#1f77b4;stroke:#1f77b4;\" x=\"86.360677\" xlink:href=\"#m02f868eb55\" y=\"44.486593\"/>\n     <use style=\"fill:#1f77b4;stroke:#1f77b4;\" x=\"98.712818\" xlink:href=\"#m02f868eb55\" y=\"45.547357\"/>\n     <use style=\"fill:#1f77b4;stroke:#1f77b4;\" x=\"154.58521\" xlink:href=\"#m02f868eb55\" y=\"94.416815\"/>\n     <use style=\"fill:#1f77b4;stroke:#1f77b4;\" x=\"115.119228\" xlink:href=\"#m02f868eb55\" y=\"60.435119\"/>\n     <use style=\"fill:#1f77b4;stroke:#1f77b4;\" x=\"173.538619\" xlink:href=\"#m02f868eb55\" y=\"111.104739\"/>\n     <use style=\"fill:#1f77b4;stroke:#1f77b4;\" x=\"181.102105\" xlink:href=\"#m02f868eb55\" y=\"95.845177\"/>\n     <use style=\"fill:#1f77b4;stroke:#1f77b4;\" x=\"167.62497\" xlink:href=\"#m02f868eb55\" y=\"106.420789\"/>\n     <use style=\"fill:#1f77b4;stroke:#1f77b4;\" x=\"84.681775\" xlink:href=\"#m02f868eb55\" y=\"37.574392\"/>\n     <use style=\"fill:#1f77b4;stroke:#1f77b4;\" x=\"111.848352\" xlink:href=\"#m02f868eb55\" y=\"66.070174\"/>\n     <use style=\"fill:#1f77b4;stroke:#1f77b4;\" x=\"141.388361\" xlink:href=\"#m02f868eb55\" y=\"95.328566\"/>\n     <use style=\"fill:#1f77b4;stroke:#1f77b4;\" x=\"155.578787\" xlink:href=\"#m02f868eb55\" y=\"83.555427\"/>\n     <use style=\"fill:#1f77b4;stroke:#1f77b4;\" x=\"161.337719\" xlink:href=\"#m02f868eb55\" y=\"103.066309\"/>\n     <use style=\"fill:#1f77b4;stroke:#1f77b4;\" x=\"122.050359\" xlink:href=\"#m02f868eb55\" y=\"60.172655\"/>\n     <use style=\"fill:#1f77b4;stroke:#1f77b4;\" x=\"113.117337\" xlink:href=\"#m02f868eb55\" y=\"67.759353\"/>\n     <use style=\"fill:#1f77b4;stroke:#1f77b4;\" x=\"70.749771\" xlink:href=\"#m02f868eb55\" y=\"62.582459\"/>\n     <use style=\"fill:#1f77b4;stroke:#1f77b4;\" x=\"134.939641\" xlink:href=\"#m02f868eb55\" y=\"83.667815\"/>\n     <use style=\"fill:#1f77b4;stroke:#1f77b4;\" x=\"141.135781\" xlink:href=\"#m02f868eb55\" y=\"90.528191\"/>\n     <use style=\"fill:#1f77b4;stroke:#1f77b4;\" x=\"131.291608\" xlink:href=\"#m02f868eb55\" y=\"57.058839\"/>\n     <use style=\"fill:#1f77b4;stroke:#1f77b4;\" x=\"106.343688\" xlink:href=\"#m02f868eb55\" y=\"69.721915\"/>\n     <use style=\"fill:#1f77b4;stroke:#1f77b4;\" x=\"106.869789\" xlink:href=\"#m02f868eb55\" y=\"32.984495\"/>\n     <use style=\"fill:#1f77b4;stroke:#1f77b4;\" x=\"97.712372\" xlink:href=\"#m02f868eb55\" y=\"59.834612\"/>\n     <use style=\"fill:#1f77b4;stroke:#1f77b4;\" x=\"118.635241\" xlink:href=\"#m02f868eb55\" y=\"78.73384\"/>\n     <use style=\"fill:#1f77b4;stroke:#1f77b4;\" x=\"168.207518\" xlink:href=\"#m02f868eb55\" y=\"83.478797\"/>\n     <use style=\"fill:#1f77b4;stroke:#1f77b4;\" x=\"88.502327\" xlink:href=\"#m02f868eb55\" y=\"71.62372\"/>\n     <use style=\"fill:#1f77b4;stroke:#1f77b4;\" x=\"156.658491\" xlink:href=\"#m02f868eb55\" y=\"72.213299\"/>\n     <use style=\"fill:#1f77b4;stroke:#1f77b4;\" x=\"88.309066\" xlink:href=\"#m02f868eb55\" y=\"46.785023\"/>\n     <use style=\"fill:#1f77b4;stroke:#1f77b4;\" x=\"143.368448\" xlink:href=\"#m02f868eb55\" y=\"96.410464\"/>\n     <use style=\"fill:#1f77b4;stroke:#1f77b4;\" x=\"159.433502\" xlink:href=\"#m02f868eb55\" y=\"85.204118\"/>\n     <use style=\"fill:#1f77b4;stroke:#1f77b4;\" x=\"172.704218\" xlink:href=\"#m02f868eb55\" y=\"109.359161\"/>\n     <use style=\"fill:#1f77b4;stroke:#1f77b4;\" x=\"167.362851\" xlink:href=\"#m02f868eb55\" y=\"85.469837\"/>\n     <use style=\"fill:#1f77b4;stroke:#1f77b4;\" x=\"114.693596\" xlink:href=\"#m02f868eb55\" y=\"77.390113\"/>\n     <use style=\"fill:#1f77b4;stroke:#1f77b4;\" x=\"187.550444\" xlink:href=\"#m02f868eb55\" y=\"121.042868\"/>\n     <use style=\"fill:#1f77b4;stroke:#1f77b4;\" x=\"192.280656\" xlink:href=\"#m02f868eb55\" y=\"125.707235\"/>\n     <use style=\"fill:#1f77b4;stroke:#1f77b4;\" x=\"150.504819\" xlink:href=\"#m02f868eb55\" y=\"94.558152\"/>\n     <use style=\"fill:#1f77b4;stroke:#1f77b4;\" x=\"114.967222\" xlink:href=\"#m02f868eb55\" y=\"75.767337\"/>\n     <use style=\"fill:#1f77b4;stroke:#1f77b4;\" x=\"174.806517\" xlink:href=\"#m02f868eb55\" y=\"102.172502\"/>\n     <use style=\"fill:#1f77b4;stroke:#1f77b4;\" x=\"162.208654\" xlink:href=\"#m02f868eb55\" y=\"83.112895\"/>\n     <use style=\"fill:#1f77b4;stroke:#1f77b4;\" x=\"140.355683\" xlink:href=\"#m02f868eb55\" y=\"84.614319\"/>\n     <use style=\"fill:#1f77b4;stroke:#1f77b4;\" x=\"141.676954\" xlink:href=\"#m02f868eb55\" y=\"83.021201\"/>\n     <use style=\"fill:#1f77b4;stroke:#1f77b4;\" x=\"186.891988\" xlink:href=\"#m02f868eb55\" y=\"109.956729\"/>\n     <use style=\"fill:#1f77b4;stroke:#1f77b4;\" x=\"155.999112\" xlink:href=\"#m02f868eb55\" y=\"90.188951\"/>\n     <use style=\"fill:#1f77b4;stroke:#1f77b4;\" x=\"125.755122\" xlink:href=\"#m02f868eb55\" y=\"91.445154\"/>\n     <use style=\"fill:#1f77b4;stroke:#1f77b4;\" x=\"112.206555\" xlink:href=\"#m02f868eb55\" y=\"71.832411\"/>\n     <use style=\"fill:#1f77b4;stroke:#1f77b4;\" x=\"109.054727\" xlink:href=\"#m02f868eb55\" y=\"55.288467\"/>\n     <use style=\"fill:#1f77b4;stroke:#1f77b4;\" x=\"207.139437\" xlink:href=\"#m02f868eb55\" y=\"116.948526\"/>\n     <use style=\"fill:#1f77b4;stroke:#1f77b4;\" x=\"116.110371\" xlink:href=\"#m02f868eb55\" y=\"73.297657\"/>\n     <use style=\"fill:#1f77b4;stroke:#1f77b4;\" x=\"121.423622\" xlink:href=\"#m02f868eb55\" y=\"73.054186\"/>\n     <use style=\"fill:#1f77b4;stroke:#1f77b4;\" x=\"111.141028\" xlink:href=\"#m02f868eb55\" y=\"64.726106\"/>\n     <use style=\"fill:#1f77b4;stroke:#1f77b4;\" x=\"153.879824\" xlink:href=\"#m02f868eb55\" y=\"89.802203\"/>\n     <use style=\"fill:#1f77b4;stroke:#1f77b4;\" x=\"132.561453\" xlink:href=\"#m02f868eb55\" y=\"59.499305\"/>\n     <use style=\"fill:#1f77b4;stroke:#1f77b4;\" x=\"147.803234\" xlink:href=\"#m02f868eb55\" y=\"81.812054\"/>\n     <use style=\"fill:#1f77b4;stroke:#1f77b4;\" x=\"123.387841\" xlink:href=\"#m02f868eb55\" y=\"84.869833\"/>\n     <use style=\"fill:#1f77b4;stroke:#1f77b4;\" x=\"154.749502\" xlink:href=\"#m02f868eb55\" y=\"96.303846\"/>\n     <use style=\"fill:#1f77b4;stroke:#1f77b4;\" x=\"113.134868\" xlink:href=\"#m02f868eb55\" y=\"68.289776\"/>\n     <use style=\"fill:#1f77b4;stroke:#1f77b4;\" x=\"93.364503\" xlink:href=\"#m02f868eb55\" y=\"69.90778\"/>\n     <use style=\"fill:#1f77b4;stroke:#1f77b4;\" x=\"138.465563\" xlink:href=\"#m02f868eb55\" y=\"80.264114\"/>\n     <use style=\"fill:#1f77b4;stroke:#1f77b4;\" x=\"142.302652\" xlink:href=\"#m02f868eb55\" y=\"89.538707\"/>\n     <use style=\"fill:#1f77b4;stroke:#1f77b4;\" x=\"159.810868\" xlink:href=\"#m02f868eb55\" y=\"89.378339\"/>\n     <use style=\"fill:#1f77b4;stroke:#1f77b4;\" x=\"143.638874\" xlink:href=\"#m02f868eb55\" y=\"59.063524\"/>\n     <use style=\"fill:#1f77b4;stroke:#1f77b4;\" x=\"93.825234\" xlink:href=\"#m02f868eb55\" y=\"66.125761\"/>\n     <use style=\"fill:#1f77b4;stroke:#1f77b4;\" x=\"126.97772\" xlink:href=\"#m02f868eb55\" y=\"75.297724\"/>\n     <use style=\"fill:#1f77b4;stroke:#1f77b4;\" x=\"84.971977\" xlink:href=\"#m02f868eb55\" y=\"67.534748\"/>\n     <use style=\"fill:#1f77b4;stroke:#1f77b4;\" x=\"163.137638\" xlink:href=\"#m02f868eb55\" y=\"99.674476\"/>\n     <use style=\"fill:#1f77b4;stroke:#1f77b4;\" x=\"82.486333\" xlink:href=\"#m02f868eb55\" y=\"61.256747\"/>\n     <use style=\"fill:#1f77b4;stroke:#1f77b4;\" x=\"124.336638\" xlink:href=\"#m02f868eb55\" y=\"73.486461\"/>\n     <use style=\"fill:#1f77b4;stroke:#1f77b4;\" x=\"109.872305\" xlink:href=\"#m02f868eb55\" y=\"76.447121\"/>\n     <use style=\"fill:#1f77b4;stroke:#1f77b4;\" x=\"168.915951\" xlink:href=\"#m02f868eb55\" y=\"117.107321\"/>\n     <use style=\"fill:#1f77b4;stroke:#1f77b4;\" x=\"88.488442\" xlink:href=\"#m02f868eb55\" y=\"41.474445\"/>\n     <use style=\"fill:#1f77b4;stroke:#1f77b4;\" x=\"151.341589\" xlink:href=\"#m02f868eb55\" y=\"103.335474\"/>\n     <use style=\"fill:#1f77b4;stroke:#1f77b4;\" x=\"113.804287\" xlink:href=\"#m02f868eb55\" y=\"48.591604\"/>\n     <use style=\"fill:#1f77b4;stroke:#1f77b4;\" x=\"172.72156\" xlink:href=\"#m02f868eb55\" y=\"116.867591\"/>\n     <use style=\"fill:#1f77b4;stroke:#1f77b4;\" x=\"131.789796\" xlink:href=\"#m02f868eb55\" y=\"74.971443\"/>\n     <use style=\"fill:#1f77b4;stroke:#1f77b4;\" x=\"138.004367\" xlink:href=\"#m02f868eb55\" y=\"75.871109\"/>\n     <use style=\"fill:#1f77b4;stroke:#1f77b4;\" x=\"163.228542\" xlink:href=\"#m02f868eb55\" y=\"88.824429\"/>\n     <use style=\"fill:#1f77b4;stroke:#1f77b4;\" x=\"120.490846\" xlink:href=\"#m02f868eb55\" y=\"78.425068\"/>\n     <use style=\"fill:#1f77b4;stroke:#1f77b4;\" x=\"148.46015\" xlink:href=\"#m02f868eb55\" y=\"89.663181\"/>\n     <use style=\"fill:#1f77b4;stroke:#1f77b4;\" x=\"86.134972\" xlink:href=\"#m02f868eb55\" y=\"41.930155\"/>\n     <use style=\"fill:#1f77b4;stroke:#1f77b4;\" x=\"95.606097\" xlink:href=\"#m02f868eb55\" y=\"53.941049\"/>\n     <use style=\"fill:#1f77b4;stroke:#1f77b4;\" x=\"148.26836\" xlink:href=\"#m02f868eb55\" y=\"87.951962\"/>\n     <use style=\"fill:#1f77b4;stroke:#1f77b4;\" x=\"156.756361\" xlink:href=\"#m02f868eb55\" y=\"96.866298\"/>\n     <use style=\"fill:#1f77b4;stroke:#1f77b4;\" x=\"134.920026\" xlink:href=\"#m02f868eb55\" y=\"73.617347\"/>\n     <use style=\"fill:#1f77b4;stroke:#1f77b4;\" x=\"102.416092\" xlink:href=\"#m02f868eb55\" y=\"67.620385\"/>\n     <use style=\"fill:#1f77b4;stroke:#1f77b4;\" x=\"108.862815\" xlink:href=\"#m02f868eb55\" y=\"60.6256\"/>\n     <use style=\"fill:#1f77b4;stroke:#1f77b4;\" x=\"170.421175\" xlink:href=\"#m02f868eb55\" y=\"99.586482\"/>\n     <use style=\"fill:#1f77b4;stroke:#1f77b4;\" x=\"82.463967\" xlink:href=\"#m02f868eb55\" y=\"52.565672\"/>\n     <use style=\"fill:#1f77b4;stroke:#1f77b4;\" x=\"159.607973\" xlink:href=\"#m02f868eb55\" y=\"93.261067\"/>\n     <use style=\"fill:#1f77b4;stroke:#1f77b4;\" x=\"146.017515\" xlink:href=\"#m02f868eb55\" y=\"75.918435\"/>\n     <use style=\"fill:#1f77b4;stroke:#1f77b4;\" x=\"97.546255\" xlink:href=\"#m02f868eb55\" y=\"48.150209\"/>\n     <use style=\"fill:#1f77b4;stroke:#1f77b4;\" x=\"112.52408\" xlink:href=\"#m02f868eb55\" y=\"54.311159\"/>\n     <use style=\"fill:#1f77b4;stroke:#1f77b4;\" x=\"104.8438\" xlink:href=\"#m02f868eb55\" y=\"74.468287\"/>\n     <use style=\"fill:#1f77b4;stroke:#1f77b4;\" x=\"123.500258\" xlink:href=\"#m02f868eb55\" y=\"58.117402\"/>\n     <use style=\"fill:#1f77b4;stroke:#1f77b4;\" x=\"100.132904\" xlink:href=\"#m02f868eb55\" y=\"64.095557\"/>\n     <use style=\"fill:#1f77b4;stroke:#1f77b4;\" x=\"145.608899\" xlink:href=\"#m02f868eb55\" y=\"87.289251\"/>\n     <use style=\"fill:#1f77b4;stroke:#1f77b4;\" x=\"98.549784\" xlink:href=\"#m02f868eb55\" y=\"61.925387\"/>\n     <use style=\"fill:#1f77b4;stroke:#1f77b4;\" x=\"64.740388\" xlink:href=\"#m02f868eb55\" y=\"39.868578\"/>\n     <use style=\"fill:#1f77b4;stroke:#1f77b4;\" x=\"180.850274\" xlink:href=\"#m02f868eb55\" y=\"112.470067\"/>\n     <use style=\"fill:#1f77b4;stroke:#1f77b4;\" x=\"123.911873\" xlink:href=\"#m02f868eb55\" y=\"80.90627\"/>\n     <use style=\"fill:#1f77b4;stroke:#1f77b4;\" x=\"157.877093\" xlink:href=\"#m02f868eb55\" y=\"95.177001\"/>\n     <use style=\"fill:#1f77b4;stroke:#1f77b4;\" x=\"127.741056\" xlink:href=\"#m02f868eb55\" y=\"81.197678\"/>\n     <use style=\"fill:#1f77b4;stroke:#1f77b4;\" x=\"72.59379\" xlink:href=\"#m02f868eb55\" y=\"50.733959\"/>\n     <use style=\"fill:#1f77b4;stroke:#1f77b4;\" x=\"116.951312\" xlink:href=\"#m02f868eb55\" y=\"67.118829\"/>\n     <use style=\"fill:#1f77b4;stroke:#1f77b4;\" x=\"159.566244\" xlink:href=\"#m02f868eb55\" y=\"96.016803\"/>\n     <use style=\"fill:#1f77b4;stroke:#1f77b4;\" x=\"141.792961\" xlink:href=\"#m02f868eb55\" y=\"99.807876\"/>\n     <use style=\"fill:#1f77b4;stroke:#1f77b4;\" x=\"166.649752\" xlink:href=\"#m02f868eb55\" y=\"100.782449\"/>\n     <use style=\"fill:#1f77b4;stroke:#1f77b4;\" x=\"87.047849\" xlink:href=\"#m02f868eb55\" y=\"53.081882\"/>\n     <use style=\"fill:#1f77b4;stroke:#1f77b4;\" x=\"104.160405\" xlink:href=\"#m02f868eb55\" y=\"40.709109\"/>\n     <use style=\"fill:#1f77b4;stroke:#1f77b4;\" x=\"164.441363\" xlink:href=\"#m02f868eb55\" y=\"89.059894\"/>\n     <use style=\"fill:#1f77b4;stroke:#1f77b4;\" x=\"79.604292\" xlink:href=\"#m02f868eb55\" y=\"55.350424\"/>\n     <use style=\"fill:#1f77b4;stroke:#1f77b4;\" x=\"104.341272\" xlink:href=\"#m02f868eb55\" y=\"67.228412\"/>\n     <use style=\"fill:#1f77b4;stroke:#1f77b4;\" x=\"117.441464\" xlink:href=\"#m02f868eb55\" y=\"71.039224\"/>\n     <use style=\"fill:#1f77b4;stroke:#1f77b4;\" x=\"99.609556\" xlink:href=\"#m02f868eb55\" y=\"54.195219\"/>\n     <use style=\"fill:#1f77b4;stroke:#1f77b4;\" x=\"131.058739\" xlink:href=\"#m02f868eb55\" y=\"93.87718\"/>\n     <use style=\"fill:#1f77b4;stroke:#1f77b4;\" x=\"166.784578\" xlink:href=\"#m02f868eb55\" y=\"101.098657\"/>\n     <use style=\"fill:#1f77b4;stroke:#1f77b4;\" x=\"155.394151\" xlink:href=\"#m02f868eb55\" y=\"95.370366\"/>\n     <use style=\"fill:#1f77b4;stroke:#1f77b4;\" x=\"138.596419\" xlink:href=\"#m02f868eb55\" y=\"80.793077\"/>\n     <use style=\"fill:#1f77b4;stroke:#1f77b4;\" x=\"133.868751\" xlink:href=\"#m02f868eb55\" y=\"76.769051\"/>\n     <use style=\"fill:#1f77b4;stroke:#1f77b4;\" x=\"125.565278\" xlink:href=\"#m02f868eb55\" y=\"58.723815\"/>\n     <use style=\"fill:#1f77b4;stroke:#1f77b4;\" x=\"113.089408\" xlink:href=\"#m02f868eb55\" y=\"77.025358\"/>\n     <use style=\"fill:#1f77b4;stroke:#1f77b4;\" x=\"156.345574\" xlink:href=\"#m02f868eb55\" y=\"93.779502\"/>\n     <use style=\"fill:#1f77b4;stroke:#1f77b4;\" x=\"105.644377\" xlink:href=\"#m02f868eb55\" y=\"76.152645\"/>\n     <use style=\"fill:#1f77b4;stroke:#1f77b4;\" x=\"141.069048\" xlink:href=\"#m02f868eb55\" y=\"90.586701\"/>\n     <use style=\"fill:#1f77b4;stroke:#1f77b4;\" x=\"128.972708\" xlink:href=\"#m02f868eb55\" y=\"49.678162\"/>\n     <use style=\"fill:#1f77b4;stroke:#1f77b4;\" x=\"135.907213\" xlink:href=\"#m02f868eb55\" y=\"85.352648\"/>\n     <use style=\"fill:#1f77b4;stroke:#1f77b4;\" x=\"132.190024\" xlink:href=\"#m02f868eb55\" y=\"63.656068\"/>\n     <use style=\"fill:#1f77b4;stroke:#1f77b4;\" x=\"86.27956\" xlink:href=\"#m02f868eb55\" y=\"43.276147\"/>\n     <use style=\"fill:#1f77b4;stroke:#1f77b4;\" x=\"165.260169\" xlink:href=\"#m02f868eb55\" y=\"103.118082\"/>\n     <use style=\"fill:#1f77b4;stroke:#1f77b4;\" x=\"104.799556\" xlink:href=\"#m02f868eb55\" y=\"60.129237\"/>\n     <use style=\"fill:#1f77b4;stroke:#1f77b4;\" x=\"99.640732\" xlink:href=\"#m02f868eb55\" y=\"42.901594\"/>\n     <use style=\"fill:#1f77b4;stroke:#1f77b4;\" x=\"59.690258\" xlink:href=\"#m02f868eb55\" y=\"31.810874\"/>\n     <use style=\"fill:#1f77b4;stroke:#1f77b4;\" x=\"128.431519\" xlink:href=\"#m02f868eb55\" y=\"76.972534\"/>\n     <use style=\"fill:#1f77b4;stroke:#1f77b4;\" x=\"92.843716\" xlink:href=\"#m02f868eb55\" y=\"37.094129\"/>\n     <use style=\"fill:#1f77b4;stroke:#1f77b4;\" x=\"120.567359\" xlink:href=\"#m02f868eb55\" y=\"86.845639\"/>\n     <use style=\"fill:#1f77b4;stroke:#1f77b4;\" x=\"161.15453\" xlink:href=\"#m02f868eb55\" y=\"106.8648\"/>\n     <use style=\"fill:#1f77b4;stroke:#1f77b4;\" x=\"137.445548\" xlink:href=\"#m02f868eb55\" y=\"85.011472\"/>\n     <use style=\"fill:#1f77b4;stroke:#1f77b4;\" x=\"128.852316\" xlink:href=\"#m02f868eb55\" y=\"100.524315\"/>\n     <use style=\"fill:#1f77b4;stroke:#1f77b4;\" x=\"150.031713\" xlink:href=\"#m02f868eb55\" y=\"86.705852\"/>\n     <use style=\"fill:#1f77b4;stroke:#1f77b4;\" x=\"37.81946\" xlink:href=\"#m02f868eb55\" y=\"13.377273\"/>\n     <use style=\"fill:#1f77b4;stroke:#1f77b4;\" x=\"115.664505\" xlink:href=\"#m02f868eb55\" y=\"68.945878\"/>\n     <use style=\"fill:#1f77b4;stroke:#1f77b4;\" x=\"117.794836\" xlink:href=\"#m02f868eb55\" y=\"64.198675\"/>\n     <use style=\"fill:#1f77b4;stroke:#1f77b4;\" x=\"54.736757\" xlink:href=\"#m02f868eb55\" y=\"34.716436\"/>\n     <use style=\"fill:#1f77b4;stroke:#1f77b4;\" x=\"86.49551\" xlink:href=\"#m02f868eb55\" y=\"59.85863\"/>\n     <use style=\"fill:#1f77b4;stroke:#1f77b4;\" x=\"197.891833\" xlink:href=\"#m02f868eb55\" y=\"127.299356\"/>\n     <use style=\"fill:#1f77b4;stroke:#1f77b4;\" x=\"133.218489\" xlink:href=\"#m02f868eb55\" y=\"79.791202\"/>\n     <use style=\"fill:#1f77b4;stroke:#1f77b4;\" x=\"121.124346\" xlink:href=\"#m02f868eb55\" y=\"83.021666\"/>\n     <use style=\"fill:#1f77b4;stroke:#1f77b4;\" x=\"143.698881\" xlink:href=\"#m02f868eb55\" y=\"91.800006\"/>\n     <use style=\"fill:#1f77b4;stroke:#1f77b4;\" x=\"148.329297\" xlink:href=\"#m02f868eb55\" y=\"79.335386\"/>\n     <use style=\"fill:#1f77b4;stroke:#1f77b4;\" x=\"139.120849\" xlink:href=\"#m02f868eb55\" y=\"81.910403\"/>\n     <use style=\"fill:#1f77b4;stroke:#1f77b4;\" x=\"138.26545\" xlink:href=\"#m02f868eb55\" y=\"75.461365\"/>\n     <use style=\"fill:#1f77b4;stroke:#1f77b4;\" x=\"151.579379\" xlink:href=\"#m02f868eb55\" y=\"85.082367\"/>\n     <use style=\"fill:#1f77b4;stroke:#1f77b4;\" x=\"125.989043\" xlink:href=\"#m02f868eb55\" y=\"70.168938\"/>\n     <use style=\"fill:#1f77b4;stroke:#1f77b4;\" x=\"130.249605\" xlink:href=\"#m02f868eb55\" y=\"83.080732\"/>\n     <use style=\"fill:#1f77b4;stroke:#1f77b4;\" x=\"121.836052\" xlink:href=\"#m02f868eb55\" y=\"64.209927\"/>\n     <use style=\"fill:#1f77b4;stroke:#1f77b4;\" x=\"79.820922\" xlink:href=\"#m02f868eb55\" y=\"65.259303\"/>\n     <use style=\"fill:#1f77b4;stroke:#1f77b4;\" x=\"143.738533\" xlink:href=\"#m02f868eb55\" y=\"90.181347\"/>\n     <use style=\"fill:#1f77b4;stroke:#1f77b4;\" x=\"108.976747\" xlink:href=\"#m02f868eb55\" y=\"57.82239\"/>\n     <use style=\"fill:#1f77b4;stroke:#1f77b4;\" x=\"147.104231\" xlink:href=\"#m02f868eb55\" y=\"69.723693\"/>\n     <use style=\"fill:#1f77b4;stroke:#1f77b4;\" x=\"130.936754\" xlink:href=\"#m02f868eb55\" y=\"85.704702\"/>\n     <use style=\"fill:#1f77b4;stroke:#1f77b4;\" x=\"141.519569\" xlink:href=\"#m02f868eb55\" y=\"92.895895\"/>\n     <use style=\"fill:#1f77b4;stroke:#1f77b4;\" x=\"152.960722\" xlink:href=\"#m02f868eb55\" y=\"83.343388\"/>\n     <use style=\"fill:#1f77b4;stroke:#1f77b4;\" x=\"141.209128\" xlink:href=\"#m02f868eb55\" y=\"90.226463\"/>\n     <use style=\"fill:#1f77b4;stroke:#1f77b4;\" x=\"210.610772\" xlink:href=\"#m02f868eb55\" y=\"123.890789\"/>\n     <use style=\"fill:#1f77b4;stroke:#1f77b4;\" x=\"186.093321\" xlink:href=\"#m02f868eb55\" y=\"125.831251\"/>\n     <use style=\"fill:#1f77b4;stroke:#1f77b4;\" x=\"159.785909\" xlink:href=\"#m02f868eb55\" y=\"95.93435\"/>\n     <use style=\"fill:#1f77b4;stroke:#1f77b4;\" x=\"145.348445\" xlink:href=\"#m02f868eb55\" y=\"90.709088\"/>\n     <use style=\"fill:#1f77b4;stroke:#1f77b4;\" x=\"151.970329\" xlink:href=\"#m02f868eb55\" y=\"90.854339\"/>\n     <use style=\"fill:#1f77b4;stroke:#1f77b4;\" x=\"132.206759\" xlink:href=\"#m02f868eb55\" y=\"85.653251\"/>\n     <use style=\"fill:#1f77b4;stroke:#1f77b4;\" x=\"139.553247\" xlink:href=\"#m02f868eb55\" y=\"92.436197\"/>\n     <use style=\"fill:#1f77b4;stroke:#1f77b4;\" x=\"80.602125\" xlink:href=\"#m02f868eb55\" y=\"53.984488\"/>\n     <use style=\"fill:#1f77b4;stroke:#1f77b4;\" x=\"125.229203\" xlink:href=\"#m02f868eb55\" y=\"87.020026\"/>\n     <use style=\"fill:#1f77b4;stroke:#1f77b4;\" x=\"181.895433\" xlink:href=\"#m02f868eb55\" y=\"102.231494\"/>\n     <use style=\"fill:#1f77b4;stroke:#1f77b4;\" x=\"123.586561\" xlink:href=\"#m02f868eb55\" y=\"75.894106\"/>\n     <use style=\"fill:#1f77b4;stroke:#1f77b4;\" x=\"127.144496\" xlink:href=\"#m02f868eb55\" y=\"83.250984\"/>\n     <use style=\"fill:#1f77b4;stroke:#1f77b4;\" x=\"145.069208\" xlink:href=\"#m02f868eb55\" y=\"87.3368\"/>\n     <use style=\"fill:#1f77b4;stroke:#1f77b4;\" x=\"154.674469\" xlink:href=\"#m02f868eb55\" y=\"92.733356\"/>\n     <use style=\"fill:#1f77b4;stroke:#1f77b4;\" x=\"104.423073\" xlink:href=\"#m02f868eb55\" y=\"53.435409\"/>\n     <use style=\"fill:#1f77b4;stroke:#1f77b4;\" x=\"124.756679\" xlink:href=\"#m02f868eb55\" y=\"67.863615\"/>\n     <use style=\"fill:#1f77b4;stroke:#1f77b4;\" x=\"151.409946\" xlink:href=\"#m02f868eb55\" y=\"87.199358\"/>\n     <use style=\"fill:#1f77b4;stroke:#1f77b4;\" x=\"172.400874\" xlink:href=\"#m02f868eb55\" y=\"100.774753\"/>\n     <use style=\"fill:#1f77b4;stroke:#1f77b4;\" x=\"130.66203\" xlink:href=\"#m02f868eb55\" y=\"57.214186\"/>\n     <use style=\"fill:#1f77b4;stroke:#1f77b4;\" x=\"173.607963\" xlink:href=\"#m02f868eb55\" y=\"107.203738\"/>\n     <use style=\"fill:#1f77b4;stroke:#1f77b4;\" x=\"193.83331\" xlink:href=\"#m02f868eb55\" y=\"133.360482\"/>\n     <use style=\"fill:#1f77b4;stroke:#1f77b4;\" x=\"126.681959\" xlink:href=\"#m02f868eb55\" y=\"68.149838\"/>\n     <use style=\"fill:#1f77b4;stroke:#1f77b4;\" x=\"118.20122\" xlink:href=\"#m02f868eb55\" y=\"68.762262\"/>\n     <use style=\"fill:#1f77b4;stroke:#1f77b4;\" x=\"135.502517\" xlink:href=\"#m02f868eb55\" y=\"83.566357\"/>\n     <use style=\"fill:#1f77b4;stroke:#1f77b4;\" x=\"152.332964\" xlink:href=\"#m02f868eb55\" y=\"82.553513\"/>\n     <use style=\"fill:#1f77b4;stroke:#1f77b4;\" x=\"176.659932\" xlink:href=\"#m02f868eb55\" y=\"108.48578\"/>\n     <use style=\"fill:#1f77b4;stroke:#1f77b4;\" x=\"124.316624\" xlink:href=\"#m02f868eb55\" y=\"80.45324\"/>\n     <use style=\"fill:#1f77b4;stroke:#1f77b4;\" x=\"120.369415\" xlink:href=\"#m02f868eb55\" y=\"71.825956\"/>\n     <use style=\"fill:#1f77b4;stroke:#1f77b4;\" x=\"121.993773\" xlink:href=\"#m02f868eb55\" y=\"64.045401\"/>\n     <use style=\"fill:#1f77b4;stroke:#1f77b4;\" x=\"121.862614\" xlink:href=\"#m02f868eb55\" y=\"82.171993\"/>\n     <use style=\"fill:#1f77b4;stroke:#1f77b4;\" x=\"99.779528\" xlink:href=\"#m02f868eb55\" y=\"65.473345\"/>\n     <use style=\"fill:#1f77b4;stroke:#1f77b4;\" x=\"113.223411\" xlink:href=\"#m02f868eb55\" y=\"63.470162\"/>\n     <use style=\"fill:#1f77b4;stroke:#1f77b4;\" x=\"122.828196\" xlink:href=\"#m02f868eb55\" y=\"73.907349\"/>\n     <use style=\"fill:#1f77b4;stroke:#1f77b4;\" x=\"163.703386\" xlink:href=\"#m02f868eb55\" y=\"101.107268\"/>\n     <use style=\"fill:#1f77b4;stroke:#1f77b4;\" x=\"121.210343\" xlink:href=\"#m02f868eb55\" y=\"70.448912\"/>\n     <use style=\"fill:#1f77b4;stroke:#1f77b4;\" x=\"144.285567\" xlink:href=\"#m02f868eb55\" y=\"86.339789\"/>\n     <use style=\"fill:#1f77b4;stroke:#1f77b4;\" x=\"125.588749\" xlink:href=\"#m02f868eb55\" y=\"59.930682\"/>\n     <use style=\"fill:#1f77b4;stroke:#1f77b4;\" x=\"168.668883\" xlink:href=\"#m02f868eb55\" y=\"122.002377\"/>\n     <use style=\"fill:#1f77b4;stroke:#1f77b4;\" x=\"116.804389\" xlink:href=\"#m02f868eb55\" y=\"62.377688\"/>\n     <use style=\"fill:#1f77b4;stroke:#1f77b4;\" x=\"110.550873\" xlink:href=\"#m02f868eb55\" y=\"50.042007\"/>\n     <use style=\"fill:#1f77b4;stroke:#1f77b4;\" x=\"149.574938\" xlink:href=\"#m02f868eb55\" y=\"79.093282\"/>\n     <use style=\"fill:#1f77b4;stroke:#1f77b4;\" x=\"158.188284\" xlink:href=\"#m02f868eb55\" y=\"92.324789\"/>\n     <use style=\"fill:#1f77b4;stroke:#1f77b4;\" x=\"126.433312\" xlink:href=\"#m02f868eb55\" y=\"70.944731\"/>\n     <use style=\"fill:#1f77b4;stroke:#1f77b4;\" x=\"168.236137\" xlink:href=\"#m02f868eb55\" y=\"91.40121\"/>\n     <use style=\"fill:#1f77b4;stroke:#1f77b4;\" x=\"113.574657\" xlink:href=\"#m02f868eb55\" y=\"68.970594\"/>\n     <use style=\"fill:#1f77b4;stroke:#1f77b4;\" x=\"122.427151\" xlink:href=\"#m02f868eb55\" y=\"51.748985\"/>\n     <use style=\"fill:#1f77b4;stroke:#1f77b4;\" x=\"142.725489\" xlink:href=\"#m02f868eb55\" y=\"73.524784\"/>\n     <use style=\"fill:#1f77b4;stroke:#1f77b4;\" x=\"150.444126\" xlink:href=\"#m02f868eb55\" y=\"111.507316\"/>\n     <use style=\"fill:#1f77b4;stroke:#1f77b4;\" x=\"131.155798\" xlink:href=\"#m02f868eb55\" y=\"102.294361\"/>\n     <use style=\"fill:#1f77b4;stroke:#1f77b4;\" x=\"157.886305\" xlink:href=\"#m02f868eb55\" y=\"113.852969\"/>\n     <use style=\"fill:#1f77b4;stroke:#1f77b4;\" x=\"135.707025\" xlink:href=\"#m02f868eb55\" y=\"83.063226\"/>\n     <use style=\"fill:#1f77b4;stroke:#1f77b4;\" x=\"114.052248\" xlink:href=\"#m02f868eb55\" y=\"69.863951\"/>\n     <use style=\"fill:#1f77b4;stroke:#1f77b4;\" x=\"177.542162\" xlink:href=\"#m02f868eb55\" y=\"96.190126\"/>\n     <use style=\"fill:#1f77b4;stroke:#1f77b4;\" x=\"138.618121\" xlink:href=\"#m02f868eb55\" y=\"81.475458\"/>\n     <use style=\"fill:#1f77b4;stroke:#1f77b4;\" x=\"150.589709\" xlink:href=\"#m02f868eb55\" y=\"94.934643\"/>\n     <use style=\"fill:#1f77b4;stroke:#1f77b4;\" x=\"185.150804\" xlink:href=\"#m02f868eb55\" y=\"101.091595\"/>\n     <use style=\"fill:#1f77b4;stroke:#1f77b4;\" x=\"137.498247\" xlink:href=\"#m02f868eb55\" y=\"101.423183\"/>\n     <use style=\"fill:#1f77b4;stroke:#1f77b4;\" x=\"142.519043\" xlink:href=\"#m02f868eb55\" y=\"89.446434\"/>\n     <use style=\"fill:#1f77b4;stroke:#1f77b4;\" x=\"150.632754\" xlink:href=\"#m02f868eb55\" y=\"95.867107\"/>\n     <use style=\"fill:#1f77b4;stroke:#1f77b4;\" x=\"105.177245\" xlink:href=\"#m02f868eb55\" y=\"66.99933\"/>\n     <use style=\"fill:#1f77b4;stroke:#1f77b4;\" x=\"79.839561\" xlink:href=\"#m02f868eb55\" y=\"60.836777\"/>\n     <use style=\"fill:#1f77b4;stroke:#1f77b4;\" x=\"129.097092\" xlink:href=\"#m02f868eb55\" y=\"75.945065\"/>\n     <use style=\"fill:#1f77b4;stroke:#1f77b4;\" x=\"155.948244\" xlink:href=\"#m02f868eb55\" y=\"81.433406\"/>\n     <use style=\"fill:#1f77b4;stroke:#1f77b4;\" x=\"158.503905\" xlink:href=\"#m02f868eb55\" y=\"102.295599\"/>\n     <use style=\"fill:#1f77b4;stroke:#1f77b4;\" x=\"197.144516\" xlink:href=\"#m02f868eb55\" y=\"122.376036\"/>\n     <use style=\"fill:#1f77b4;stroke:#1f77b4;\" x=\"127.925039\" xlink:href=\"#m02f868eb55\" y=\"79.546155\"/>\n     <use style=\"fill:#1f77b4;stroke:#1f77b4;\" x=\"150.698968\" xlink:href=\"#m02f868eb55\" y=\"80.726782\"/>\n     <use style=\"fill:#1f77b4;stroke:#1f77b4;\" x=\"124.365755\" xlink:href=\"#m02f868eb55\" y=\"73.841231\"/>\n     <use style=\"fill:#1f77b4;stroke:#1f77b4;\" x=\"116.546024\" xlink:href=\"#m02f868eb55\" y=\"65.241721\"/>\n     <use style=\"fill:#1f77b4;stroke:#1f77b4;\" x=\"126.978554\" xlink:href=\"#m02f868eb55\" y=\"78.902706\"/>\n     <use style=\"fill:#1f77b4;stroke:#1f77b4;\" x=\"102.37302\" xlink:href=\"#m02f868eb55\" y=\"77.58883\"/>\n     <use style=\"fill:#1f77b4;stroke:#1f77b4;\" x=\"122.013355\" xlink:href=\"#m02f868eb55\" y=\"60.874046\"/>\n     <use style=\"fill:#1f77b4;stroke:#1f77b4;\" x=\"127.873628\" xlink:href=\"#m02f868eb55\" y=\"89.188441\"/>\n     <use style=\"fill:#1f77b4;stroke:#1f77b4;\" x=\"128.739877\" xlink:href=\"#m02f868eb55\" y=\"80.721453\"/>\n     <use style=\"fill:#1f77b4;stroke:#1f77b4;\" x=\"166.738556\" xlink:href=\"#m02f868eb55\" y=\"104.155574\"/>\n     <use style=\"fill:#1f77b4;stroke:#1f77b4;\" x=\"136.804292\" xlink:href=\"#m02f868eb55\" y=\"77.512365\"/>\n     <use style=\"fill:#1f77b4;stroke:#1f77b4;\" x=\"61.965495\" xlink:href=\"#m02f868eb55\" y=\"39.031978\"/>\n     <use style=\"fill:#1f77b4;stroke:#1f77b4;\" x=\"153.79722\" xlink:href=\"#m02f868eb55\" y=\"87.248801\"/>\n     <use style=\"fill:#1f77b4;stroke:#1f77b4;\" x=\"161.771924\" xlink:href=\"#m02f868eb55\" y=\"110.843212\"/>\n     <use style=\"fill:#1f77b4;stroke:#1f77b4;\" x=\"111.621979\" xlink:href=\"#m02f868eb55\" y=\"78.279284\"/>\n     <use style=\"fill:#1f77b4;stroke:#1f77b4;\" x=\"194.766224\" xlink:href=\"#m02f868eb55\" y=\"120.575994\"/>\n     <use style=\"fill:#1f77b4;stroke:#1f77b4;\" x=\"164.778745\" xlink:href=\"#m02f868eb55\" y=\"101.27642\"/>\n     <use style=\"fill:#1f77b4;stroke:#1f77b4;\" x=\"141.545802\" xlink:href=\"#m02f868eb55\" y=\"96.26074\"/>\n     <use style=\"fill:#1f77b4;stroke:#1f77b4;\" x=\"142.297438\" xlink:href=\"#m02f868eb55\" y=\"74.127226\"/>\n     <use style=\"fill:#1f77b4;stroke:#1f77b4;\" x=\"106.055879\" xlink:href=\"#m02f868eb55\" y=\"64.402081\"/>\n     <use style=\"fill:#1f77b4;stroke:#1f77b4;\" x=\"77.51744\" xlink:href=\"#m02f868eb55\" y=\"47.73235\"/>\n     <use style=\"fill:#1f77b4;stroke:#1f77b4;\" x=\"85.718784\" xlink:href=\"#m02f868eb55\" y=\"53.435291\"/>\n     <use style=\"fill:#1f77b4;stroke:#1f77b4;\" x=\"164.757365\" xlink:href=\"#m02f868eb55\" y=\"88.700197\"/>\n     <use style=\"fill:#1f77b4;stroke:#1f77b4;\" x=\"148.945338\" xlink:href=\"#m02f868eb55\" y=\"92.426193\"/>\n     <use style=\"fill:#1f77b4;stroke:#1f77b4;\" x=\"106.883314\" xlink:href=\"#m02f868eb55\" y=\"61.046764\"/>\n     <use style=\"fill:#1f77b4;stroke:#1f77b4;\" x=\"153.427434\" xlink:href=\"#m02f868eb55\" y=\"94.913139\"/>\n     <use style=\"fill:#1f77b4;stroke:#1f77b4;\" x=\"67.902202\" xlink:href=\"#m02f868eb55\" y=\"40.018891\"/>\n     <use style=\"fill:#1f77b4;stroke:#1f77b4;\" x=\"149.262682\" xlink:href=\"#m02f868eb55\" y=\"104.786548\"/>\n     <use style=\"fill:#1f77b4;stroke:#1f77b4;\" x=\"120.429617\" xlink:href=\"#m02f868eb55\" y=\"86.006239\"/>\n     <use style=\"fill:#1f77b4;stroke:#1f77b4;\" x=\"128.117695\" xlink:href=\"#m02f868eb55\" y=\"85.330867\"/>\n     <use style=\"fill:#1f77b4;stroke:#1f77b4;\" x=\"135.363562\" xlink:href=\"#m02f868eb55\" y=\"81.547702\"/>\n     <use style=\"fill:#1f77b4;stroke:#1f77b4;\" x=\"131.719063\" xlink:href=\"#m02f868eb55\" y=\"84.093766\"/>\n     <use style=\"fill:#1f77b4;stroke:#1f77b4;\" x=\"110.648329\" xlink:href=\"#m02f868eb55\" y=\"65.641717\"/>\n     <use style=\"fill:#1f77b4;stroke:#1f77b4;\" x=\"137.276412\" xlink:href=\"#m02f868eb55\" y=\"77.315626\"/>\n     <use style=\"fill:#1f77b4;stroke:#1f77b4;\" x=\"128.032712\" xlink:href=\"#m02f868eb55\" y=\"72.892824\"/>\n     <use style=\"fill:#1f77b4;stroke:#1f77b4;\" x=\"144.116566\" xlink:href=\"#m02f868eb55\" y=\"86.415407\"/>\n     <use style=\"fill:#1f77b4;stroke:#1f77b4;\" x=\"144.590104\" xlink:href=\"#m02f868eb55\" y=\"75.34163\"/>\n     <use style=\"fill:#1f77b4;stroke:#1f77b4;\" x=\"97.427478\" xlink:href=\"#m02f868eb55\" y=\"59.097938\"/>\n     <use style=\"fill:#1f77b4;stroke:#1f77b4;\" x=\"138.799022\" xlink:href=\"#m02f868eb55\" y=\"93.760466\"/>\n     <use style=\"fill:#1f77b4;stroke:#1f77b4;\" x=\"111.711774\" xlink:href=\"#m02f868eb55\" y=\"66.891417\"/>\n     <use style=\"fill:#1f77b4;stroke:#1f77b4;\" x=\"151.503977\" xlink:href=\"#m02f868eb55\" y=\"100.270659\"/>\n     <use style=\"fill:#1f77b4;stroke:#1f77b4;\" x=\"114.648103\" xlink:href=\"#m02f868eb55\" y=\"95.439731\"/>\n     <use style=\"fill:#1f77b4;stroke:#1f77b4;\" x=\"196.52659\" xlink:href=\"#m02f868eb55\" y=\"110.650711\"/>\n     <use style=\"fill:#1f77b4;stroke:#1f77b4;\" x=\"121.072848\" xlink:href=\"#m02f868eb55\" y=\"88.295837\"/>\n     <use style=\"fill:#1f77b4;stroke:#1f77b4;\" x=\"142.019387\" xlink:href=\"#m02f868eb55\" y=\"75.26298\"/>\n     <use style=\"fill:#1f77b4;stroke:#1f77b4;\" x=\"139.246493\" xlink:href=\"#m02f868eb55\" y=\"96.010599\"/>\n     <use style=\"fill:#1f77b4;stroke:#1f77b4;\" x=\"89.560615\" xlink:href=\"#m02f868eb55\" y=\"59.849066\"/>\n     <use style=\"fill:#1f77b4;stroke:#1f77b4;\" x=\"128.652113\" xlink:href=\"#m02f868eb55\" y=\"78.0654\"/>\n     <use style=\"fill:#1f77b4;stroke:#1f77b4;\" x=\"89.050598\" xlink:href=\"#m02f868eb55\" y=\"57.887266\"/>\n     <use style=\"fill:#1f77b4;stroke:#1f77b4;\" x=\"148.182928\" xlink:href=\"#m02f868eb55\" y=\"98.275895\"/>\n     <use style=\"fill:#1f77b4;stroke:#1f77b4;\" x=\"131.684482\" xlink:href=\"#m02f868eb55\" y=\"65.012963\"/>\n     <use style=\"fill:#1f77b4;stroke:#1f77b4;\" x=\"102.389611\" xlink:href=\"#m02f868eb55\" y=\"72.225952\"/>\n     <use style=\"fill:#1f77b4;stroke:#1f77b4;\" x=\"131.017318\" xlink:href=\"#m02f868eb55\" y=\"78.326822\"/>\n     <use style=\"fill:#1f77b4;stroke:#1f77b4;\" x=\"184.137911\" xlink:href=\"#m02f868eb55\" y=\"95.322335\"/>\n     <use style=\"fill:#1f77b4;stroke:#1f77b4;\" x=\"66.844161\" xlink:href=\"#m02f868eb55\" y=\"27.187575\"/>\n     <use style=\"fill:#1f77b4;stroke:#1f77b4;\" x=\"146.664521\" xlink:href=\"#m02f868eb55\" y=\"89.976453\"/>\n     <use style=\"fill:#1f77b4;stroke:#1f77b4;\" x=\"142.971427\" xlink:href=\"#m02f868eb55\" y=\"106.789038\"/>\n     <use style=\"fill:#1f77b4;stroke:#1f77b4;\" x=\"142.933692\" xlink:href=\"#m02f868eb55\" y=\"97.271536\"/>\n     <use style=\"fill:#1f77b4;stroke:#1f77b4;\" x=\"140.436349\" xlink:href=\"#m02f868eb55\" y=\"88.197411\"/>\n     <use style=\"fill:#1f77b4;stroke:#1f77b4;\" x=\"117.613213\" xlink:href=\"#m02f868eb55\" y=\"58.62138\"/>\n     <use style=\"fill:#1f77b4;stroke:#1f77b4;\" x=\"122.007626\" xlink:href=\"#m02f868eb55\" y=\"70.800494\"/>\n     <use style=\"fill:#1f77b4;stroke:#1f77b4;\" x=\"113.632644\" xlink:href=\"#m02f868eb55\" y=\"65.432297\"/>\n     <use style=\"fill:#1f77b4;stroke:#1f77b4;\" x=\"149.7308\" xlink:href=\"#m02f868eb55\" y=\"79.763302\"/>\n     <use style=\"fill:#1f77b4;stroke:#1f77b4;\" x=\"116.971821\" xlink:href=\"#m02f868eb55\" y=\"56.414893\"/>\n     <use style=\"fill:#1f77b4;stroke:#1f77b4;\" x=\"169.657237\" xlink:href=\"#m02f868eb55\" y=\"110.404158\"/>\n     <use style=\"fill:#1f77b4;stroke:#1f77b4;\" x=\"120.493855\" xlink:href=\"#m02f868eb55\" y=\"69.278865\"/>\n     <use style=\"fill:#1f77b4;stroke:#1f77b4;\" x=\"116.327365\" xlink:href=\"#m02f868eb55\" y=\"80.752688\"/>\n     <use style=\"fill:#1f77b4;stroke:#1f77b4;\" x=\"147.98803\" xlink:href=\"#m02f868eb55\" y=\"82.708789\"/>\n     <use style=\"fill:#1f77b4;stroke:#1f77b4;\" x=\"168.246479\" xlink:href=\"#m02f868eb55\" y=\"113.899476\"/>\n     <use style=\"fill:#1f77b4;stroke:#1f77b4;\" x=\"167.985744\" xlink:href=\"#m02f868eb55\" y=\"102.008185\"/>\n     <use style=\"fill:#1f77b4;stroke:#1f77b4;\" x=\"101.882616\" xlink:href=\"#m02f868eb55\" y=\"47.692195\"/>\n     <use style=\"fill:#1f77b4;stroke:#1f77b4;\" x=\"85.969977\" xlink:href=\"#m02f868eb55\" y=\"52.046871\"/>\n     <use style=\"fill:#1f77b4;stroke:#1f77b4;\" x=\"100.277199\" xlink:href=\"#m02f868eb55\" y=\"57.249395\"/>\n     <use style=\"fill:#1f77b4;stroke:#1f77b4;\" x=\"140.551236\" xlink:href=\"#m02f868eb55\" y=\"93.938372\"/>\n     <use style=\"fill:#1f77b4;stroke:#1f77b4;\" x=\"189.308785\" xlink:href=\"#m02f868eb55\" y=\"94.418558\"/>\n     <use style=\"fill:#1f77b4;stroke:#1f77b4;\" x=\"119.670183\" xlink:href=\"#m02f868eb55\" y=\"76.803747\"/>\n     <use style=\"fill:#1f77b4;stroke:#1f77b4;\" x=\"94.864166\" xlink:href=\"#m02f868eb55\" y=\"67.6476\"/>\n     <use style=\"fill:#1f77b4;stroke:#1f77b4;\" x=\"66.814796\" xlink:href=\"#m02f868eb55\" y=\"46.173745\"/>\n     <use style=\"fill:#1f77b4;stroke:#1f77b4;\" x=\"125.973973\" xlink:href=\"#m02f868eb55\" y=\"53.0432\"/>\n     <use style=\"fill:#1f77b4;stroke:#1f77b4;\" x=\"152.152661\" xlink:href=\"#m02f868eb55\" y=\"97.087144\"/>\n     <use style=\"fill:#1f77b4;stroke:#1f77b4;\" x=\"168.224436\" xlink:href=\"#m02f868eb55\" y=\"98.540645\"/>\n     <use style=\"fill:#1f77b4;stroke:#1f77b4;\" x=\"100.258843\" xlink:href=\"#m02f868eb55\" y=\"56.357974\"/>\n     <use style=\"fill:#1f77b4;stroke:#1f77b4;\" x=\"129.679302\" xlink:href=\"#m02f868eb55\" y=\"73.946409\"/>\n     <use style=\"fill:#1f77b4;stroke:#1f77b4;\" x=\"130.771743\" xlink:href=\"#m02f868eb55\" y=\"75.377588\"/>\n     <use style=\"fill:#1f77b4;stroke:#1f77b4;\" x=\"125.654206\" xlink:href=\"#m02f868eb55\" y=\"63.053665\"/>\n     <use style=\"fill:#1f77b4;stroke:#1f77b4;\" x=\"108.214425\" xlink:href=\"#m02f868eb55\" y=\"68.970612\"/>\n     <use style=\"fill:#1f77b4;stroke:#1f77b4;\" x=\"106.66646\" xlink:href=\"#m02f868eb55\" y=\"69.465957\"/>\n     <use style=\"fill:#1f77b4;stroke:#1f77b4;\" x=\"138.97813\" xlink:href=\"#m02f868eb55\" y=\"83.644014\"/>\n     <use style=\"fill:#1f77b4;stroke:#1f77b4;\" x=\"90.526073\" xlink:href=\"#m02f868eb55\" y=\"46.877694\"/>\n     <use style=\"fill:#1f77b4;stroke:#1f77b4;\" x=\"161.696545\" xlink:href=\"#m02f868eb55\" y=\"115.065788\"/>\n     <use style=\"fill:#1f77b4;stroke:#1f77b4;\" x=\"159.104424\" xlink:href=\"#m02f868eb55\" y=\"95.938052\"/>\n     <use style=\"fill:#1f77b4;stroke:#1f77b4;\" x=\"124.59972\" xlink:href=\"#m02f868eb55\" y=\"62.306885\"/>\n     <use style=\"fill:#1f77b4;stroke:#1f77b4;\" x=\"138.966427\" xlink:href=\"#m02f868eb55\" y=\"77.081057\"/>\n     <use style=\"fill:#1f77b4;stroke:#1f77b4;\" x=\"133.518746\" xlink:href=\"#m02f868eb55\" y=\"87.935278\"/>\n     <use style=\"fill:#1f77b4;stroke:#1f77b4;\" x=\"190.968038\" xlink:href=\"#m02f868eb55\" y=\"136.922727\"/>\n     <use style=\"fill:#1f77b4;stroke:#1f77b4;\" x=\"107.909811\" xlink:href=\"#m02f868eb55\" y=\"82.775934\"/>\n     <use style=\"fill:#1f77b4;stroke:#1f77b4;\" x=\"145.994787\" xlink:href=\"#m02f868eb55\" y=\"83.159989\"/>\n     <use style=\"fill:#1f77b4;stroke:#1f77b4;\" x=\"194.655604\" xlink:href=\"#m02f868eb55\" y=\"119.701708\"/>\n     <use style=\"fill:#1f77b4;stroke:#1f77b4;\" x=\"118.450528\" xlink:href=\"#m02f868eb55\" y=\"76.064907\"/>\n     <use style=\"fill:#1f77b4;stroke:#1f77b4;\" x=\"197.090054\" xlink:href=\"#m02f868eb55\" y=\"114.604629\"/>\n     <use style=\"fill:#1f77b4;stroke:#1f77b4;\" x=\"141.878967\" xlink:href=\"#m02f868eb55\" y=\"85.58802\"/>\n     <use style=\"fill:#1f77b4;stroke:#1f77b4;\" x=\"133.826284\" xlink:href=\"#m02f868eb55\" y=\"70.175742\"/>\n     <use style=\"fill:#1f77b4;stroke:#1f77b4;\" x=\"121.877749\" xlink:href=\"#m02f868eb55\" y=\"83.059103\"/>\n     <use style=\"fill:#1f77b4;stroke:#1f77b4;\" x=\"153.60452\" xlink:href=\"#m02f868eb55\" y=\"103.323945\"/>\n     <use style=\"fill:#1f77b4;stroke:#1f77b4;\" x=\"126.444656\" xlink:href=\"#m02f868eb55\" y=\"62.014323\"/>\n     <use style=\"fill:#1f77b4;stroke:#1f77b4;\" x=\"89.916987\" xlink:href=\"#m02f868eb55\" y=\"68.077883\"/>\n     <use style=\"fill:#1f77b4;stroke:#1f77b4;\" x=\"151.400578\" xlink:href=\"#m02f868eb55\" y=\"85.954342\"/>\n     <use style=\"fill:#1f77b4;stroke:#1f77b4;\" x=\"81.142843\" xlink:href=\"#m02f868eb55\" y=\"47.77444\"/>\n     <use style=\"fill:#1f77b4;stroke:#1f77b4;\" x=\"136.819949\" xlink:href=\"#m02f868eb55\" y=\"85.662265\"/>\n     <use style=\"fill:#1f77b4;stroke:#1f77b4;\" x=\"83.533796\" xlink:href=\"#m02f868eb55\" y=\"44.27674\"/>\n     <use style=\"fill:#1f77b4;stroke:#1f77b4;\" x=\"129.675116\" xlink:href=\"#m02f868eb55\" y=\"61.823891\"/>\n     <use style=\"fill:#1f77b4;stroke:#1f77b4;\" x=\"109.503882\" xlink:href=\"#m02f868eb55\" y=\"63.829976\"/>\n     <use style=\"fill:#1f77b4;stroke:#1f77b4;\" x=\"85.902829\" xlink:href=\"#m02f868eb55\" y=\"74.588232\"/>\n     <use style=\"fill:#1f77b4;stroke:#1f77b4;\" x=\"133.923524\" xlink:href=\"#m02f868eb55\" y=\"104.02912\"/>\n     <use style=\"fill:#1f77b4;stroke:#1f77b4;\" x=\"146.773891\" xlink:href=\"#m02f868eb55\" y=\"85.492124\"/>\n     <use style=\"fill:#1f77b4;stroke:#1f77b4;\" x=\"129.519417\" xlink:href=\"#m02f868eb55\" y=\"86.074961\"/>\n     <use style=\"fill:#1f77b4;stroke:#1f77b4;\" x=\"129.654392\" xlink:href=\"#m02f868eb55\" y=\"85.294846\"/>\n     <use style=\"fill:#1f77b4;stroke:#1f77b4;\" x=\"99.494152\" xlink:href=\"#m02f868eb55\" y=\"61.572607\"/>\n     <use style=\"fill:#1f77b4;stroke:#1f77b4;\" x=\"140.574055\" xlink:href=\"#m02f868eb55\" y=\"68.659191\"/>\n     <use style=\"fill:#1f77b4;stroke:#1f77b4;\" x=\"133.085627\" xlink:href=\"#m02f868eb55\" y=\"92.042091\"/>\n     <use style=\"fill:#1f77b4;stroke:#1f77b4;\" x=\"156.951819\" xlink:href=\"#m02f868eb55\" y=\"107.437767\"/>\n     <use style=\"fill:#1f77b4;stroke:#1f77b4;\" x=\"137.328849\" xlink:href=\"#m02f868eb55\" y=\"100.781972\"/>\n     <use style=\"fill:#1f77b4;stroke:#1f77b4;\" x=\"115.036151\" xlink:href=\"#m02f868eb55\" y=\"59.205099\"/>\n     <use style=\"fill:#1f77b4;stroke:#1f77b4;\" x=\"170.439907\" xlink:href=\"#m02f868eb55\" y=\"122.389292\"/>\n     <use style=\"fill:#1f77b4;stroke:#1f77b4;\" x=\"153.866828\" xlink:href=\"#m02f868eb55\" y=\"98.280309\"/>\n     <use style=\"fill:#1f77b4;stroke:#1f77b4;\" x=\"69.429498\" xlink:href=\"#m02f868eb55\" y=\"49.163994\"/>\n     <use style=\"fill:#1f77b4;stroke:#1f77b4;\" x=\"137.785085\" xlink:href=\"#m02f868eb55\" y=\"47.761458\"/>\n     <use style=\"fill:#1f77b4;stroke:#1f77b4;\" x=\"77.55083\" xlink:href=\"#m02f868eb55\" y=\"51.339515\"/>\n     <use style=\"fill:#1f77b4;stroke:#1f77b4;\" x=\"95.193169\" xlink:href=\"#m02f868eb55\" y=\"52.393511\"/>\n     <use style=\"fill:#1f77b4;stroke:#1f77b4;\" x=\"110.078707\" xlink:href=\"#m02f868eb55\" y=\"60.270606\"/>\n     <use style=\"fill:#1f77b4;stroke:#1f77b4;\" x=\"119.501331\" xlink:href=\"#m02f868eb55\" y=\"85.056669\"/>\n     <use style=\"fill:#1f77b4;stroke:#1f77b4;\" x=\"134.091568\" xlink:href=\"#m02f868eb55\" y=\"88.86332\"/>\n     <use style=\"fill:#1f77b4;stroke:#1f77b4;\" x=\"106.215849\" xlink:href=\"#m02f868eb55\" y=\"36.782416\"/>\n     <use style=\"fill:#1f77b4;stroke:#1f77b4;\" x=\"115.599445\" xlink:href=\"#m02f868eb55\" y=\"65.566879\"/>\n     <use style=\"fill:#1f77b4;stroke:#1f77b4;\" x=\"130.538181\" xlink:href=\"#m02f868eb55\" y=\"75.089993\"/>\n     <use style=\"fill:#1f77b4;stroke:#1f77b4;\" x=\"137.362787\" xlink:href=\"#m02f868eb55\" y=\"95.657277\"/>\n     <use style=\"fill:#1f77b4;stroke:#1f77b4;\" x=\"132.307676\" xlink:href=\"#m02f868eb55\" y=\"86.597101\"/>\n     <use style=\"fill:#1f77b4;stroke:#1f77b4;\" x=\"125.026094\" xlink:href=\"#m02f868eb55\" y=\"82.240565\"/>\n     <use style=\"fill:#1f77b4;stroke:#1f77b4;\" x=\"141.633104\" xlink:href=\"#m02f868eb55\" y=\"101.26485\"/>\n     <use style=\"fill:#1f77b4;stroke:#1f77b4;\" x=\"157.742711\" xlink:href=\"#m02f868eb55\" y=\"93.491406\"/>\n     <use style=\"fill:#1f77b4;stroke:#1f77b4;\" x=\"144.245059\" xlink:href=\"#m02f868eb55\" y=\"83.384938\"/>\n     <use style=\"fill:#1f77b4;stroke:#1f77b4;\" x=\"92.085926\" xlink:href=\"#m02f868eb55\" y=\"56.609973\"/>\n     <use style=\"fill:#1f77b4;stroke:#1f77b4;\" x=\"122.707086\" xlink:href=\"#m02f868eb55\" y=\"71.274706\"/>\n     <use style=\"fill:#1f77b4;stroke:#1f77b4;\" x=\"156.659986\" xlink:href=\"#m02f868eb55\" y=\"99.817784\"/>\n     <use style=\"fill:#1f77b4;stroke:#1f77b4;\" x=\"166.471782\" xlink:href=\"#m02f868eb55\" y=\"98.551995\"/>\n     <use style=\"fill:#1f77b4;stroke:#1f77b4;\" x=\"99.277981\" xlink:href=\"#m02f868eb55\" y=\"68.691013\"/>\n     <use style=\"fill:#1f77b4;stroke:#1f77b4;\" x=\"130.248571\" xlink:href=\"#m02f868eb55\" y=\"61.439847\"/>\n     <use style=\"fill:#1f77b4;stroke:#1f77b4;\" x=\"192.498518\" xlink:href=\"#m02f868eb55\" y=\"99.41961\"/>\n     <use style=\"fill:#1f77b4;stroke:#1f77b4;\" x=\"144.957651\" xlink:href=\"#m02f868eb55\" y=\"90.412211\"/>\n     <use style=\"fill:#1f77b4;stroke:#1f77b4;\" x=\"184.580797\" xlink:href=\"#m02f868eb55\" y=\"107.95153\"/>\n     <use style=\"fill:#1f77b4;stroke:#1f77b4;\" x=\"176.509617\" xlink:href=\"#m02f868eb55\" y=\"105.188619\"/>\n     <use style=\"fill:#1f77b4;stroke:#1f77b4;\" x=\"90.845872\" xlink:href=\"#m02f868eb55\" y=\"55.452752\"/>\n     <use style=\"fill:#1f77b4;stroke:#1f77b4;\" x=\"118.858207\" xlink:href=\"#m02f868eb55\" y=\"56.288377\"/>\n     <use style=\"fill:#1f77b4;stroke:#1f77b4;\" x=\"170.208775\" xlink:href=\"#m02f868eb55\" y=\"110.175781\"/>\n     <use style=\"fill:#1f77b4;stroke:#1f77b4;\" x=\"72.665125\" xlink:href=\"#m02f868eb55\" y=\"54.854856\"/>\n     <use style=\"fill:#1f77b4;stroke:#1f77b4;\" x=\"172.455865\" xlink:href=\"#m02f868eb55\" y=\"98.519671\"/>\n     <use style=\"fill:#1f77b4;stroke:#1f77b4;\" x=\"92.925837\" xlink:href=\"#m02f868eb55\" y=\"44.661694\"/>\n     <use style=\"fill:#1f77b4;stroke:#1f77b4;\" x=\"151.559473\" xlink:href=\"#m02f868eb55\" y=\"99.996085\"/>\n     <use style=\"fill:#1f77b4;stroke:#1f77b4;\" x=\"106.621893\" xlink:href=\"#m02f868eb55\" y=\"55.152085\"/>\n     <use style=\"fill:#1f77b4;stroke:#1f77b4;\" x=\"168.202744\" xlink:href=\"#m02f868eb55\" y=\"100.248982\"/>\n     <use style=\"fill:#1f77b4;stroke:#1f77b4;\" x=\"137.403419\" xlink:href=\"#m02f868eb55\" y=\"80.423845\"/>\n     <use style=\"fill:#1f77b4;stroke:#1f77b4;\" x=\"132.170048\" xlink:href=\"#m02f868eb55\" y=\"61.290474\"/>\n     <use style=\"fill:#1f77b4;stroke:#1f77b4;\" x=\"132.023844\" xlink:href=\"#m02f868eb55\" y=\"76.806905\"/>\n     <use style=\"fill:#1f77b4;stroke:#1f77b4;\" x=\"170.002042\" xlink:href=\"#m02f868eb55\" y=\"109.903573\"/>\n     <use style=\"fill:#1f77b4;stroke:#1f77b4;\" x=\"174.443892\" xlink:href=\"#m02f868eb55\" y=\"97.447531\"/>\n     <use style=\"fill:#1f77b4;stroke:#1f77b4;\" x=\"185.853524\" xlink:href=\"#m02f868eb55\" y=\"101.975495\"/>\n     <use style=\"fill:#1f77b4;stroke:#1f77b4;\" x=\"148.100475\" xlink:href=\"#m02f868eb55\" y=\"89.824135\"/>\n     <use style=\"fill:#1f77b4;stroke:#1f77b4;\" x=\"126.160486\" xlink:href=\"#m02f868eb55\" y=\"73.819466\"/>\n     <use style=\"fill:#1f77b4;stroke:#1f77b4;\" x=\"89.960881\" xlink:href=\"#m02f868eb55\" y=\"60.044827\"/>\n     <use style=\"fill:#1f77b4;stroke:#1f77b4;\" x=\"121.036324\" xlink:href=\"#m02f868eb55\" y=\"68.683396\"/>\n     <use style=\"fill:#1f77b4;stroke:#1f77b4;\" x=\"160.02422\" xlink:href=\"#m02f868eb55\" y=\"101.394804\"/>\n     <use style=\"fill:#1f77b4;stroke:#1f77b4;\" x=\"164.441798\" xlink:href=\"#m02f868eb55\" y=\"91.441353\"/>\n     <use style=\"fill:#1f77b4;stroke:#1f77b4;\" x=\"141.076578\" xlink:href=\"#m02f868eb55\" y=\"94.852965\"/>\n     <use style=\"fill:#1f77b4;stroke:#1f77b4;\" x=\"120.26351\" xlink:href=\"#m02f868eb55\" y=\"74.166391\"/>\n     <use style=\"fill:#1f77b4;stroke:#1f77b4;\" x=\"130.738334\" xlink:href=\"#m02f868eb55\" y=\"114.888245\"/>\n     <use style=\"fill:#1f77b4;stroke:#1f77b4;\" x=\"96.643406\" xlink:href=\"#m02f868eb55\" y=\"76.865686\"/>\n     <use style=\"fill:#1f77b4;stroke:#1f77b4;\" x=\"158.061136\" xlink:href=\"#m02f868eb55\" y=\"107.320817\"/>\n     <use style=\"fill:#1f77b4;stroke:#1f77b4;\" x=\"153.651692\" xlink:href=\"#m02f868eb55\" y=\"87.531663\"/>\n     <use style=\"fill:#1f77b4;stroke:#1f77b4;\" x=\"140.008709\" xlink:href=\"#m02f868eb55\" y=\"87.848919\"/>\n     <use style=\"fill:#1f77b4;stroke:#1f77b4;\" x=\"139.847238\" xlink:href=\"#m02f868eb55\" y=\"82.946501\"/>\n     <use style=\"fill:#1f77b4;stroke:#1f77b4;\" x=\"153.654601\" xlink:href=\"#m02f868eb55\" y=\"103.361172\"/>\n     <use style=\"fill:#1f77b4;stroke:#1f77b4;\" x=\"136.296608\" xlink:href=\"#m02f868eb55\" y=\"76.166709\"/>\n     <use style=\"fill:#1f77b4;stroke:#1f77b4;\" x=\"107.511691\" xlink:href=\"#m02f868eb55\" y=\"60.335606\"/>\n     <use style=\"fill:#1f77b4;stroke:#1f77b4;\" x=\"159.117529\" xlink:href=\"#m02f868eb55\" y=\"95.454153\"/>\n     <use style=\"fill:#1f77b4;stroke:#1f77b4;\" x=\"117.101352\" xlink:href=\"#m02f868eb55\" y=\"69.854641\"/>\n     <use style=\"fill:#1f77b4;stroke:#1f77b4;\" x=\"170.919708\" xlink:href=\"#m02f868eb55\" y=\"116.663451\"/>\n     <use style=\"fill:#1f77b4;stroke:#1f77b4;\" x=\"110.560083\" xlink:href=\"#m02f868eb55\" y=\"59.916692\"/>\n     <use style=\"fill:#1f77b4;stroke:#1f77b4;\" x=\"84.924612\" xlink:href=\"#m02f868eb55\" y=\"65.80877\"/>\n     <use style=\"fill:#1f77b4;stroke:#1f77b4;\" x=\"81.229086\" xlink:href=\"#m02f868eb55\" y=\"38.969492\"/>\n     <use style=\"fill:#1f77b4;stroke:#1f77b4;\" x=\"125.931115\" xlink:href=\"#m02f868eb55\" y=\"81.60553\"/>\n     <use style=\"fill:#1f77b4;stroke:#1f77b4;\" x=\"166.286577\" xlink:href=\"#m02f868eb55\" y=\"119.435798\"/>\n     <use style=\"fill:#1f77b4;stroke:#1f77b4;\" x=\"81.384778\" xlink:href=\"#m02f868eb55\" y=\"29.455152\"/>\n     <use style=\"fill:#1f77b4;stroke:#1f77b4;\" x=\"180.052541\" xlink:href=\"#m02f868eb55\" y=\"108.939785\"/>\n     <use style=\"fill:#1f77b4;stroke:#1f77b4;\" x=\"68.435794\" xlink:href=\"#m02f868eb55\" y=\"45.962522\"/>\n     <use style=\"fill:#1f77b4;stroke:#1f77b4;\" x=\"131.664835\" xlink:href=\"#m02f868eb55\" y=\"69.87085\"/>\n     <use style=\"fill:#1f77b4;stroke:#1f77b4;\" x=\"106.005304\" xlink:href=\"#m02f868eb55\" y=\"65.580971\"/>\n     <use style=\"fill:#1f77b4;stroke:#1f77b4;\" x=\"185.69275\" xlink:href=\"#m02f868eb55\" y=\"125.637289\"/>\n     <use style=\"fill:#1f77b4;stroke:#1f77b4;\" x=\"111.927185\" xlink:href=\"#m02f868eb55\" y=\"54.255267\"/>\n     <use style=\"fill:#1f77b4;stroke:#1f77b4;\" x=\"80.331685\" xlink:href=\"#m02f868eb55\" y=\"32.709073\"/>\n     <use style=\"fill:#1f77b4;stroke:#1f77b4;\" x=\"157.895718\" xlink:href=\"#m02f868eb55\" y=\"111.083579\"/>\n     <use style=\"fill:#1f77b4;stroke:#1f77b4;\" x=\"178.461868\" xlink:href=\"#m02f868eb55\" y=\"115.850873\"/>\n     <use style=\"fill:#1f77b4;stroke:#1f77b4;\" x=\"154.318178\" xlink:href=\"#m02f868eb55\" y=\"94.902831\"/>\n     <use style=\"fill:#1f77b4;stroke:#1f77b4;\" x=\"117.988632\" xlink:href=\"#m02f868eb55\" y=\"51.36808\"/>\n     <use style=\"fill:#1f77b4;stroke:#1f77b4;\" x=\"110.349493\" xlink:href=\"#m02f868eb55\" y=\"70.752295\"/>\n     <use style=\"fill:#1f77b4;stroke:#1f77b4;\" x=\"122.291133\" xlink:href=\"#m02f868eb55\" y=\"56.721173\"/>\n     <use style=\"fill:#1f77b4;stroke:#1f77b4;\" x=\"78.414034\" xlink:href=\"#m02f868eb55\" y=\"28.587191\"/>\n     <use style=\"fill:#1f77b4;stroke:#1f77b4;\" x=\"176.37924\" xlink:href=\"#m02f868eb55\" y=\"107.517569\"/>\n     <use style=\"fill:#1f77b4;stroke:#1f77b4;\" x=\"171.613244\" xlink:href=\"#m02f868eb55\" y=\"102.310004\"/>\n     <use style=\"fill:#1f77b4;stroke:#1f77b4;\" x=\"191.926563\" xlink:href=\"#m02f868eb55\" y=\"117.014088\"/>\n     <use style=\"fill:#1f77b4;stroke:#1f77b4;\" x=\"122.744348\" xlink:href=\"#m02f868eb55\" y=\"84.06446\"/>\n     <use style=\"fill:#1f77b4;stroke:#1f77b4;\" x=\"147.522973\" xlink:href=\"#m02f868eb55\" y=\"103.272413\"/>\n     <use style=\"fill:#1f77b4;stroke:#1f77b4;\" x=\"140.504551\" xlink:href=\"#m02f868eb55\" y=\"74.353988\"/>\n     <use style=\"fill:#1f77b4;stroke:#1f77b4;\" x=\"82.72366\" xlink:href=\"#m02f868eb55\" y=\"34.245543\"/>\n     <use style=\"fill:#1f77b4;stroke:#1f77b4;\" x=\"69.780497\" xlink:href=\"#m02f868eb55\" y=\"30.216686\"/>\n     <use style=\"fill:#1f77b4;stroke:#1f77b4;\" x=\"130.857986\" xlink:href=\"#m02f868eb55\" y=\"75.841945\"/>\n     <use style=\"fill:#1f77b4;stroke:#1f77b4;\" x=\"183.680716\" xlink:href=\"#m02f868eb55\" y=\"106.575351\"/>\n     <use style=\"fill:#1f77b4;stroke:#1f77b4;\" x=\"105.652113\" xlink:href=\"#m02f868eb55\" y=\"51.966037\"/>\n     <use style=\"fill:#1f77b4;stroke:#1f77b4;\" x=\"154.931576\" xlink:href=\"#m02f868eb55\" y=\"89.206827\"/>\n     <use style=\"fill:#1f77b4;stroke:#1f77b4;\" x=\"166.515999\" xlink:href=\"#m02f868eb55\" y=\"103.020475\"/>\n     <use style=\"fill:#1f77b4;stroke:#1f77b4;\" x=\"154.281473\" xlink:href=\"#m02f868eb55\" y=\"90.032172\"/>\n     <use style=\"fill:#1f77b4;stroke:#1f77b4;\" x=\"139.934979\" xlink:href=\"#m02f868eb55\" y=\"95.96682\"/>\n     <use style=\"fill:#1f77b4;stroke:#1f77b4;\" x=\"108.061971\" xlink:href=\"#m02f868eb55\" y=\"64.089862\"/>\n     <use style=\"fill:#1f77b4;stroke:#1f77b4;\" x=\"130.978791\" xlink:href=\"#m02f868eb55\" y=\"92.009205\"/>\n     <use style=\"fill:#1f77b4;stroke:#1f77b4;\" x=\"128.321139\" xlink:href=\"#m02f868eb55\" y=\"87.789996\"/>\n     <use style=\"fill:#1f77b4;stroke:#1f77b4;\" x=\"173.293073\" xlink:href=\"#m02f868eb55\" y=\"85.985937\"/>\n     <use style=\"fill:#1f77b4;stroke:#1f77b4;\" x=\"119.361322\" xlink:href=\"#m02f868eb55\" y=\"76.741677\"/>\n     <use style=\"fill:#1f77b4;stroke:#1f77b4;\" x=\"145.063904\" xlink:href=\"#m02f868eb55\" y=\"84.181391\"/>\n     <use style=\"fill:#1f77b4;stroke:#1f77b4;\" x=\"111.901809\" xlink:href=\"#m02f868eb55\" y=\"72.989818\"/>\n     <use style=\"fill:#1f77b4;stroke:#1f77b4;\" x=\"164.158095\" xlink:href=\"#m02f868eb55\" y=\"105.345715\"/>\n     <use style=\"fill:#1f77b4;stroke:#1f77b4;\" x=\"98.679719\" xlink:href=\"#m02f868eb55\" y=\"71.535377\"/>\n     <use style=\"fill:#1f77b4;stroke:#1f77b4;\" x=\"172.066278\" xlink:href=\"#m02f868eb55\" y=\"83.437611\"/>\n     <use style=\"fill:#1f77b4;stroke:#1f77b4;\" x=\"134.44875\" xlink:href=\"#m02f868eb55\" y=\"89.628343\"/>\n     <use style=\"fill:#1f77b4;stroke:#1f77b4;\" x=\"133.488891\" xlink:href=\"#m02f868eb55\" y=\"66.360925\"/>\n     <use style=\"fill:#1f77b4;stroke:#1f77b4;\" x=\"171.353896\" xlink:href=\"#m02f868eb55\" y=\"128.560393\"/>\n     <use style=\"fill:#1f77b4;stroke:#1f77b4;\" x=\"184.521485\" xlink:href=\"#m02f868eb55\" y=\"103.92129\"/>\n     <use style=\"fill:#1f77b4;stroke:#1f77b4;\" x=\"97.216524\" xlink:href=\"#m02f868eb55\" y=\"61.002829\"/>\n     <use style=\"fill:#1f77b4;stroke:#1f77b4;\" x=\"82.72992\" xlink:href=\"#m02f868eb55\" y=\"44.34942\"/>\n     <use style=\"fill:#1f77b4;stroke:#1f77b4;\" x=\"159.471541\" xlink:href=\"#m02f868eb55\" y=\"75.760936\"/>\n     <use style=\"fill:#1f77b4;stroke:#1f77b4;\" x=\"140.253282\" xlink:href=\"#m02f868eb55\" y=\"72.704621\"/>\n     <use style=\"fill:#1f77b4;stroke:#1f77b4;\" x=\"96.929003\" xlink:href=\"#m02f868eb55\" y=\"68.652238\"/>\n     <use style=\"fill:#1f77b4;stroke:#1f77b4;\" x=\"122.014722\" xlink:href=\"#m02f868eb55\" y=\"80.540401\"/>\n     <use style=\"fill:#1f77b4;stroke:#1f77b4;\" x=\"193.840439\" xlink:href=\"#m02f868eb55\" y=\"99.628918\"/>\n     <use style=\"fill:#1f77b4;stroke:#1f77b4;\" x=\"125.826417\" xlink:href=\"#m02f868eb55\" y=\"76.681303\"/>\n     <use style=\"fill:#1f77b4;stroke:#1f77b4;\" x=\"154.417597\" xlink:href=\"#m02f868eb55\" y=\"95.159396\"/>\n     <use style=\"fill:#1f77b4;stroke:#1f77b4;\" x=\"139.361673\" xlink:href=\"#m02f868eb55\" y=\"87.496917\"/>\n     <use style=\"fill:#1f77b4;stroke:#1f77b4;\" x=\"70.908469\" xlink:href=\"#m02f868eb55\" y=\"44.660011\"/>\n     <use style=\"fill:#1f77b4;stroke:#1f77b4;\" x=\"163.694181\" xlink:href=\"#m02f868eb55\" y=\"86.148047\"/>\n     <use style=\"fill:#1f77b4;stroke:#1f77b4;\" x=\"112.175568\" xlink:href=\"#m02f868eb55\" y=\"63.272915\"/>\n     <use style=\"fill:#1f77b4;stroke:#1f77b4;\" x=\"80.703007\" xlink:href=\"#m02f868eb55\" y=\"48.851207\"/>\n     <use style=\"fill:#1f77b4;stroke:#1f77b4;\" x=\"91.807545\" xlink:href=\"#m02f868eb55\" y=\"47.217808\"/>\n     <use style=\"fill:#1f77b4;stroke:#1f77b4;\" x=\"101.240176\" xlink:href=\"#m02f868eb55\" y=\"54.918927\"/>\n     <use style=\"fill:#1f77b4;stroke:#1f77b4;\" x=\"169.602217\" xlink:href=\"#m02f868eb55\" y=\"102.569362\"/>\n     <use style=\"fill:#1f77b4;stroke:#1f77b4;\" x=\"122.479312\" xlink:href=\"#m02f868eb55\" y=\"60.755407\"/>\n     <use style=\"fill:#1f77b4;stroke:#1f77b4;\" x=\"134.046433\" xlink:href=\"#m02f868eb55\" y=\"72.228335\"/>\n     <use style=\"fill:#1f77b4;stroke:#1f77b4;\" x=\"173.378494\" xlink:href=\"#m02f868eb55\" y=\"82.971218\"/>\n     <use style=\"fill:#1f77b4;stroke:#1f77b4;\" x=\"135.160131\" xlink:href=\"#m02f868eb55\" y=\"75.179088\"/>\n     <use style=\"fill:#1f77b4;stroke:#1f77b4;\" x=\"165.111067\" xlink:href=\"#m02f868eb55\" y=\"102.076059\"/>\n     <use style=\"fill:#1f77b4;stroke:#1f77b4;\" x=\"98.569922\" xlink:href=\"#m02f868eb55\" y=\"57.637145\"/>\n     <use style=\"fill:#1f77b4;stroke:#1f77b4;\" x=\"144.647188\" xlink:href=\"#m02f868eb55\" y=\"88.128387\"/>\n     <use style=\"fill:#1f77b4;stroke:#1f77b4;\" x=\"81.08219\" xlink:href=\"#m02f868eb55\" y=\"59.774446\"/>\n     <use style=\"fill:#1f77b4;stroke:#1f77b4;\" x=\"139.554177\" xlink:href=\"#m02f868eb55\" y=\"71.142621\"/>\n     <use style=\"fill:#1f77b4;stroke:#1f77b4;\" x=\"189.789748\" xlink:href=\"#m02f868eb55\" y=\"124.499691\"/>\n     <use style=\"fill:#1f77b4;stroke:#1f77b4;\" x=\"157.001648\" xlink:href=\"#m02f868eb55\" y=\"102.66517\"/>\n     <use style=\"fill:#1f77b4;stroke:#1f77b4;\" x=\"109.182762\" xlink:href=\"#m02f868eb55\" y=\"58.894806\"/>\n     <use style=\"fill:#1f77b4;stroke:#1f77b4;\" x=\"147.549437\" xlink:href=\"#m02f868eb55\" y=\"95.213965\"/>\n     <use style=\"fill:#1f77b4;stroke:#1f77b4;\" x=\"116.536696\" xlink:href=\"#m02f868eb55\" y=\"66.999969\"/>\n     <use style=\"fill:#1f77b4;stroke:#1f77b4;\" x=\"133.689889\" xlink:href=\"#m02f868eb55\" y=\"75.582021\"/>\n     <use style=\"fill:#1f77b4;stroke:#1f77b4;\" x=\"63.816042\" xlink:href=\"#m02f868eb55\" y=\"48.952355\"/>\n     <use style=\"fill:#1f77b4;stroke:#1f77b4;\" x=\"69.968915\" xlink:href=\"#m02f868eb55\" y=\"41.515006\"/>\n     <use style=\"fill:#1f77b4;stroke:#1f77b4;\" x=\"87.831124\" xlink:href=\"#m02f868eb55\" y=\"42.420675\"/>\n     <use style=\"fill:#1f77b4;stroke:#1f77b4;\" x=\"141.378878\" xlink:href=\"#m02f868eb55\" y=\"86.724122\"/>\n     <use style=\"fill:#1f77b4;stroke:#1f77b4;\" x=\"164.934506\" xlink:href=\"#m02f868eb55\" y=\"99.508245\"/>\n     <use style=\"fill:#1f77b4;stroke:#1f77b4;\" x=\"110.596101\" xlink:href=\"#m02f868eb55\" y=\"62.976805\"/>\n     <use style=\"fill:#1f77b4;stroke:#1f77b4;\" x=\"108.028661\" xlink:href=\"#m02f868eb55\" y=\"57.698399\"/>\n     <use style=\"fill:#1f77b4;stroke:#1f77b4;\" x=\"148.462063\" xlink:href=\"#m02f868eb55\" y=\"92.866014\"/>\n     <use style=\"fill:#1f77b4;stroke:#1f77b4;\" x=\"105.932769\" xlink:href=\"#m02f868eb55\" y=\"54.406986\"/>\n     <use style=\"fill:#1f77b4;stroke:#1f77b4;\" x=\"62.9542\" xlink:href=\"#m02f868eb55\" y=\"43.853406\"/>\n     <use style=\"fill:#1f77b4;stroke:#1f77b4;\" x=\"151.955664\" xlink:href=\"#m02f868eb55\" y=\"103.16129\"/>\n     <use style=\"fill:#1f77b4;stroke:#1f77b4;\" x=\"111.853574\" xlink:href=\"#m02f868eb55\" y=\"61.423323\"/>\n     <use style=\"fill:#1f77b4;stroke:#1f77b4;\" x=\"155.615229\" xlink:href=\"#m02f868eb55\" y=\"100.723184\"/>\n     <use style=\"fill:#1f77b4;stroke:#1f77b4;\" x=\"141.658799\" xlink:href=\"#m02f868eb55\" y=\"85.843628\"/>\n     <use style=\"fill:#1f77b4;stroke:#1f77b4;\" x=\"160.070773\" xlink:href=\"#m02f868eb55\" y=\"94.413001\"/>\n     <use style=\"fill:#1f77b4;stroke:#1f77b4;\" x=\"117.497328\" xlink:href=\"#m02f868eb55\" y=\"68.402073\"/>\n     <use style=\"fill:#1f77b4;stroke:#1f77b4;\" x=\"129.796041\" xlink:href=\"#m02f868eb55\" y=\"68.362585\"/>\n     <use style=\"fill:#1f77b4;stroke:#1f77b4;\" x=\"187.203965\" xlink:href=\"#m02f868eb55\" y=\"112.502009\"/>\n     <use style=\"fill:#1f77b4;stroke:#1f77b4;\" x=\"140.875966\" xlink:href=\"#m02f868eb55\" y=\"83.112253\"/>\n     <use style=\"fill:#1f77b4;stroke:#1f77b4;\" x=\"139.09832\" xlink:href=\"#m02f868eb55\" y=\"70.25819\"/>\n     <use style=\"fill:#1f77b4;stroke:#1f77b4;\" x=\"123.675477\" xlink:href=\"#m02f868eb55\" y=\"63.083609\"/>\n     <use style=\"fill:#1f77b4;stroke:#1f77b4;\" x=\"154.219436\" xlink:href=\"#m02f868eb55\" y=\"112.502859\"/>\n     <use style=\"fill:#1f77b4;stroke:#1f77b4;\" x=\"144.603463\" xlink:href=\"#m02f868eb55\" y=\"87.417432\"/>\n     <use style=\"fill:#1f77b4;stroke:#1f77b4;\" x=\"187.544503\" xlink:href=\"#m02f868eb55\" y=\"93.727906\"/>\n     <use style=\"fill:#1f77b4;stroke:#1f77b4;\" x=\"170.064687\" xlink:href=\"#m02f868eb55\" y=\"126.190981\"/>\n     <use style=\"fill:#1f77b4;stroke:#1f77b4;\" x=\"109.615873\" xlink:href=\"#m02f868eb55\" y=\"72.893511\"/>\n     <use style=\"fill:#1f77b4;stroke:#1f77b4;\" x=\"167.679266\" xlink:href=\"#m02f868eb55\" y=\"115.735278\"/>\n     <use style=\"fill:#1f77b4;stroke:#1f77b4;\" x=\"103.100442\" xlink:href=\"#m02f868eb55\" y=\"60.065812\"/>\n     <use style=\"fill:#1f77b4;stroke:#1f77b4;\" x=\"159.314589\" xlink:href=\"#m02f868eb55\" y=\"97.770673\"/>\n     <use style=\"fill:#1f77b4;stroke:#1f77b4;\" x=\"73.461652\" xlink:href=\"#m02f868eb55\" y=\"52.656922\"/>\n     <use style=\"fill:#1f77b4;stroke:#1f77b4;\" x=\"101.160182\" xlink:href=\"#m02f868eb55\" y=\"52.491468\"/>\n     <use style=\"fill:#1f77b4;stroke:#1f77b4;\" x=\"141.244737\" xlink:href=\"#m02f868eb55\" y=\"85.609871\"/>\n     <use style=\"fill:#1f77b4;stroke:#1f77b4;\" x=\"128.098149\" xlink:href=\"#m02f868eb55\" y=\"93.015383\"/>\n     <use style=\"fill:#1f77b4;stroke:#1f77b4;\" x=\"114.657116\" xlink:href=\"#m02f868eb55\" y=\"53.772962\"/>\n     <use style=\"fill:#1f77b4;stroke:#1f77b4;\" x=\"202.215794\" xlink:href=\"#m02f868eb55\" y=\"110.769795\"/>\n     <use style=\"fill:#1f77b4;stroke:#1f77b4;\" x=\"141.426656\" xlink:href=\"#m02f868eb55\" y=\"98.63297\"/>\n     <use style=\"fill:#1f77b4;stroke:#1f77b4;\" x=\"97.81913\" xlink:href=\"#m02f868eb55\" y=\"57.946519\"/>\n     <use style=\"fill:#1f77b4;stroke:#1f77b4;\" x=\"155.905101\" xlink:href=\"#m02f868eb55\" y=\"88.557607\"/>\n     <use style=\"fill:#1f77b4;stroke:#1f77b4;\" x=\"163.512288\" xlink:href=\"#m02f868eb55\" y=\"95.419638\"/>\n     <use style=\"fill:#1f77b4;stroke:#1f77b4;\" x=\"174.169753\" xlink:href=\"#m02f868eb55\" y=\"108.489162\"/>\n     <use style=\"fill:#1f77b4;stroke:#1f77b4;\" x=\"111.893111\" xlink:href=\"#m02f868eb55\" y=\"91.23397\"/>\n     <use style=\"fill:#1f77b4;stroke:#1f77b4;\" x=\"146.410324\" xlink:href=\"#m02f868eb55\" y=\"106.81128\"/>\n     <use style=\"fill:#1f77b4;stroke:#1f77b4;\" x=\"81.877185\" xlink:href=\"#m02f868eb55\" y=\"58.488394\"/>\n     <use style=\"fill:#1f77b4;stroke:#1f77b4;\" x=\"168.005135\" xlink:href=\"#m02f868eb55\" y=\"85.266884\"/>\n     <use style=\"fill:#1f77b4;stroke:#1f77b4;\" x=\"142.256922\" xlink:href=\"#m02f868eb55\" y=\"92.061915\"/>\n     <use style=\"fill:#1f77b4;stroke:#1f77b4;\" x=\"110.365259\" xlink:href=\"#m02f868eb55\" y=\"69.382427\"/>\n     <use style=\"fill:#1f77b4;stroke:#1f77b4;\" x=\"97.903562\" xlink:href=\"#m02f868eb55\" y=\"61.059009\"/>\n     <use style=\"fill:#1f77b4;stroke:#1f77b4;\" x=\"97.48395\" xlink:href=\"#m02f868eb55\" y=\"65.338841\"/>\n     <use style=\"fill:#1f77b4;stroke:#1f77b4;\" x=\"139.18587\" xlink:href=\"#m02f868eb55\" y=\"99.75222\"/>\n     <use style=\"fill:#1f77b4;stroke:#1f77b4;\" x=\"129.9158\" xlink:href=\"#m02f868eb55\" y=\"92.429911\"/>\n     <use style=\"fill:#1f77b4;stroke:#1f77b4;\" x=\"117.434721\" xlink:href=\"#m02f868eb55\" y=\"64.521523\"/>\n     <use style=\"fill:#1f77b4;stroke:#1f77b4;\" x=\"135.325236\" xlink:href=\"#m02f868eb55\" y=\"74.201287\"/>\n     <use style=\"fill:#1f77b4;stroke:#1f77b4;\" x=\"157.367739\" xlink:href=\"#m02f868eb55\" y=\"108.506675\"/>\n     <use style=\"fill:#1f77b4;stroke:#1f77b4;\" x=\"162.922901\" xlink:href=\"#m02f868eb55\" y=\"87.138218\"/>\n     <use style=\"fill:#1f77b4;stroke:#1f77b4;\" x=\"116.729151\" xlink:href=\"#m02f868eb55\" y=\"60.857632\"/>\n     <use style=\"fill:#1f77b4;stroke:#1f77b4;\" x=\"165.023994\" xlink:href=\"#m02f868eb55\" y=\"97.083524\"/>\n     <use style=\"fill:#1f77b4;stroke:#1f77b4;\" x=\"160.447804\" xlink:href=\"#m02f868eb55\" y=\"98.359865\"/>\n     <use style=\"fill:#1f77b4;stroke:#1f77b4;\" x=\"129.272332\" xlink:href=\"#m02f868eb55\" y=\"76.482156\"/>\n     <use style=\"fill:#1f77b4;stroke:#1f77b4;\" x=\"116.515278\" xlink:href=\"#m02f868eb55\" y=\"64.777237\"/>\n     <use style=\"fill:#1f77b4;stroke:#1f77b4;\" x=\"134.663159\" xlink:href=\"#m02f868eb55\" y=\"80.401484\"/>\n     <use style=\"fill:#1f77b4;stroke:#1f77b4;\" x=\"154.249315\" xlink:href=\"#m02f868eb55\" y=\"108.009614\"/>\n     <use style=\"fill:#1f77b4;stroke:#1f77b4;\" x=\"91.634193\" xlink:href=\"#m02f868eb55\" y=\"55.738149\"/>\n     <use style=\"fill:#1f77b4;stroke:#1f77b4;\" x=\"99.318398\" xlink:href=\"#m02f868eb55\" y=\"66.900615\"/>\n     <use style=\"fill:#1f77b4;stroke:#1f77b4;\" x=\"100.598229\" xlink:href=\"#m02f868eb55\" y=\"49.433895\"/>\n     <use style=\"fill:#1f77b4;stroke:#1f77b4;\" x=\"74.990684\" xlink:href=\"#m02f868eb55\" y=\"26.265723\"/>\n     <use style=\"fill:#1f77b4;stroke:#1f77b4;\" x=\"174.317591\" xlink:href=\"#m02f868eb55\" y=\"101.212319\"/>\n     <use style=\"fill:#1f77b4;stroke:#1f77b4;\" x=\"122.829884\" xlink:href=\"#m02f868eb55\" y=\"81.07732\"/>\n     <use style=\"fill:#1f77b4;stroke:#1f77b4;\" x=\"109.840566\" xlink:href=\"#m02f868eb55\" y=\"54.082778\"/>\n     <use style=\"fill:#1f77b4;stroke:#1f77b4;\" x=\"129.915281\" xlink:href=\"#m02f868eb55\" y=\"73.577031\"/>\n     <use style=\"fill:#1f77b4;stroke:#1f77b4;\" x=\"73.638242\" xlink:href=\"#m02f868eb55\" y=\"43.942537\"/>\n     <use style=\"fill:#1f77b4;stroke:#1f77b4;\" x=\"120.979474\" xlink:href=\"#m02f868eb55\" y=\"74.937261\"/>\n     <use style=\"fill:#1f77b4;stroke:#1f77b4;\" x=\"155.902224\" xlink:href=\"#m02f868eb55\" y=\"75.11388\"/>\n     <use style=\"fill:#1f77b4;stroke:#1f77b4;\" x=\"104.969973\" xlink:href=\"#m02f868eb55\" y=\"68.934395\"/>\n     <use style=\"fill:#1f77b4;stroke:#1f77b4;\" x=\"188.952699\" xlink:href=\"#m02f868eb55\" y=\"85.181999\"/>\n     <use style=\"fill:#1f77b4;stroke:#1f77b4;\" x=\"154.153438\" xlink:href=\"#m02f868eb55\" y=\"94.02903\"/>\n     <use style=\"fill:#1f77b4;stroke:#1f77b4;\" x=\"124.395146\" xlink:href=\"#m02f868eb55\" y=\"59.093366\"/>\n     <use style=\"fill:#1f77b4;stroke:#1f77b4;\" x=\"131.7869\" xlink:href=\"#m02f868eb55\" y=\"78.314131\"/>\n     <use style=\"fill:#1f77b4;stroke:#1f77b4;\" x=\"104.926212\" xlink:href=\"#m02f868eb55\" y=\"63.654803\"/>\n     <use style=\"fill:#1f77b4;stroke:#1f77b4;\" x=\"170.669648\" xlink:href=\"#m02f868eb55\" y=\"100.349972\"/>\n     <use style=\"fill:#1f77b4;stroke:#1f77b4;\" x=\"111.432978\" xlink:href=\"#m02f868eb55\" y=\"57.09255\"/>\n     <use style=\"fill:#1f77b4;stroke:#1f77b4;\" x=\"156.610652\" xlink:href=\"#m02f868eb55\" y=\"90.51667\"/>\n     <use style=\"fill:#1f77b4;stroke:#1f77b4;\" x=\"103.122866\" xlink:href=\"#m02f868eb55\" y=\"56.534153\"/>\n     <use style=\"fill:#1f77b4;stroke:#1f77b4;\" x=\"124.264628\" xlink:href=\"#m02f868eb55\" y=\"58.540772\"/>\n     <use style=\"fill:#1f77b4;stroke:#1f77b4;\" x=\"148.071866\" xlink:href=\"#m02f868eb55\" y=\"85.664809\"/>\n     <use style=\"fill:#1f77b4;stroke:#1f77b4;\" x=\"106.590091\" xlink:href=\"#m02f868eb55\" y=\"47.834267\"/>\n     <use style=\"fill:#1f77b4;stroke:#1f77b4;\" x=\"103.577826\" xlink:href=\"#m02f868eb55\" y=\"70.592539\"/>\n     <use style=\"fill:#1f77b4;stroke:#1f77b4;\" x=\"143.116505\" xlink:href=\"#m02f868eb55\" y=\"90.018879\"/>\n     <use style=\"fill:#1f77b4;stroke:#1f77b4;\" x=\"186.807843\" xlink:href=\"#m02f868eb55\" y=\"97.718385\"/>\n     <use style=\"fill:#1f77b4;stroke:#1f77b4;\" x=\"103.519524\" xlink:href=\"#m02f868eb55\" y=\"75.355402\"/>\n     <use style=\"fill:#1f77b4;stroke:#1f77b4;\" x=\"137.18993\" xlink:href=\"#m02f868eb55\" y=\"91.719416\"/>\n     <use style=\"fill:#1f77b4;stroke:#1f77b4;\" x=\"77.876815\" xlink:href=\"#m02f868eb55\" y=\"73.997196\"/>\n     <use style=\"fill:#1f77b4;stroke:#1f77b4;\" x=\"96.446442\" xlink:href=\"#m02f868eb55\" y=\"64.442241\"/>\n     <use style=\"fill:#1f77b4;stroke:#1f77b4;\" x=\"155.391721\" xlink:href=\"#m02f868eb55\" y=\"103.296947\"/>\n     <use style=\"fill:#1f77b4;stroke:#1f77b4;\" x=\"132.372572\" xlink:href=\"#m02f868eb55\" y=\"79.876066\"/>\n     <use style=\"fill:#1f77b4;stroke:#1f77b4;\" x=\"176.473601\" xlink:href=\"#m02f868eb55\" y=\"110.538827\"/>\n     <use style=\"fill:#1f77b4;stroke:#1f77b4;\" x=\"151.552505\" xlink:href=\"#m02f868eb55\" y=\"82.415136\"/>\n     <use style=\"fill:#1f77b4;stroke:#1f77b4;\" x=\"143.173715\" xlink:href=\"#m02f868eb55\" y=\"80.231211\"/>\n     <use style=\"fill:#1f77b4;stroke:#1f77b4;\" x=\"97.90129\" xlink:href=\"#m02f868eb55\" y=\"66.891033\"/>\n     <use style=\"fill:#1f77b4;stroke:#1f77b4;\" x=\"157.169002\" xlink:href=\"#m02f868eb55\" y=\"94.674254\"/>\n     <use style=\"fill:#1f77b4;stroke:#1f77b4;\" x=\"174.629561\" xlink:href=\"#m02f868eb55\" y=\"95.741033\"/>\n     <use style=\"fill:#1f77b4;stroke:#1f77b4;\" x=\"132.977799\" xlink:href=\"#m02f868eb55\" y=\"89.886756\"/>\n     <use style=\"fill:#1f77b4;stroke:#1f77b4;\" x=\"150.725556\" xlink:href=\"#m02f868eb55\" y=\"104.921592\"/>\n     <use style=\"fill:#1f77b4;stroke:#1f77b4;\" x=\"126.613333\" xlink:href=\"#m02f868eb55\" y=\"73.36708\"/>\n     <use style=\"fill:#1f77b4;stroke:#1f77b4;\" x=\"147.839098\" xlink:href=\"#m02f868eb55\" y=\"91.43164\"/>\n     <use style=\"fill:#1f77b4;stroke:#1f77b4;\" x=\"178.2482\" xlink:href=\"#m02f868eb55\" y=\"112.78044\"/>\n     <use style=\"fill:#1f77b4;stroke:#1f77b4;\" x=\"146.689413\" xlink:href=\"#m02f868eb55\" y=\"80.604723\"/>\n     <use style=\"fill:#1f77b4;stroke:#1f77b4;\" x=\"117.046329\" xlink:href=\"#m02f868eb55\" y=\"85.684898\"/>\n     <use style=\"fill:#1f77b4;stroke:#1f77b4;\" x=\"131.83619\" xlink:href=\"#m02f868eb55\" y=\"77.66316\"/>\n     <use style=\"fill:#1f77b4;stroke:#1f77b4;\" x=\"163.025581\" xlink:href=\"#m02f868eb55\" y=\"100.265937\"/>\n     <use style=\"fill:#1f77b4;stroke:#1f77b4;\" x=\"132.1548\" xlink:href=\"#m02f868eb55\" y=\"68.806256\"/>\n     <use style=\"fill:#1f77b4;stroke:#1f77b4;\" x=\"170.884619\" xlink:href=\"#m02f868eb55\" y=\"104.902432\"/>\n     <use style=\"fill:#1f77b4;stroke:#1f77b4;\" x=\"111.89865\" xlink:href=\"#m02f868eb55\" y=\"74.837971\"/>\n     <use style=\"fill:#1f77b4;stroke:#1f77b4;\" x=\"102.168713\" xlink:href=\"#m02f868eb55\" y=\"70.653503\"/>\n     <use style=\"fill:#1f77b4;stroke:#1f77b4;\" x=\"125.25463\" xlink:href=\"#m02f868eb55\" y=\"74.721163\"/>\n     <use style=\"fill:#1f77b4;stroke:#1f77b4;\" x=\"138.334793\" xlink:href=\"#m02f868eb55\" y=\"74.882844\"/>\n     <use style=\"fill:#1f77b4;stroke:#1f77b4;\" x=\"112.09885\" xlink:href=\"#m02f868eb55\" y=\"70.659383\"/>\n     <use style=\"fill:#1f77b4;stroke:#1f77b4;\" x=\"140.961537\" xlink:href=\"#m02f868eb55\" y=\"81.683921\"/>\n     <use style=\"fill:#1f77b4;stroke:#1f77b4;\" x=\"129.13955\" xlink:href=\"#m02f868eb55\" y=\"64.354909\"/>\n     <use style=\"fill:#1f77b4;stroke:#1f77b4;\" x=\"172.070712\" xlink:href=\"#m02f868eb55\" y=\"105.588965\"/>\n     <use style=\"fill:#1f77b4;stroke:#1f77b4;\" x=\"141.754057\" xlink:href=\"#m02f868eb55\" y=\"91.960622\"/>\n     <use style=\"fill:#1f77b4;stroke:#1f77b4;\" x=\"167.332287\" xlink:href=\"#m02f868eb55\" y=\"101.043561\"/>\n     <use style=\"fill:#1f77b4;stroke:#1f77b4;\" x=\"101.008646\" xlink:href=\"#m02f868eb55\" y=\"42.490102\"/>\n     <use style=\"fill:#1f77b4;stroke:#1f77b4;\" x=\"133.330178\" xlink:href=\"#m02f868eb55\" y=\"86.250033\"/>\n     <use style=\"fill:#1f77b4;stroke:#1f77b4;\" x=\"91.522965\" xlink:href=\"#m02f868eb55\" y=\"70.505042\"/>\n     <use style=\"fill:#1f77b4;stroke:#1f77b4;\" x=\"133.301957\" xlink:href=\"#m02f868eb55\" y=\"85.146838\"/>\n     <use style=\"fill:#1f77b4;stroke:#1f77b4;\" x=\"138.040476\" xlink:href=\"#m02f868eb55\" y=\"77.321991\"/>\n     <use style=\"fill:#1f77b4;stroke:#1f77b4;\" x=\"116.63591\" xlink:href=\"#m02f868eb55\" y=\"60.281453\"/>\n     <use style=\"fill:#1f77b4;stroke:#1f77b4;\" x=\"215.08473\" xlink:href=\"#m02f868eb55\" y=\"130.723649\"/>\n     <use style=\"fill:#1f77b4;stroke:#1f77b4;\" x=\"137.633774\" xlink:href=\"#m02f868eb55\" y=\"76.41319\"/>\n     <use style=\"fill:#1f77b4;stroke:#1f77b4;\" x=\"126.130121\" xlink:href=\"#m02f868eb55\" y=\"82.573054\"/>\n     <use style=\"fill:#1f77b4;stroke:#1f77b4;\" x=\"101.722056\" xlink:href=\"#m02f868eb55\" y=\"43.875274\"/>\n     <use style=\"fill:#1f77b4;stroke:#1f77b4;\" x=\"105.093409\" xlink:href=\"#m02f868eb55\" y=\"68.186702\"/>\n     <use style=\"fill:#1f77b4;stroke:#1f77b4;\" x=\"103.248678\" xlink:href=\"#m02f868eb55\" y=\"66.948767\"/>\n     <use style=\"fill:#1f77b4;stroke:#1f77b4;\" x=\"155.294333\" xlink:href=\"#m02f868eb55\" y=\"90.421817\"/>\n     <use style=\"fill:#1f77b4;stroke:#1f77b4;\" x=\"189.461314\" xlink:href=\"#m02f868eb55\" y=\"108.315663\"/>\n     <use style=\"fill:#1f77b4;stroke:#1f77b4;\" x=\"148.08442\" xlink:href=\"#m02f868eb55\" y=\"96.425414\"/>\n     <use style=\"fill:#1f77b4;stroke:#1f77b4;\" x=\"142.942088\" xlink:href=\"#m02f868eb55\" y=\"94.646811\"/>\n     <use style=\"fill:#1f77b4;stroke:#1f77b4;\" x=\"143.777408\" xlink:href=\"#m02f868eb55\" y=\"86.60631\"/>\n     <use style=\"fill:#1f77b4;stroke:#1f77b4;\" x=\"138.268122\" xlink:href=\"#m02f868eb55\" y=\"83.344069\"/>\n     <use style=\"fill:#1f77b4;stroke:#1f77b4;\" x=\"124.707896\" xlink:href=\"#m02f868eb55\" y=\"80.601657\"/>\n     <use style=\"fill:#1f77b4;stroke:#1f77b4;\" x=\"98.380453\" xlink:href=\"#m02f868eb55\" y=\"61.523093\"/>\n     <use style=\"fill:#1f77b4;stroke:#1f77b4;\" x=\"172.955455\" xlink:href=\"#m02f868eb55\" y=\"114.563136\"/>\n     <use style=\"fill:#1f77b4;stroke:#1f77b4;\" x=\"120.154648\" xlink:href=\"#m02f868eb55\" y=\"75.794634\"/>\n     <use style=\"fill:#1f77b4;stroke:#1f77b4;\" x=\"142.472338\" xlink:href=\"#m02f868eb55\" y=\"79.25025\"/>\n     <use style=\"fill:#1f77b4;stroke:#1f77b4;\" x=\"141.636935\" xlink:href=\"#m02f868eb55\" y=\"73.795186\"/>\n     <use style=\"fill:#1f77b4;stroke:#1f77b4;\" x=\"165.15431\" xlink:href=\"#m02f868eb55\" y=\"112.812416\"/>\n     <use style=\"fill:#1f77b4;stroke:#1f77b4;\" x=\"135.852462\" xlink:href=\"#m02f868eb55\" y=\"81.939233\"/>\n     <use style=\"fill:#1f77b4;stroke:#1f77b4;\" x=\"106.469477\" xlink:href=\"#m02f868eb55\" y=\"70.920882\"/>\n     <use style=\"fill:#1f77b4;stroke:#1f77b4;\" x=\"85.952854\" xlink:href=\"#m02f868eb55\" y=\"44.110315\"/>\n     <use style=\"fill:#1f77b4;stroke:#1f77b4;\" x=\"139.697665\" xlink:href=\"#m02f868eb55\" y=\"95.225459\"/>\n     <use style=\"fill:#1f77b4;stroke:#1f77b4;\" x=\"68.781533\" xlink:href=\"#m02f868eb55\" y=\"31.082307\"/>\n     <use style=\"fill:#1f77b4;stroke:#1f77b4;\" x=\"104.499599\" xlink:href=\"#m02f868eb55\" y=\"61.523131\"/>\n     <use style=\"fill:#1f77b4;stroke:#1f77b4;\" x=\"138.213767\" xlink:href=\"#m02f868eb55\" y=\"84.056031\"/>\n     <use style=\"fill:#1f77b4;stroke:#1f77b4;\" x=\"93.803277\" xlink:href=\"#m02f868eb55\" y=\"49.761771\"/>\n     <use style=\"fill:#1f77b4;stroke:#1f77b4;\" x=\"124.212741\" xlink:href=\"#m02f868eb55\" y=\"79.796974\"/>\n     <use style=\"fill:#1f77b4;stroke:#1f77b4;\" x=\"123.703859\" xlink:href=\"#m02f868eb55\" y=\"66.972236\"/>\n     <use style=\"fill:#1f77b4;stroke:#1f77b4;\" x=\"166.486247\" xlink:href=\"#m02f868eb55\" y=\"108.792619\"/>\n     <use style=\"fill:#1f77b4;stroke:#1f77b4;\" x=\"150.27017\" xlink:href=\"#m02f868eb55\" y=\"93.264421\"/>\n     <use style=\"fill:#1f77b4;stroke:#1f77b4;\" x=\"122.162351\" xlink:href=\"#m02f868eb55\" y=\"58.968118\"/>\n     <use style=\"fill:#1f77b4;stroke:#1f77b4;\" x=\"114.488277\" xlink:href=\"#m02f868eb55\" y=\"74.597172\"/>\n     <use style=\"fill:#1f77b4;stroke:#1f77b4;\" x=\"187.901096\" xlink:href=\"#m02f868eb55\" y=\"116.335639\"/>\n     <use style=\"fill:#1f77b4;stroke:#1f77b4;\" x=\"162.321557\" xlink:href=\"#m02f868eb55\" y=\"92.663373\"/>\n     <use style=\"fill:#1f77b4;stroke:#1f77b4;\" x=\"120.73831\" xlink:href=\"#m02f868eb55\" y=\"76.74885\"/>\n     <use style=\"fill:#1f77b4;stroke:#1f77b4;\" x=\"106.247173\" xlink:href=\"#m02f868eb55\" y=\"57.454353\"/>\n     <use style=\"fill:#1f77b4;stroke:#1f77b4;\" x=\"184.048835\" xlink:href=\"#m02f868eb55\" y=\"112.102657\"/>\n     <use style=\"fill:#1f77b4;stroke:#1f77b4;\" x=\"148.612819\" xlink:href=\"#m02f868eb55\" y=\"94.475261\"/>\n     <use style=\"fill:#1f77b4;stroke:#1f77b4;\" x=\"78.589827\" xlink:href=\"#m02f868eb55\" y=\"45.945528\"/>\n     <use style=\"fill:#1f77b4;stroke:#1f77b4;\" x=\"160.245479\" xlink:href=\"#m02f868eb55\" y=\"83.620711\"/>\n     <use style=\"fill:#1f77b4;stroke:#1f77b4;\" x=\"163.795762\" xlink:href=\"#m02f868eb55\" y=\"100.680716\"/>\n     <use style=\"fill:#1f77b4;stroke:#1f77b4;\" x=\"175.972377\" xlink:href=\"#m02f868eb55\" y=\"120.021895\"/>\n     <use style=\"fill:#1f77b4;stroke:#1f77b4;\" x=\"153.290652\" xlink:href=\"#m02f868eb55\" y=\"88.66693\"/>\n     <use style=\"fill:#1f77b4;stroke:#1f77b4;\" x=\"164.477723\" xlink:href=\"#m02f868eb55\" y=\"113.356001\"/>\n     <use style=\"fill:#1f77b4;stroke:#1f77b4;\" x=\"156.766866\" xlink:href=\"#m02f868eb55\" y=\"94.025419\"/>\n     <use style=\"fill:#1f77b4;stroke:#1f77b4;\" x=\"215.364915\" xlink:href=\"#m02f868eb55\" y=\"128.805686\"/>\n    </g>\n   </g>\n   <g id=\"matplotlib.axis_1\">\n    <g id=\"xtick_1\">\n     <g id=\"line2d_1\">\n      <defs>\n       <path d=\"M 0 0 \nL 0 3.5 \n\" id=\"mde5a14f4a8\" style=\"stroke:#000000;stroke-width:0.8;\"/>\n      </defs>\n      <g>\n       <use style=\"stroke:#000000;stroke-width:0.8;\" x=\"72.946868\" xlink:href=\"#mde5a14f4a8\" y=\"143.1\"/>\n      </g>\n     </g>\n     <g id=\"text_1\">\n      <!-- −2 -->\n      <defs>\n       <path d=\"M 10.59375 35.5 \nL 73.1875 35.5 \nL 73.1875 27.203125 \nL 10.59375 27.203125 \nz\n\" id=\"DejaVuSans-8722\"/>\n       <path d=\"M 19.1875 8.296875 \nL 53.609375 8.296875 \nL 53.609375 0 \nL 7.328125 0 \nL 7.328125 8.296875 \nQ 12.9375 14.109375 22.625 23.890625 \nQ 32.328125 33.6875 34.8125 36.53125 \nQ 39.546875 41.84375 41.421875 45.53125 \nQ 43.3125 49.21875 43.3125 52.78125 \nQ 43.3125 58.59375 39.234375 62.25 \nQ 35.15625 65.921875 28.609375 65.921875 \nQ 23.96875 65.921875 18.8125 64.3125 \nQ 13.671875 62.703125 7.8125 59.421875 \nL 7.8125 69.390625 \nQ 13.765625 71.78125 18.9375 73 \nQ 24.125 74.21875 28.421875 74.21875 \nQ 39.75 74.21875 46.484375 68.546875 \nQ 53.21875 62.890625 53.21875 53.421875 \nQ 53.21875 48.921875 51.53125 44.890625 \nQ 49.859375 40.875 45.40625 35.40625 \nQ 44.1875 33.984375 37.640625 27.21875 \nQ 31.109375 20.453125 19.1875 8.296875 \nz\n\" id=\"DejaVuSans-50\"/>\n      </defs>\n      <g transform=\"translate(65.575775 157.698438)scale(0.1 -0.1)\">\n       <use xlink:href=\"#DejaVuSans-8722\"/>\n       <use x=\"83.789062\" xlink:href=\"#DejaVuSans-50\"/>\n      </g>\n     </g>\n    </g>\n    <g id=\"xtick_2\">\n     <g id=\"line2d_2\">\n      <g>\n       <use style=\"stroke:#000000;stroke-width:0.8;\" x=\"133.723757\" xlink:href=\"#mde5a14f4a8\" y=\"143.1\"/>\n      </g>\n     </g>\n     <g id=\"text_2\">\n      <!-- 0 -->\n      <defs>\n       <path d=\"M 31.78125 66.40625 \nQ 24.171875 66.40625 20.328125 58.90625 \nQ 16.5 51.421875 16.5 36.375 \nQ 16.5 21.390625 20.328125 13.890625 \nQ 24.171875 6.390625 31.78125 6.390625 \nQ 39.453125 6.390625 43.28125 13.890625 \nQ 47.125 21.390625 47.125 36.375 \nQ 47.125 51.421875 43.28125 58.90625 \nQ 39.453125 66.40625 31.78125 66.40625 \nz\nM 31.78125 74.21875 \nQ 44.046875 74.21875 50.515625 64.515625 \nQ 56.984375 54.828125 56.984375 36.375 \nQ 56.984375 17.96875 50.515625 8.265625 \nQ 44.046875 -1.421875 31.78125 -1.421875 \nQ 19.53125 -1.421875 13.0625 8.265625 \nQ 6.59375 17.96875 6.59375 36.375 \nQ 6.59375 54.828125 13.0625 64.515625 \nQ 19.53125 74.21875 31.78125 74.21875 \nz\n\" id=\"DejaVuSans-48\"/>\n      </defs>\n      <g transform=\"translate(130.542507 157.698438)scale(0.1 -0.1)\">\n       <use xlink:href=\"#DejaVuSans-48\"/>\n      </g>\n     </g>\n    </g>\n    <g id=\"xtick_3\">\n     <g id=\"line2d_3\">\n      <g>\n       <use style=\"stroke:#000000;stroke-width:0.8;\" x=\"194.500645\" xlink:href=\"#mde5a14f4a8\" y=\"143.1\"/>\n      </g>\n     </g>\n     <g id=\"text_3\">\n      <!-- 2 -->\n      <g transform=\"translate(191.319395 157.698438)scale(0.1 -0.1)\">\n       <use xlink:href=\"#DejaVuSans-50\"/>\n      </g>\n     </g>\n    </g>\n   </g>\n   <g id=\"matplotlib.axis_2\">\n    <g id=\"ytick_1\">\n     <g id=\"line2d_4\">\n      <defs>\n       <path d=\"M 0 0 \nL -3.5 0 \n\" id=\"mc415504c83\" style=\"stroke:#000000;stroke-width:0.8;\"/>\n      </defs>\n      <g>\n       <use style=\"stroke:#000000;stroke-width:0.8;\" x=\"28.942188\" xlink:href=\"#mc415504c83\" y=\"129.825256\"/>\n      </g>\n     </g>\n     <g id=\"text_4\">\n      <!-- −5 -->\n      <defs>\n       <path d=\"M 10.796875 72.90625 \nL 49.515625 72.90625 \nL 49.515625 64.59375 \nL 19.828125 64.59375 \nL 19.828125 46.734375 \nQ 21.96875 47.46875 24.109375 47.828125 \nQ 26.265625 48.1875 28.421875 48.1875 \nQ 40.625 48.1875 47.75 41.5 \nQ 54.890625 34.8125 54.890625 23.390625 \nQ 54.890625 11.625 47.5625 5.09375 \nQ 40.234375 -1.421875 26.90625 -1.421875 \nQ 22.3125 -1.421875 17.546875 -0.640625 \nQ 12.796875 0.140625 7.71875 1.703125 \nL 7.71875 11.625 \nQ 12.109375 9.234375 16.796875 8.0625 \nQ 21.484375 6.890625 26.703125 6.890625 \nQ 35.15625 6.890625 40.078125 11.328125 \nQ 45.015625 15.765625 45.015625 23.390625 \nQ 45.015625 31 40.078125 35.4375 \nQ 35.15625 39.890625 26.703125 39.890625 \nQ 22.75 39.890625 18.8125 39.015625 \nQ 14.890625 38.140625 10.796875 36.28125 \nz\n\" id=\"DejaVuSans-53\"/>\n      </defs>\n      <g transform=\"translate(7.2 133.624475)scale(0.1 -0.1)\">\n       <use xlink:href=\"#DejaVuSans-8722\"/>\n       <use x=\"83.789062\" xlink:href=\"#DejaVuSans-53\"/>\n      </g>\n     </g>\n    </g>\n    <g id=\"ytick_2\">\n     <g id=\"line2d_5\">\n      <g>\n       <use style=\"stroke:#000000;stroke-width:0.8;\" x=\"28.942188\" xlink:href=\"#mc415504c83\" y=\"102.923998\"/>\n      </g>\n     </g>\n     <g id=\"text_5\">\n      <!-- 0 -->\n      <g transform=\"translate(15.579688 106.723217)scale(0.1 -0.1)\">\n       <use xlink:href=\"#DejaVuSans-48\"/>\n      </g>\n     </g>\n    </g>\n    <g id=\"ytick_3\">\n     <g id=\"line2d_6\">\n      <g>\n       <use style=\"stroke:#000000;stroke-width:0.8;\" x=\"28.942188\" xlink:href=\"#mc415504c83\" y=\"76.022741\"/>\n      </g>\n     </g>\n     <g id=\"text_6\">\n      <!-- 5 -->\n      <g transform=\"translate(15.579688 79.82196)scale(0.1 -0.1)\">\n       <use xlink:href=\"#DejaVuSans-53\"/>\n      </g>\n     </g>\n    </g>\n    <g id=\"ytick_4\">\n     <g id=\"line2d_7\">\n      <g>\n       <use style=\"stroke:#000000;stroke-width:0.8;\" x=\"28.942188\" xlink:href=\"#mc415504c83\" y=\"49.121483\"/>\n      </g>\n     </g>\n     <g id=\"text_7\">\n      <!-- 10 -->\n      <defs>\n       <path d=\"M 12.40625 8.296875 \nL 28.515625 8.296875 \nL 28.515625 63.921875 \nL 10.984375 60.40625 \nL 10.984375 69.390625 \nL 28.421875 72.90625 \nL 38.28125 72.90625 \nL 38.28125 8.296875 \nL 54.390625 8.296875 \nL 54.390625 0 \nL 12.40625 0 \nz\n\" id=\"DejaVuSans-49\"/>\n      </defs>\n      <g transform=\"translate(9.217188 52.920702)scale(0.1 -0.1)\">\n       <use xlink:href=\"#DejaVuSans-49\"/>\n       <use x=\"63.623047\" xlink:href=\"#DejaVuSans-48\"/>\n      </g>\n     </g>\n    </g>\n    <g id=\"ytick_5\">\n     <g id=\"line2d_8\">\n      <g>\n       <use style=\"stroke:#000000;stroke-width:0.8;\" x=\"28.942188\" xlink:href=\"#mc415504c83\" y=\"22.220226\"/>\n      </g>\n     </g>\n     <g id=\"text_8\">\n      <!-- 15 -->\n      <g transform=\"translate(9.217188 26.019445)scale(0.1 -0.1)\">\n       <use xlink:href=\"#DejaVuSans-49\"/>\n       <use x=\"63.623047\" xlink:href=\"#DejaVuSans-53\"/>\n      </g>\n     </g>\n    </g>\n   </g>\n   <g id=\"patch_3\">\n    <path d=\"M 28.942188 143.1 \nL 28.942188 7.2 \n\" style=\"fill:none;stroke:#000000;stroke-linecap:square;stroke-linejoin:miter;stroke-width:0.8;\"/>\n   </g>\n   <g id=\"patch_4\">\n    <path d=\"M 224.242188 143.1 \nL 224.242188 7.2 \n\" style=\"fill:none;stroke:#000000;stroke-linecap:square;stroke-linejoin:miter;stroke-width:0.8;\"/>\n   </g>\n   <g id=\"patch_5\">\n    <path d=\"M 28.942188 143.1 \nL 224.242188 143.1 \n\" style=\"fill:none;stroke:#000000;stroke-linecap:square;stroke-linejoin:miter;stroke-width:0.8;\"/>\n   </g>\n   <g id=\"patch_6\">\n    <path d=\"M 28.942188 7.2 \nL 224.242188 7.2 \n\" style=\"fill:none;stroke:#000000;stroke-linecap:square;stroke-linejoin:miter;stroke-width:0.8;\"/>\n   </g>\n  </g>\n </g>\n <defs>\n  <clipPath id=\"p89f6c30166\">\n   <rect height=\"135.9\" width=\"195.3\" x=\"28.942188\" y=\"7.2\"/>\n  </clipPath>\n </defs>\n</svg>\n"
          },
          "metadata": {
            "tags": [],
            "needs_background": "light"
          }
        }
      ]
    },
    {
      "cell_type": "markdown",
      "metadata": {
        "origin_pos": 12,
        "id": "QgVf8P-ZisLa"
      },
      "source": [
        "## Reading the Dataset\n",
        "\n",
        "Recall that training models consists of\n",
        "making multiple passes over the dataset,\n",
        "grabbing one minibatch of examples at a time,\n",
        "and using them to update our model.\n",
        "Since this process is so fundamental\n",
        "to training machine learning algorithms,\n",
        "it is worth defining a utility function\n",
        "to shuffle the dataset and access it in minibatches.\n",
        "\n",
        "In the following code, we define the `data_iter` function\n",
        "to demonstrate one possible implementation of this functionality.\n",
        "The function takes a batch size, a matrix of features,\n",
        "and a vector of labels, yielding minibatches of the size `batch_size`.\n",
        "Each minibatch consists of a tuple of features and labels.\n"
      ]
    },
    {
      "cell_type": "code",
      "metadata": {
        "origin_pos": 13,
        "tab": [
          "pytorch"
        ],
        "id": "gDFPLCMYisLa"
      },
      "source": [
        "def data_iter(batch_size, features, labels):\n",
        "    num_examples = len(features)\n",
        "    indices = list(range(num_examples))\n",
        "    # The examples are read at random, in no particular order\n",
        "    random.shuffle(indices)\n",
        "    for i in range(0, num_examples, batch_size):\n",
        "        batch_indices = torch.tensor(\n",
        "            indices[i: min(i + batch_size, num_examples)])\n",
        "        yield features[batch_indices], labels[batch_indices]"
      ],
      "execution_count": 15,
      "outputs": []
    },
    {
      "cell_type": "markdown",
      "metadata": {
        "origin_pos": 15,
        "id": "ZPq1T-t3isLd"
      },
      "source": [
        "In general, note that we want to use reasonably sized minibatches\n",
        "to take advantage of the GPU hardware,\n",
        "which excels at parallelizing operations.\n",
        "Because each example can be fed through our models in parallel\n",
        "and the gradient of the loss function for each example can also be taken in parallel,\n",
        "GPUs allow us to process hundreds of examples in scarcely more time\n",
        "than it might take to process just a single example.\n",
        "\n",
        "To build some intuition, let us read and print\n",
        "the first small batch of data examples.\n",
        "The shape of the features in each minibatch tells us\n",
        "both the minibatch size and the number of input features.\n",
        "Likewise, our minibatch of labels will have a shape given by `batch_size`.\n"
      ]
    },
    {
      "cell_type": "code",
      "metadata": {
        "origin_pos": 16,
        "tab": [
          "pytorch"
        ],
        "id": "j0Ft01N6isLd",
        "outputId": "fa04cd05-e2ea-43b7-9b1d-801606e91398",
        "colab": {
          "base_uri": "https://localhost:8080/"
        }
      },
      "source": [
        "batch_size = 10\n",
        "\n",
        "for X, y in data_iter(batch_size, features, labels):\n",
        "    print(X, '\\n', y)\n",
        "    break"
      ],
      "execution_count": 16,
      "outputs": [
        {
          "output_type": "stream",
          "text": [
            "tensor([[-0.8184,  1.0781],\n",
            "        [-0.2155,  0.9642],\n",
            "        [-1.0248, -0.6925],\n",
            "        [ 0.4430, -1.2679],\n",
            "        [-1.7576,  0.4175],\n",
            "        [ 0.5410,  1.1206],\n",
            "        [-1.2141, -1.4696],\n",
            "        [-0.0025,  1.7599],\n",
            "        [-1.0689, -0.5930],\n",
            "        [ 1.4520, -0.3070]]) \n",
            " tensor([[-1.0908],\n",
            "        [ 0.4940],\n",
            "        [ 4.5022],\n",
            "        [ 9.3918],\n",
            "        [-0.7225],\n",
            "        [ 1.4645],\n",
            "        [ 6.7649],\n",
            "        [-1.7802],\n",
            "        [ 4.0789],\n",
            "        [ 8.1466]])\n"
          ],
          "name": "stdout"
        }
      ]
    },
    {
      "cell_type": "markdown",
      "metadata": {
        "origin_pos": 17,
        "id": "CX0skpdIisLg"
      },
      "source": [
        "As we run the iteration, we obtain distinct minibatches\n",
        "successively until the entire dataset has been exhausted (try this).\n",
        "While the iteration implemented above is good for didactic purposes,\n",
        "it is inefficient in ways that might get us in trouble on real problems.\n",
        "For example, it requires that we load all the data in memory\n",
        "and that we perform lots of random memory access.\n",
        "The built-in iterators implemented in a deep learning framework\n",
        "are considerably more efficient and they can deal\n",
        "with both data stored in files and data fed via data streams.\n",
        "\n",
        "\n",
        "## Initializing Model Parameters\n",
        "\n",
        "Before we can begin optimizing our model's parameters by minibatch stochastic gradient descent,\n",
        "we need to have some parameters in the first place.\n",
        "In the following code, we initialize weights by sampling\n",
        "random numbers from a normal distribution with mean 0\n",
        "and a standard deviation of 0.01, and setting the bias to 0.\n"
      ]
    },
    {
      "cell_type": "code",
      "metadata": {
        "origin_pos": 19,
        "tab": [
          "pytorch"
        ],
        "id": "HQX5nSvGisLg"
      },
      "source": [
        "w = torch.normal(0, 0.01, size=(2,1), requires_grad=True)\n",
        "b = torch.zeros(1, requires_grad=True)"
      ],
      "execution_count": 17,
      "outputs": []
    },
    {
      "cell_type": "markdown",
      "metadata": {
        "origin_pos": 21,
        "id": "CscsDvKQisLj"
      },
      "source": [
        "After initializing our parameters,\n",
        "our next task is to update them until\n",
        "they fit our data sufficiently well.\n",
        "Each update requires taking the gradient\n",
        "of our loss function with respect to the parameters.\n",
        "Given this gradient, we can update each parameter\n",
        "in the direction that may reduce the loss.\n",
        "\n",
        "Since nobody wants to compute gradients explicitly\n",
        "(this is tedious and error prone),\n",
        "we use automatic differentiation,\n",
        "as introduced in :numref:`sec_autograd`, to compute the gradient.\n",
        "\n",
        "\n",
        "## Defining the Model\n",
        "\n",
        "Next, we must define our model,\n",
        "relating its inputs and parameters to its outputs.\n",
        "Recall that to calculate the output of the linear model,\n",
        "we simply take the matrix-vector dot product\n",
        "of the input features $\\mathbf{X}$ and the model weights $\\mathbf{w}$,\n",
        "and add the offset $b$ to each example.\n",
        "Note that below $\\mathbf{Xw}$  is a vector and $b$ is a scalar.\n",
        "Recall the broadcasting mechanism as described in :numref:`subsec_broadcasting`.\n",
        "When we add a vector and a scalar,\n",
        "the scalar is added to each component of the vector.\n"
      ]
    },
    {
      "cell_type": "code",
      "metadata": {
        "origin_pos": 22,
        "tab": [
          "pytorch"
        ],
        "id": "UkmVTUmZisLj"
      },
      "source": [
        "def linreg(X, w, b):  #@save\n",
        "    \"\"\"The linear regression model.\"\"\"\n",
        "    return torch.matmul(X, w) + b"
      ],
      "execution_count": 18,
      "outputs": []
    },
    {
      "cell_type": "markdown",
      "metadata": {
        "origin_pos": 23,
        "id": "U8pGeg7qisLl"
      },
      "source": [
        "## Defining the Loss Function\n",
        "\n",
        "Since updating our model requires taking\n",
        "the gradient of our loss function,\n",
        "we ought to define the loss function first.\n",
        "Here we will use the squared loss function\n",
        "as described in :numref:`sec_linear_regression`.\n",
        "In the implementation, we need to transform the true value `y`\n",
        "into the predicted value's shape `y_hat`.\n",
        "The result returned by the following function\n",
        "will also have the same shape as `y_hat`.\n"
      ]
    },
    {
      "cell_type": "code",
      "metadata": {
        "origin_pos": 24,
        "tab": [
          "pytorch"
        ],
        "id": "qARwG8gPisLm"
      },
      "source": [
        "def squared_loss(y_hat, y):  #@save\n",
        "    \"\"\"Squared loss.\"\"\"\n",
        "    return (y_hat - y.reshape(y_hat.shape)) ** 2 / 2"
      ],
      "execution_count": 19,
      "outputs": []
    },
    {
      "cell_type": "markdown",
      "metadata": {
        "origin_pos": 25,
        "id": "O9MrBF_WisLo"
      },
      "source": [
        "## Defining the Optimization Algorithm\n",
        "\n",
        "As we discussed in :numref:`sec_linear_regression`,\n",
        "linear regression has a closed-form solution.\n",
        "However, this is not a book about linear regression:\n",
        "it is a book about deep learning.\n",
        "Since none of the other models that this book introduces\n",
        "can be solved analytically, we will take this opportunity to introduce your first working example of\n",
        "minibatch stochastic gradient descent.\n",
        "\n",
        "\n",
        "At each step, using one minibatch randomly drawn from our dataset,\n",
        "we will estimate the gradient of the loss with respect to our parameters.\n",
        "Next, we will update our parameters\n",
        "in the direction that may reduce the loss.\n",
        "The following code applies the minibatch stochastic gradient descent update,\n",
        "given a set of parameters, a learning rate, and a batch size.\n",
        "The size of the update step is determined by the learning rate `lr`.\n",
        "Because our loss is calculated as a sum over the minibatch of examples,\n",
        "we normalize our step size by the batch size (`batch_size`),\n",
        "so that the magnitude of a typical step size\n",
        "does not depend heavily on our choice of the batch size.\n"
      ]
    },
    {
      "cell_type": "code",
      "metadata": {
        "origin_pos": 27,
        "tab": [
          "pytorch"
        ],
        "id": "kby8Qbn-isLp"
      },
      "source": [
        "def sgd(params, lr, batch_size):  #@save\n",
        "    \"\"\"Minibatch stochastic gradient descent.\"\"\"\n",
        "    for param in params:\n",
        "        param.data.sub_(lr*param.grad/batch_size)\n",
        "        param.grad.data.zero_()"
      ],
      "execution_count": 20,
      "outputs": []
    },
    {
      "cell_type": "markdown",
      "metadata": {
        "origin_pos": 29,
        "id": "SNMd3drHisLr"
      },
      "source": [
        "## Training\n",
        "\n",
        "Now that we have all of the parts in place,\n",
        "we are ready to implement the main training loop.\n",
        "It is crucial that you understand this code\n",
        "because you will see nearly identical training loops\n",
        "over and over again throughout your career in deep learning.\n",
        "\n",
        "In each iteration, we will grab a minibatch of training examples,\n",
        "and pass them through our model to obtain a set of predictions.\n",
        "After calculating the loss, we initiate the backwards pass through the network,\n",
        "storing the gradients with respect to each parameter.\n",
        "Finally, we will call the optimization algorithm `sgd`\n",
        "to update the model parameters.\n",
        "\n",
        "In summary, we will execute the following loop:\n",
        "\n",
        "* Initialize parameters $(\\mathbf{w}, b)$\n",
        "* Repeat until done\n",
        "    * Compute gradient $\\mathbf{g} \\leftarrow \\partial_{(\\mathbf{w},b)} \\frac{1}{|\\mathcal{B}|} \\sum_{i \\in \\mathcal{B}} l(\\mathbf{x}^{(i)}, y^{(i)}, \\mathbf{w}, b)$\n",
        "    * Update parameters $(\\mathbf{w}, b) \\leftarrow (\\mathbf{w}, b) - \\eta \\mathbf{g}$\n",
        "\n",
        "In each *epoch*,\n",
        "we will iterate through the entire dataset\n",
        "(using the `data_iter` function) once\n",
        "passing through every example in the training dataset\n",
        "(assuming that the number of examples is divisible by the batch size).\n",
        "The number of epochs `num_epochs` and the learning rate `lr` are both hyperparameters,\n",
        "which we set here to 3 and 0.03, respectively.\n",
        "Unfortunately, setting hyperparameters is tricky\n",
        "and requires some adjustment by trial and error.\n",
        "We elide these details for now but revise them\n",
        "later in\n",
        ":numref:`chap_optimization`.\n"
      ]
    },
    {
      "cell_type": "code",
      "metadata": {
        "origin_pos": 30,
        "tab": [
          "pytorch"
        ],
        "id": "A6Q8FrcyisLs"
      },
      "source": [
        "lr = 0.03\n",
        "num_epochs = 3\n",
        "net = linreg\n",
        "loss = squared_loss"
      ],
      "execution_count": 21,
      "outputs": []
    },
    {
      "cell_type": "code",
      "metadata": {
        "origin_pos": 32,
        "tab": [
          "pytorch"
        ],
        "id": "3rh9hVm4isLu",
        "outputId": "44e9e2bf-fb8a-4da1-a82d-665adcbab5d8",
        "colab": {
          "base_uri": "https://localhost:8080/"
        }
      },
      "source": [
        "for epoch in range(num_epochs):\n",
        "    for X, y in data_iter(batch_size, features, labels):\n",
        "        l = loss(net(X, w, b), y)  # Minibatch loss in `X` and `y`\n",
        "        # Compute gradient on `l` with respect to [`w`, `b`]\n",
        "        l.sum().backward()\n",
        "        sgd([w, b], lr, batch_size)  # Update parameters using their gradient\n",
        "    with torch.no_grad():\n",
        "        train_l = loss(net(features, w, b), labels)\n",
        "        print(f'epoch {epoch + 1}, loss {float(train_l.mean()):f}')"
      ],
      "execution_count": 22,
      "outputs": [
        {
          "output_type": "stream",
          "text": [
            "epoch 1, loss 0.047939\n",
            "epoch 2, loss 0.000215\n",
            "epoch 3, loss 0.000050\n"
          ],
          "name": "stdout"
        }
      ]
    },
    {
      "cell_type": "markdown",
      "metadata": {
        "origin_pos": 34,
        "id": "_rFv6GyAisLy"
      },
      "source": [
        "In this case, because we synthesized the dataset ourselves,\n",
        "we know precisely what the true parameters are.\n",
        "Thus, we can evaluate our success in training\n",
        "by comparing the true parameters\n",
        "with those that we learned through our training loop.\n",
        "Indeed they turn out to be very close to each other.\n"
      ]
    },
    {
      "cell_type": "code",
      "metadata": {
        "origin_pos": 35,
        "tab": [
          "pytorch"
        ],
        "id": "9U7zc_RzisLy",
        "outputId": "9e7c6336-16a6-49c9-8303-f84218a4e364",
        "colab": {
          "base_uri": "https://localhost:8080/"
        }
      },
      "source": [
        "print(f'error in estimating w: {true_w - w.reshape(true_w.shape)}')\n",
        "print(f'error in estimating b: {true_b - b}')"
      ],
      "execution_count": 23,
      "outputs": [
        {
          "output_type": "stream",
          "text": [
            "error in estimating w: tensor([ 0.0012, -0.0005], grad_fn=<SubBackward0>)\n",
            "error in estimating b: tensor([-6.8188e-05], grad_fn=<RsubBackward1>)\n"
          ],
          "name": "stdout"
        }
      ]
    },
    {
      "cell_type": "markdown",
      "metadata": {
        "origin_pos": 36,
        "id": "PO581JBHisL0"
      },
      "source": [
        "Note that we should not take it for granted\n",
        "that we are able to recover the parameters perfectly.\n",
        "However, in machine learning, we are typically less concerned\n",
        "with recovering true underlying parameters,\n",
        "and more concerned with parameters that lead to highly accurate prediction.\n",
        "Fortunately, even on difficult optimization problems,\n",
        "stochastic gradient descent can often find remarkably good solutions,\n",
        "owing partly to the fact that, for deep networks,\n",
        "there exist many configurations of the parameters\n",
        "that lead to highly accurate prediction.\n",
        "\n",
        "\n",
        "## Summary\n",
        "\n",
        "* We saw how a deep network can be implemented and optimized from scratch, using just tensors and auto differentiation, without any need for defining layers or fancy optimizers.\n",
        "* This section only scratches the surface of what is possible. In the following sections, we will describe additional models based on the concepts that we have just introduced and learn how to implement them more concisely.\n",
        "\n",
        "\n",
        "## Exercises\n",
        "\n",
        "1. What would happen if we were to initialize the weights to zero. Would the algorithm still work?\n",
        "1. Assume that you are\n",
        "   [Georg Simon Ohm](https://en.wikipedia.org/wiki/Georg_Ohm) trying to come up\n",
        "   with a model between voltage and current. Can you use auto differentiation to learn the parameters of your model?\n",
        "1. Can you use [Planck's Law](https://en.wikipedia.org/wiki/Planck%27s_law) to determine the temperature of an object using spectral energy density?\n",
        "1. What are the problems you might encounter if you wanted to  compute the second derivatives? How would you fix them?\n",
        "1.  Why is the `reshape` function needed in the `squared_loss` function?\n",
        "1. Experiment using different learning rates to find out how fast the loss function value drops.\n",
        "1. If the number of examples cannot be divided by the batch size, what happens to the `data_iter` function's behavior?\n"
      ]
    },
    {
      "cell_type": "markdown",
      "metadata": {
        "origin_pos": 38,
        "tab": [
          "pytorch"
        ],
        "id": "62i6D_HqisL1"
      },
      "source": [
        "[Discussions](https://discuss.d2l.ai/t/43)\n"
      ]
    }
  ]
}